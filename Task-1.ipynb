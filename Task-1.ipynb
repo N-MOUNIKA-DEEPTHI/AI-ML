{
  "nbformat": 4,
  "nbformat_minor": 0,
  "metadata": {
    "colab": {
      "provenance": [],
      "authorship_tag": "ABX9TyOqSTOw1DHmlfFPtI2hmW7W"
    },
    "kernelspec": {
      "name": "python3",
      "display_name": "Python 3"
    },
    "language_info": {
      "name": "python"
    }
  },
  "cells": [
    {
      "cell_type": "markdown",
      "source": [
        "#TASK-1\n",
        "#1. Read the given three CSV files to different pandas dataframes."
      ],
      "metadata": {
        "id": "1nY6hRGSElsw"
      }
    },
    {
      "cell_type": "code",
      "source": [
        "import pandas as pd\n",
        "df1=pd.read_csv(\"Customers.csv\")\n",
        "df2=pd.read_csv(\"Transaction.csv\")\n",
        "df3=pd.read_csv(\"Continent.csv\")\n",
        "df4=pd.read_csv(\"Studies.csv\")\n",
        "df5=pd.read_csv(\"Software.csv\")\n",
        "df6=pd.read_csv(\"Programmer.csv\")"
      ],
      "metadata": {
        "id": "qkVXrkKyEl5v"
      },
      "execution_count": null,
      "outputs": []
    },
    {
      "cell_type": "code",
      "source": [
        "print(df1.head())\n",
        "print(df2.head())\n",
        "print(df3.head())"
      ],
      "metadata": {
        "colab": {
          "base_uri": "https://localhost:8080/"
        },
        "id": "1yAOSTa8FmLP",
        "outputId": "8d56f8ac-6cc1-44ef-ea4b-65bf80d8c3a9"
      },
      "execution_count": null,
      "outputs": [
        {
          "output_type": "stream",
          "name": "stdout",
          "text": [
            "   customer_id  region_id  start_date    end_date\n",
            "0            1          3  02-01-2020  03-01-2020\n",
            "1            2          3  03-01-2020  17-01-2020\n",
            "2            3          5  27-01-2020  18-02-2020\n",
            "3            4          5  07-01-2020  19-01-2020\n",
            "4            5          3  15-01-2020  23-01-2020\n",
            "   customer_id    txn_date txn_type  txn_amount\n",
            "0          429  21-01-2020  deposit          82\n",
            "1          155  10-01-2020  deposit         712\n",
            "2          398  01-01-2020  deposit         196\n",
            "3          255  14-01-2020  deposit         563\n",
            "4          185  29-01-2020  deposit         626\n",
            "   region_id region_name\n",
            "0          1   Australia\n",
            "1          2     America\n",
            "2          3      Africa\n",
            "3          4        Asia\n",
            "4          5      Europe\n"
          ]
        }
      ]
    },
    {
      "cell_type": "code",
      "source": [
        "print(\"customers csv  file shape:\",df1.shape)  # Print the number of rows and columns\n",
        "!head Customers.csv\n",
        "# ! : In Jupyter notebooks, this is used to run shell commands.\n",
        "# head : A Unix command that outputs the first part of files.\n",
        "#Customers.csv : The name of the file from which you want to see the first few lines.\n",
        "print(\"Transaction csv  file shape:\",df2.shape)\n",
        "!head Transaction.csv\n",
        "print(\"continent csv  file shape:\",df3.shape)\n",
        "!head Continent.csv"
      ],
      "metadata": {
        "colab": {
          "base_uri": "https://localhost:8080/"
        },
        "id": "ln0nY9KBIFov",
        "outputId": "9a14d009-06b8-42a6-daf9-50a87e1089df"
      },
      "execution_count": null,
      "outputs": [
        {
          "output_type": "stream",
          "name": "stdout",
          "text": [
            "customers csv  file shape: (0, 1)\n",
            "customer_id,region_id,start_date,end_date\r\n",
            "1,3,02-01-2020,03-01-2020\r\n",
            "2,3,03-01-2020,17-01-2020\r\n",
            "3,5,27-01-2020,18-02-2020\r\n",
            "4,5,07-01-2020,19-01-2020\r\n",
            "5,3,15-01-2020,23-01-2020\r\n",
            "6,1,11-01-2020,06-02-2020\r\n",
            "7,2,20-01-2020,04-02-2020\r\n",
            "8,1,15-01-2020,28-01-2020\r\n",
            "9,4,21-01-2020,25-01-2020\r\n",
            "Transaction csv  file shape: (5868, 4)\n",
            "customer_id,txn_date,txn_type,txn_amount\n",
            "429,21-01-2020,deposit,82\n",
            "155,10-01-2020,deposit,712\n",
            "398,01-01-2020,deposit,196\n",
            "255,14-01-2020,deposit,563\n",
            "185,29-01-2020,deposit,626\n",
            "309,13-01-2020,deposit,995\n",
            "312,20-01-2020,deposit,485\n",
            "376,03-01-2020,deposit,706\n",
            "188,13-01-2020,deposit,601\n",
            "continent csv  file shape: (5, 2)\n",
            "region_id,region_name\n",
            "1,Australia\n",
            "2,America\n",
            "3,Africa\n",
            "4,Asia\n",
            "5,Europe\n"
          ]
        }
      ]
    },
    {
      "cell_type": "code",
      "source": [
        "print(df1.columns)\n",
        "print(df2.columns)\n",
        "print(df3.columns)\n",
        "print(df4.columns)\n",
        "print(df5.columns)\n",
        "print(df6.columns)"
      ],
      "metadata": {
        "colab": {
          "base_uri": "https://localhost:8080/"
        },
        "id": "ISEj3LbPPRXd",
        "outputId": "797aae0a-ba54-40a7-99b6-e7f2d90df451"
      },
      "execution_count": null,
      "outputs": [
        {
          "output_type": "stream",
          "name": "stdout",
          "text": [
            "Index(['customer_id', 'region_id', 'start_date', 'end_date'], dtype='object')\n",
            "Index(['customer_id', 'txn_date', 'txn_type', 'txn_amount'], dtype='object')\n",
            "Index(['region_id', 'region_name'], dtype='object')\n",
            "Index(['PNAME', 'INSTITUTE', 'COURSE', 'COURSE FEE'], dtype='object')\n",
            "Index(['PNAME', 'TITLE', 'DEVELOPIN', 'SCOST', 'DCOST', 'SOLD'], dtype='object')\n",
            "Index(['PNAME', 'DOB', 'DOJ', 'GENDER', 'PROF1', 'PROF2', 'SALARY'], dtype='object')\n"
          ]
        }
      ]
    },
    {
      "cell_type": "code",
      "source": [
        "df1.info()"
      ],
      "metadata": {
        "colab": {
          "base_uri": "https://localhost:8080/"
        },
        "id": "Y2MwPxxCbwL6",
        "outputId": "1eff4e48-cd3b-4b04-95b1-317fec401268"
      },
      "execution_count": null,
      "outputs": [
        {
          "output_type": "stream",
          "name": "stdout",
          "text": [
            "<class 'pandas.core.frame.DataFrame'>\n",
            "RangeIndex: 3500 entries, 0 to 3499\n",
            "Data columns (total 5 columns):\n",
            " #   Column         Non-Null Count  Dtype         \n",
            "---  ------         --------------  -----         \n",
            " 0   customer_id    3500 non-null   int64         \n",
            " 1   region_id      3500 non-null   int64         \n",
            " 2   start_date     3500 non-null   datetime64[ns]\n",
            " 3   end_date       3000 non-null   datetime64[ns]\n",
            " 4   duration_days  3000 non-null   float64       \n",
            "dtypes: datetime64[ns](2), float64(1), int64(2)\n",
            "memory usage: 136.8 KB\n"
          ]
        }
      ]
    },
    {
      "cell_type": "code",
      "source": [
        "df1.describe()"
      ],
      "metadata": {
        "colab": {
          "base_uri": "https://localhost:8080/",
          "height": 300
        },
        "id": "zfsnibrPb177",
        "outputId": "752eed9c-d0d0-4770-f7f8-121e069449c3"
      },
      "execution_count": null,
      "outputs": [
        {
          "output_type": "execute_result",
          "data": {
            "text/plain": [
              "       customer_id    region_id                  start_date  \\\n",
              "count  3500.000000  3500.000000                        3500   \n",
              "mean    250.500000     2.892000  2020-03-02 13:09:07.200000   \n",
              "min       1.000000     1.000000         2020-01-01 00:00:00   \n",
              "25%     125.750000     2.000000         2020-02-01 00:00:00   \n",
              "50%     250.500000     3.000000         2020-02-29 00:00:00   \n",
              "75%     375.250000     4.000000         2020-03-29 00:00:00   \n",
              "max     500.000000     5.000000         2020-07-03 00:00:00   \n",
              "std     144.357903     1.404599                         NaN   \n",
              "\n",
              "                         end_date  duration_days  \n",
              "count                        3000    3000.000000  \n",
              "mean   2020-03-09 10:52:19.200000      14.634000  \n",
              "min           2020-01-02 00:00:00       0.000000  \n",
              "25%           2020-02-13 00:00:00       7.000000  \n",
              "50%           2020-03-07 00:00:00      15.000000  \n",
              "75%           2020-04-01 00:00:00      22.000000  \n",
              "max           2020-07-02 00:00:00      30.000000  \n",
              "std                           NaN       8.588634  "
            ],
            "text/html": [
              "\n",
              "  <div id=\"df-6b15c982-ea2f-4ea5-8f0a-cea17811c528\" class=\"colab-df-container\">\n",
              "    <div>\n",
              "<style scoped>\n",
              "    .dataframe tbody tr th:only-of-type {\n",
              "        vertical-align: middle;\n",
              "    }\n",
              "\n",
              "    .dataframe tbody tr th {\n",
              "        vertical-align: top;\n",
              "    }\n",
              "\n",
              "    .dataframe thead th {\n",
              "        text-align: right;\n",
              "    }\n",
              "</style>\n",
              "<table border=\"1\" class=\"dataframe\">\n",
              "  <thead>\n",
              "    <tr style=\"text-align: right;\">\n",
              "      <th></th>\n",
              "      <th>customer_id</th>\n",
              "      <th>region_id</th>\n",
              "      <th>start_date</th>\n",
              "      <th>end_date</th>\n",
              "      <th>duration_days</th>\n",
              "    </tr>\n",
              "  </thead>\n",
              "  <tbody>\n",
              "    <tr>\n",
              "      <th>count</th>\n",
              "      <td>3500.000000</td>\n",
              "      <td>3500.000000</td>\n",
              "      <td>3500</td>\n",
              "      <td>3000</td>\n",
              "      <td>3000.000000</td>\n",
              "    </tr>\n",
              "    <tr>\n",
              "      <th>mean</th>\n",
              "      <td>250.500000</td>\n",
              "      <td>2.892000</td>\n",
              "      <td>2020-03-02 13:09:07.200000</td>\n",
              "      <td>2020-03-09 10:52:19.200000</td>\n",
              "      <td>14.634000</td>\n",
              "    </tr>\n",
              "    <tr>\n",
              "      <th>min</th>\n",
              "      <td>1.000000</td>\n",
              "      <td>1.000000</td>\n",
              "      <td>2020-01-01 00:00:00</td>\n",
              "      <td>2020-01-02 00:00:00</td>\n",
              "      <td>0.000000</td>\n",
              "    </tr>\n",
              "    <tr>\n",
              "      <th>25%</th>\n",
              "      <td>125.750000</td>\n",
              "      <td>2.000000</td>\n",
              "      <td>2020-02-01 00:00:00</td>\n",
              "      <td>2020-02-13 00:00:00</td>\n",
              "      <td>7.000000</td>\n",
              "    </tr>\n",
              "    <tr>\n",
              "      <th>50%</th>\n",
              "      <td>250.500000</td>\n",
              "      <td>3.000000</td>\n",
              "      <td>2020-02-29 00:00:00</td>\n",
              "      <td>2020-03-07 00:00:00</td>\n",
              "      <td>15.000000</td>\n",
              "    </tr>\n",
              "    <tr>\n",
              "      <th>75%</th>\n",
              "      <td>375.250000</td>\n",
              "      <td>4.000000</td>\n",
              "      <td>2020-03-29 00:00:00</td>\n",
              "      <td>2020-04-01 00:00:00</td>\n",
              "      <td>22.000000</td>\n",
              "    </tr>\n",
              "    <tr>\n",
              "      <th>max</th>\n",
              "      <td>500.000000</td>\n",
              "      <td>5.000000</td>\n",
              "      <td>2020-07-03 00:00:00</td>\n",
              "      <td>2020-07-02 00:00:00</td>\n",
              "      <td>30.000000</td>\n",
              "    </tr>\n",
              "    <tr>\n",
              "      <th>std</th>\n",
              "      <td>144.357903</td>\n",
              "      <td>1.404599</td>\n",
              "      <td>NaN</td>\n",
              "      <td>NaN</td>\n",
              "      <td>8.588634</td>\n",
              "    </tr>\n",
              "  </tbody>\n",
              "</table>\n",
              "</div>\n",
              "    <div class=\"colab-df-buttons\">\n",
              "\n",
              "  <div class=\"colab-df-container\">\n",
              "    <button class=\"colab-df-convert\" onclick=\"convertToInteractive('df-6b15c982-ea2f-4ea5-8f0a-cea17811c528')\"\n",
              "            title=\"Convert this dataframe to an interactive table.\"\n",
              "            style=\"display:none;\">\n",
              "\n",
              "  <svg xmlns=\"http://www.w3.org/2000/svg\" height=\"24px\" viewBox=\"0 -960 960 960\">\n",
              "    <path d=\"M120-120v-720h720v720H120Zm60-500h600v-160H180v160Zm220 220h160v-160H400v160Zm0 220h160v-160H400v160ZM180-400h160v-160H180v160Zm440 0h160v-160H620v160ZM180-180h160v-160H180v160Zm440 0h160v-160H620v160Z\"/>\n",
              "  </svg>\n",
              "    </button>\n",
              "\n",
              "  <style>\n",
              "    .colab-df-container {\n",
              "      display:flex;\n",
              "      gap: 12px;\n",
              "    }\n",
              "\n",
              "    .colab-df-convert {\n",
              "      background-color: #E8F0FE;\n",
              "      border: none;\n",
              "      border-radius: 50%;\n",
              "      cursor: pointer;\n",
              "      display: none;\n",
              "      fill: #1967D2;\n",
              "      height: 32px;\n",
              "      padding: 0 0 0 0;\n",
              "      width: 32px;\n",
              "    }\n",
              "\n",
              "    .colab-df-convert:hover {\n",
              "      background-color: #E2EBFA;\n",
              "      box-shadow: 0px 1px 2px rgba(60, 64, 67, 0.3), 0px 1px 3px 1px rgba(60, 64, 67, 0.15);\n",
              "      fill: #174EA6;\n",
              "    }\n",
              "\n",
              "    .colab-df-buttons div {\n",
              "      margin-bottom: 4px;\n",
              "    }\n",
              "\n",
              "    [theme=dark] .colab-df-convert {\n",
              "      background-color: #3B4455;\n",
              "      fill: #D2E3FC;\n",
              "    }\n",
              "\n",
              "    [theme=dark] .colab-df-convert:hover {\n",
              "      background-color: #434B5C;\n",
              "      box-shadow: 0px 1px 3px 1px rgba(0, 0, 0, 0.15);\n",
              "      filter: drop-shadow(0px 1px 2px rgba(0, 0, 0, 0.3));\n",
              "      fill: #FFFFFF;\n",
              "    }\n",
              "  </style>\n",
              "\n",
              "    <script>\n",
              "      const buttonEl =\n",
              "        document.querySelector('#df-6b15c982-ea2f-4ea5-8f0a-cea17811c528 button.colab-df-convert');\n",
              "      buttonEl.style.display =\n",
              "        google.colab.kernel.accessAllowed ? 'block' : 'none';\n",
              "\n",
              "      async function convertToInteractive(key) {\n",
              "        const element = document.querySelector('#df-6b15c982-ea2f-4ea5-8f0a-cea17811c528');\n",
              "        const dataTable =\n",
              "          await google.colab.kernel.invokeFunction('convertToInteractive',\n",
              "                                                    [key], {});\n",
              "        if (!dataTable) return;\n",
              "\n",
              "        const docLinkHtml = 'Like what you see? Visit the ' +\n",
              "          '<a target=\"_blank\" href=https://colab.research.google.com/notebooks/data_table.ipynb>data table notebook</a>'\n",
              "          + ' to learn more about interactive tables.';\n",
              "        element.innerHTML = '';\n",
              "        dataTable['output_type'] = 'display_data';\n",
              "        await google.colab.output.renderOutput(dataTable, element);\n",
              "        const docLink = document.createElement('div');\n",
              "        docLink.innerHTML = docLinkHtml;\n",
              "        element.appendChild(docLink);\n",
              "      }\n",
              "    </script>\n",
              "  </div>\n",
              "\n",
              "\n",
              "<div id=\"df-45bc2c90-4046-4d0e-bbaa-a06ccf45c12b\">\n",
              "  <button class=\"colab-df-quickchart\" onclick=\"quickchart('df-45bc2c90-4046-4d0e-bbaa-a06ccf45c12b')\"\n",
              "            title=\"Suggest charts\"\n",
              "            style=\"display:none;\">\n",
              "\n",
              "<svg xmlns=\"http://www.w3.org/2000/svg\" height=\"24px\"viewBox=\"0 0 24 24\"\n",
              "     width=\"24px\">\n",
              "    <g>\n",
              "        <path d=\"M19 3H5c-1.1 0-2 .9-2 2v14c0 1.1.9 2 2 2h14c1.1 0 2-.9 2-2V5c0-1.1-.9-2-2-2zM9 17H7v-7h2v7zm4 0h-2V7h2v10zm4 0h-2v-4h2v4z\"/>\n",
              "    </g>\n",
              "</svg>\n",
              "  </button>\n",
              "\n",
              "<style>\n",
              "  .colab-df-quickchart {\n",
              "      --bg-color: #E8F0FE;\n",
              "      --fill-color: #1967D2;\n",
              "      --hover-bg-color: #E2EBFA;\n",
              "      --hover-fill-color: #174EA6;\n",
              "      --disabled-fill-color: #AAA;\n",
              "      --disabled-bg-color: #DDD;\n",
              "  }\n",
              "\n",
              "  [theme=dark] .colab-df-quickchart {\n",
              "      --bg-color: #3B4455;\n",
              "      --fill-color: #D2E3FC;\n",
              "      --hover-bg-color: #434B5C;\n",
              "      --hover-fill-color: #FFFFFF;\n",
              "      --disabled-bg-color: #3B4455;\n",
              "      --disabled-fill-color: #666;\n",
              "  }\n",
              "\n",
              "  .colab-df-quickchart {\n",
              "    background-color: var(--bg-color);\n",
              "    border: none;\n",
              "    border-radius: 50%;\n",
              "    cursor: pointer;\n",
              "    display: none;\n",
              "    fill: var(--fill-color);\n",
              "    height: 32px;\n",
              "    padding: 0;\n",
              "    width: 32px;\n",
              "  }\n",
              "\n",
              "  .colab-df-quickchart:hover {\n",
              "    background-color: var(--hover-bg-color);\n",
              "    box-shadow: 0 1px 2px rgba(60, 64, 67, 0.3), 0 1px 3px 1px rgba(60, 64, 67, 0.15);\n",
              "    fill: var(--button-hover-fill-color);\n",
              "  }\n",
              "\n",
              "  .colab-df-quickchart-complete:disabled,\n",
              "  .colab-df-quickchart-complete:disabled:hover {\n",
              "    background-color: var(--disabled-bg-color);\n",
              "    fill: var(--disabled-fill-color);\n",
              "    box-shadow: none;\n",
              "  }\n",
              "\n",
              "  .colab-df-spinner {\n",
              "    border: 2px solid var(--fill-color);\n",
              "    border-color: transparent;\n",
              "    border-bottom-color: var(--fill-color);\n",
              "    animation:\n",
              "      spin 1s steps(1) infinite;\n",
              "  }\n",
              "\n",
              "  @keyframes spin {\n",
              "    0% {\n",
              "      border-color: transparent;\n",
              "      border-bottom-color: var(--fill-color);\n",
              "      border-left-color: var(--fill-color);\n",
              "    }\n",
              "    20% {\n",
              "      border-color: transparent;\n",
              "      border-left-color: var(--fill-color);\n",
              "      border-top-color: var(--fill-color);\n",
              "    }\n",
              "    30% {\n",
              "      border-color: transparent;\n",
              "      border-left-color: var(--fill-color);\n",
              "      border-top-color: var(--fill-color);\n",
              "      border-right-color: var(--fill-color);\n",
              "    }\n",
              "    40% {\n",
              "      border-color: transparent;\n",
              "      border-right-color: var(--fill-color);\n",
              "      border-top-color: var(--fill-color);\n",
              "    }\n",
              "    60% {\n",
              "      border-color: transparent;\n",
              "      border-right-color: var(--fill-color);\n",
              "    }\n",
              "    80% {\n",
              "      border-color: transparent;\n",
              "      border-right-color: var(--fill-color);\n",
              "      border-bottom-color: var(--fill-color);\n",
              "    }\n",
              "    90% {\n",
              "      border-color: transparent;\n",
              "      border-bottom-color: var(--fill-color);\n",
              "    }\n",
              "  }\n",
              "</style>\n",
              "\n",
              "  <script>\n",
              "    async function quickchart(key) {\n",
              "      const quickchartButtonEl =\n",
              "        document.querySelector('#' + key + ' button');\n",
              "      quickchartButtonEl.disabled = true;  // To prevent multiple clicks.\n",
              "      quickchartButtonEl.classList.add('colab-df-spinner');\n",
              "      try {\n",
              "        const charts = await google.colab.kernel.invokeFunction(\n",
              "            'suggestCharts', [key], {});\n",
              "      } catch (error) {\n",
              "        console.error('Error during call to suggestCharts:', error);\n",
              "      }\n",
              "      quickchartButtonEl.classList.remove('colab-df-spinner');\n",
              "      quickchartButtonEl.classList.add('colab-df-quickchart-complete');\n",
              "    }\n",
              "    (() => {\n",
              "      let quickchartButtonEl =\n",
              "        document.querySelector('#df-45bc2c90-4046-4d0e-bbaa-a06ccf45c12b button');\n",
              "      quickchartButtonEl.style.display =\n",
              "        google.colab.kernel.accessAllowed ? 'block' : 'none';\n",
              "    })();\n",
              "  </script>\n",
              "</div>\n",
              "\n",
              "    </div>\n",
              "  </div>\n"
            ],
            "application/vnd.google.colaboratory.intrinsic+json": {
              "type": "dataframe",
              "summary": "{\n  \"name\": \"df1\",\n  \"rows\": 8,\n  \"fields\": [\n    {\n      \"column\": \"customer_id\",\n      \"properties\": {\n        \"dtype\": \"number\",\n        \"std\": 1164.4161416661068,\n        \"min\": 1.0,\n        \"max\": 3500.0,\n        \"num_unique_values\": 7,\n        \"samples\": [\n          3500.0,\n          250.5,\n          500.0\n        ],\n        \"semantic_type\": \"\",\n        \"description\": \"\"\n      }\n    },\n    {\n      \"column\": \"region_id\",\n      \"properties\": {\n        \"dtype\": \"number\",\n        \"std\": 1236.4629430747211,\n        \"min\": 1.0,\n        \"max\": 3500.0,\n        \"num_unique_values\": 8,\n        \"samples\": [\n          2.892,\n          4.0,\n          3500.0\n        ],\n        \"semantic_type\": \"\",\n        \"description\": \"\"\n      }\n    },\n    {\n      \"column\": \"start_date\",\n      \"properties\": {\n        \"dtype\": \"date\",\n        \"min\": \"1970-01-01 00:00:00.000003500\",\n        \"max\": \"2020-07-03 00:00:00\",\n        \"num_unique_values\": 7,\n        \"samples\": [\n          \"3500\",\n          \"2020-03-02 13:09:07.200000\",\n          \"2020-03-29 00:00:00\"\n        ],\n        \"semantic_type\": \"\",\n        \"description\": \"\"\n      }\n    },\n    {\n      \"column\": \"end_date\",\n      \"properties\": {\n        \"dtype\": \"date\",\n        \"min\": \"1970-01-01 00:00:00.000003\",\n        \"max\": \"2020-07-02 00:00:00\",\n        \"num_unique_values\": 7,\n        \"samples\": [\n          \"3000\",\n          \"2020-03-09 10:52:19.200000\",\n          \"2020-04-01 00:00:00\"\n        ],\n        \"semantic_type\": \"\",\n        \"description\": \"\"\n      }\n    },\n    {\n      \"column\": \"duration_days\",\n      \"properties\": {\n        \"dtype\": \"number\",\n        \"std\": 1055.7899827074643,\n        \"min\": 0.0,\n        \"max\": 3000.0,\n        \"num_unique_values\": 8,\n        \"samples\": [\n          14.634,\n          22.0,\n          3000.0\n        ],\n        \"semantic_type\": \"\",\n        \"description\": \"\"\n      }\n    }\n  ]\n}"
            }
          },
          "metadata": {},
          "execution_count": 77
        }
      ]
    },
    {
      "cell_type": "code",
      "source": [
        "df1.keys()"
      ],
      "metadata": {
        "colab": {
          "base_uri": "https://localhost:8080/"
        },
        "id": "KMe9-8zMb40k",
        "outputId": "5a30dd1a-64d4-49a9-c86f-13b9225c420c"
      },
      "execution_count": null,
      "outputs": [
        {
          "output_type": "execute_result",
          "data": {
            "text/plain": [
              "Index(['customer_id', 'region_id', 'start_date', 'end_date', 'duration_days'], dtype='object')"
            ]
          },
          "metadata": {},
          "execution_count": 78
        }
      ]
    },
    {
      "cell_type": "code",
      "source": [
        "df1.dtypes"
      ],
      "metadata": {
        "colab": {
          "base_uri": "https://localhost:8080/"
        },
        "id": "uu4bz2n0cvCn",
        "outputId": "e332cf51-05bf-499a-92ee-d2a6ac4a7cb4"
      },
      "execution_count": null,
      "outputs": [
        {
          "output_type": "execute_result",
          "data": {
            "text/plain": [
              "customer_id               int64\n",
              "region_id                 int64\n",
              "start_date       datetime64[ns]\n",
              "end_date         datetime64[ns]\n",
              "duration_days           float64\n",
              "dtype: object"
            ]
          },
          "metadata": {},
          "execution_count": 80
        }
      ]
    },
    {
      "cell_type": "code",
      "source": [
        "df1.size"
      ],
      "metadata": {
        "colab": {
          "base_uri": "https://localhost:8080/"
        },
        "id": "K6ZEeI9Wc1by",
        "outputId": "aa84d1d3-76b6-4ae8-adbe-688938ae4b48"
      },
      "execution_count": null,
      "outputs": [
        {
          "output_type": "execute_result",
          "data": {
            "text/plain": [
              "17500"
            ]
          },
          "metadata": {},
          "execution_count": 83
        }
      ]
    },
    {
      "cell_type": "markdown",
      "source": [
        "#2. Merge the Customers and Transaction into a single dataframe.\n",
        "Merge with Different Column Names:If the columns to merge on have different names in each DataFrame, use the left_on and right_on parameters.\n",
        "\n",
        "Merge function:Default merge\n",
        "\n",
        "There are 4 types of joins  available in Pandas:\n",
        "\n",
        "1.Inner Join (default): Only include rows with keys in both DataFrames.\n",
        "\n",
        "2.Left Join: Include all rows from the left DataFrame, and only matching rows from the right DataFrame.\n",
        "\n",
        "3.Right Join: Include all rows from the right DataFrame, and only matching rows from the left DataFrame.\n",
        "\n",
        "4.Outer Join: Include rows from both DataFrames, filling in NaNs for missing matches on either side.\n"
      ],
      "metadata": {
        "id": "z4sWM11uHRy2"
      }
    },
    {
      "cell_type": "code",
      "source": [
        "#Check for the existence of 'customer_id' in both DataFrames\n",
        "print(\"customer_id' in df1:\", 'customer_id' in df1.columns)\n",
        "print(\"customer_id' in df3:\", 'customer_id' in df2.columns)\n",
        "\n",
        "#Default merge\n",
        "merged_df=pd.merge(df1,df2)\n",
        "print(\"Default Merge : \\n\",merged_df.head())"
      ],
      "metadata": {
        "colab": {
          "base_uri": "https://localhost:8080/"
        },
        "id": "OfXbplUuL0uO",
        "outputId": "4f9c9c25-d975-483e-c315-a8a9373e3e9a"
      },
      "execution_count": null,
      "outputs": [
        {
          "output_type": "stream",
          "name": "stdout",
          "text": [
            "customer_id' in df1: True\n",
            "customer_id' in df3: True\n",
            "Default Merge : \n",
            "    customer_id  region_id  start_date    end_date    txn_date  txn_type  \\\n",
            "0            1          3  02-01-2020  03-01-2020  02-01-2020   deposit   \n",
            "1            1          3  02-01-2020  03-01-2020  05-03-2020  purchase   \n",
            "2            1          3  02-01-2020  03-01-2020  17-03-2020   deposit   \n",
            "3            1          3  02-01-2020  03-01-2020  19-03-2020  purchase   \n",
            "4            1          3  04-01-2020  14-01-2020  02-01-2020   deposit   \n",
            "\n",
            "   txn_amount  \n",
            "0         312  \n",
            "1         612  \n",
            "2         324  \n",
            "3         664  \n",
            "4         312  \n"
          ]
        }
      ]
    },
    {
      "cell_type": "code",
      "source": [
        "#Inner Join\n",
        "inner_merged_df = pd.merge(df1, df2 , on = 'customer_id' , how = 'inner')\n",
        "print(\"Inner Merge : \\n\", inner_merged_df.head())\n"
      ],
      "metadata": {
        "colab": {
          "base_uri": "https://localhost:8080/"
        },
        "id": "dnIvqinQHSdu",
        "outputId": "6e5ba757-6ef8-4093-ee87-f4562d5973ed"
      },
      "execution_count": null,
      "outputs": [
        {
          "output_type": "stream",
          "name": "stdout",
          "text": [
            "Inner Merge : \n",
            "    customer_id  region_id  start_date    end_date    txn_date  txn_type  \\\n",
            "0            1          3  02-01-2020  03-01-2020  02-01-2020   deposit   \n",
            "1            1          3  02-01-2020  03-01-2020  05-03-2020  purchase   \n",
            "2            1          3  02-01-2020  03-01-2020  17-03-2020   deposit   \n",
            "3            1          3  02-01-2020  03-01-2020  19-03-2020  purchase   \n",
            "4            1          3  04-01-2020  14-01-2020  02-01-2020   deposit   \n",
            "\n",
            "   txn_amount  \n",
            "0         312  \n",
            "1         612  \n",
            "2         324  \n",
            "3         664  \n",
            "4         312  \n"
          ]
        }
      ]
    },
    {
      "cell_type": "code",
      "source": [
        "#Outer Join\n",
        "outer_merged_df = pd.merge(df1, df2 , on = 'customer_id', how = 'outer')\n",
        "print(\"Outer Merge : \\n\", outer_merged_df.head())"
      ],
      "metadata": {
        "colab": {
          "base_uri": "https://localhost:8080/"
        },
        "id": "HwDLtjK3LJjn",
        "outputId": "55efeb10-9d7c-4bb6-9ee9-073b79769688"
      },
      "execution_count": null,
      "outputs": [
        {
          "output_type": "stream",
          "name": "stdout",
          "text": [
            "Outer Merge : \n",
            "    customer_id  region_id  start_date    end_date    txn_date  txn_type  \\\n",
            "0            1          3  02-01-2020  03-01-2020  02-01-2020   deposit   \n",
            "1            1          3  02-01-2020  03-01-2020  05-03-2020  purchase   \n",
            "2            1          3  02-01-2020  03-01-2020  17-03-2020   deposit   \n",
            "3            1          3  02-01-2020  03-01-2020  19-03-2020  purchase   \n",
            "4            1          3  04-01-2020  14-01-2020  02-01-2020   deposit   \n",
            "\n",
            "   txn_amount  \n",
            "0         312  \n",
            "1         612  \n",
            "2         324  \n",
            "3         664  \n",
            "4         312  \n"
          ]
        }
      ]
    },
    {
      "cell_type": "code",
      "source": [
        "#Left Join\n",
        "left_merged_df = pd.merge(df1, df2 , on = 'customer_id' , how = 'left')\n",
        "print(\"Left Merge : \\n\", left_merged_df.head())\n"
      ],
      "metadata": {
        "colab": {
          "base_uri": "https://localhost:8080/"
        },
        "id": "iZN10CGxLJmd",
        "outputId": "62a0dec6-26b3-4875-8260-169b5d99a48d"
      },
      "execution_count": null,
      "outputs": [
        {
          "output_type": "stream",
          "name": "stdout",
          "text": [
            "Left Merge : \n",
            "    customer_id  region_id  start_date    end_date    txn_date  txn_type  \\\n",
            "0            1          3  02-01-2020  03-01-2020  02-01-2020   deposit   \n",
            "1            1          3  02-01-2020  03-01-2020  05-03-2020  purchase   \n",
            "2            1          3  02-01-2020  03-01-2020  17-03-2020   deposit   \n",
            "3            1          3  02-01-2020  03-01-2020  19-03-2020  purchase   \n",
            "4            2          3  03-01-2020  17-01-2020  03-01-2020   deposit   \n",
            "\n",
            "   txn_amount  \n",
            "0         312  \n",
            "1         612  \n",
            "2         324  \n",
            "3         664  \n",
            "4         549  \n"
          ]
        }
      ]
    },
    {
      "cell_type": "code",
      "source": [
        "#Right Join\n",
        "right_merged_df = pd.merge(df1, df2 , on = 'customer_id', how = 'right')\n",
        "print(\"Right Merge : \\n\", right_merged_df.head())"
      ],
      "metadata": {
        "colab": {
          "base_uri": "https://localhost:8080/"
        },
        "id": "_RqAG-QQLJpw",
        "outputId": "4308d008-7365-4e1e-c303-c61c0cc893dd"
      },
      "execution_count": null,
      "outputs": [
        {
          "output_type": "stream",
          "name": "stdout",
          "text": [
            "Right Merge : \n",
            "    customer_id  region_id  start_date    end_date    txn_date txn_type  \\\n",
            "0          429          5  21-01-2020  28-01-2020  21-01-2020  deposit   \n",
            "1          429          5  29-01-2020  01-02-2020  21-01-2020  deposit   \n",
            "2          429          5  02-02-2020  01-03-2020  21-01-2020  deposit   \n",
            "3          429          5  02-03-2020  23-03-2020  21-01-2020  deposit   \n",
            "4          429          5  24-03-2020  12-04-2020  21-01-2020  deposit   \n",
            "\n",
            "   txn_amount  \n",
            "0          82  \n",
            "1          82  \n",
            "2          82  \n",
            "3          82  \n",
            "4          82  \n"
          ]
        }
      ]
    },
    {
      "cell_type": "code",
      "source": [
        " # Check if 'customer_id' is present in both dataframes\n",
        "print(\"Columns in df1:\", df1.columns)\n",
        "print(\"Columns in df2:\", df2.columns)\n",
        "\n",
        " #Merge with Different Column Names\n",
        "merged = pd.merge(df1 ,df2, left_on='customer_id', right_on='customer_id')\n",
        "print(merged.head())"
      ],
      "metadata": {
        "colab": {
          "base_uri": "https://localhost:8080/"
        },
        "id": "supW7zOwRhP1",
        "outputId": "f03c97d2-9471-4ac0-e3f2-d5c2e70ad315"
      },
      "execution_count": null,
      "outputs": [
        {
          "output_type": "stream",
          "name": "stdout",
          "text": [
            "Columns in df1: Index(['customer_id', 'region_id', 'start_date', 'end_date'], dtype='object')\n",
            "Columns in df2: Index(['customer_id', 'txn_date', 'txn_type', 'txn_amount'], dtype='object')\n",
            "   customer_id  region_id  start_date    end_date    txn_date  txn_type  \\\n",
            "0            1          3  02-01-2020  03-01-2020  02-01-2020   deposit   \n",
            "1            1          3  02-01-2020  03-01-2020  05-03-2020  purchase   \n",
            "2            1          3  02-01-2020  03-01-2020  17-03-2020   deposit   \n",
            "3            1          3  02-01-2020  03-01-2020  19-03-2020  purchase   \n",
            "4            1          3  04-01-2020  14-01-2020  02-01-2020   deposit   \n",
            "\n",
            "   txn_amount  \n",
            "0         312  \n",
            "1         612  \n",
            "2         324  \n",
            "3         664  \n",
            "4         312  \n"
          ]
        }
      ]
    },
    {
      "cell_type": "markdown",
      "source": [
        "#3. Calculate the duration in days between start date and end date.\n",
        "NaT represents a missing date. This is specific to columns with the type DateTime. NaT\n",
        "stands for Not a Time. For example, let us create a dataframe with numerical values and a\n",
        "column with the dtype DateTime\n"
      ],
      "metadata": {
        "id": "YO5niHqjRgUV"
      }
    },
    {
      "cell_type": "code",
      "source": [
        "# Convert start_date and end_date to datetime objects, handling out-of-bounds dates\n",
        "# errors='coerce'   ensures that any entries that don't match the specified format are set to NaT (Not a Time).\n",
        "df1['start_date'] = pd.to_datetime(df1['start_date'], format='%d-%m-%Y', errors='coerce')\n",
        "df1['end_date'] = pd.to_datetime(df1['end_date'], format='%d-%m-%Y', errors='coerce')\n",
        "\n",
        "# Identify rows with out-of-bounds end dates\n",
        "#df1['end_date'].isna() checks for NaN values in the end_date column.\n",
        "#df1[df1['end_date'].isna()] prints rows where end_date is NaT, indicating these were out-of-bounds dates.\n",
        "print(df1[df1['end_date'].isna()])\n",
        "\n",
        "#  handle the out-of-bounds dates (e.g., replace with a valid date, drop the rows)\n",
        "# Fill NaN values in 'end_date' column with NaT  Example: Replacing with NaT (Not a Time)\n",
        "df1['end_date'] = df1['end_date'].fillna(pd.NaT)\n",
        "\n",
        "# Calculate the duration in days (after handling out-of-bounds dates)\n",
        "df1['duration_days'] = (df1['end_date'] - df1['start_date']).dt.days\n",
        "\n",
        "# Display the first few rows of the DataFrame to confirm the new column\n",
        "print(df1.head())"
      ],
      "metadata": {
        "colab": {
          "base_uri": "https://localhost:8080/"
        },
        "id": "sPH4GcPPYEQU",
        "outputId": "e5ad3f3b-2671-4c1c-d607-f35edcc971ed"
      },
      "execution_count": null,
      "outputs": [
        {
          "output_type": "stream",
          "name": "stdout",
          "text": [
            "      customer_id  region_id start_date end_date  duration_days\n",
            "3000            1          3 2020-03-17      NaT            NaN\n",
            "3001            2          3 2020-03-14      NaT            NaN\n",
            "3002            3          5 2020-04-25      NaT            NaN\n",
            "3003            4          5 2020-04-02      NaT            NaN\n",
            "3004            5          3 2020-03-06      NaT            NaN\n",
            "...           ...        ...        ...      ...            ...\n",
            "3495          496          3 2020-02-25      NaT            NaN\n",
            "3496          497          5 2020-05-27      NaT            NaN\n",
            "3497          498          1 2020-04-05      NaT            NaN\n",
            "3498          499          5 2020-02-03      NaT            NaN\n",
            "3499          500          2 2020-04-15      NaT            NaN\n",
            "\n",
            "[500 rows x 5 columns]\n",
            "   customer_id  region_id start_date   end_date  duration_days\n",
            "0            1          3 2020-01-02 2020-01-03            1.0\n",
            "1            2          3 2020-01-03 2020-01-17           14.0\n",
            "2            3          5 2020-01-27 2020-02-18           22.0\n",
            "3            4          5 2020-01-07 2020-01-19           12.0\n",
            "4            5          3 2020-01-15 2020-01-23            8.0\n"
          ]
        }
      ]
    },
    {
      "cell_type": "markdown",
      "source": [
        "#4. Drop the duplicate rows in the merged dataframe if any.\n",
        "drop_duplicates() without any arguments drops rows where all columns have identical values across rows.\n",
        " This is useful if you want to ensure each row in your DataFrame is unique."
      ],
      "metadata": {
        "id": "GUp3JD2KZz1k"
      }
    },
    {
      "cell_type": "code",
      "source": [
        "#drop duplicate rows\n",
        "merged_df = merged_df.drop_duplicates()\n",
        "print(merged_df.head())\n"
      ],
      "metadata": {
        "colab": {
          "base_uri": "https://localhost:8080/"
        },
        "id": "R0RFvVjBYEUN",
        "outputId": "94742487-b7e1-4ae8-b4cc-18021a25b6de"
      },
      "execution_count": null,
      "outputs": [
        {
          "output_type": "stream",
          "name": "stdout",
          "text": [
            "   customer_id  region_id  start_date    end_date    txn_date  txn_type  \\\n",
            "0            1          3  02-01-2020  03-01-2020  02-01-2020   deposit   \n",
            "1            1          3  02-01-2020  03-01-2020  05-03-2020  purchase   \n",
            "2            1          3  02-01-2020  03-01-2020  17-03-2020   deposit   \n",
            "3            1          3  02-01-2020  03-01-2020  19-03-2020  purchase   \n",
            "4            1          3  04-01-2020  14-01-2020  02-01-2020   deposit   \n",
            "\n",
            "   txn_amount  \n",
            "0         312  \n",
            "1         612  \n",
            "2         324  \n",
            "3         664  \n",
            "4         312  \n"
          ]
        }
      ]
    },
    {
      "cell_type": "markdown",
      "source": [
        "#5. Drop rows with missing values in the merged dataframe if any.\n",
        "To drop rows with missing values (NaNs) from your merged DataFrame (df1), you can use the dropna() method provided by pandas.\n",
        "\n",
        "dropna() by default drops any row that contains NaN values in any column."
      ],
      "metadata": {
        "id": "hW6_DzlTXrVS"
      }
    },
    {
      "cell_type": "code",
      "source": [
        "merged_df = df1.merge(df2)\n",
        "print(\"Default Merge : \\n\", merged_df.head())\n",
        "# Drop rows with missing values\n",
        "merged_df = merged_df.dropna()\n",
        "print(\"After Dropping Rows with Missing Values : \\n\", merged_df.head())\n"
      ],
      "metadata": {
        "colab": {
          "base_uri": "https://localhost:8080/"
        },
        "id": "TzxVeKITYEb4",
        "outputId": "cbea8140-0d7b-4938-ca47-20446a71bb18"
      },
      "execution_count": null,
      "outputs": [
        {
          "output_type": "stream",
          "name": "stdout",
          "text": [
            "Default Merge : \n",
            "    customer_id  region_id start_date   end_date  duration_days    txn_date  \\\n",
            "0            1          3 2020-01-02 2020-01-03            1.0  02-01-2020   \n",
            "1            1          3 2020-01-02 2020-01-03            1.0  05-03-2020   \n",
            "2            1          3 2020-01-02 2020-01-03            1.0  17-03-2020   \n",
            "3            1          3 2020-01-02 2020-01-03            1.0  19-03-2020   \n",
            "4            1          3 2020-01-04 2020-01-14           10.0  02-01-2020   \n",
            "\n",
            "   txn_type  txn_amount  \n",
            "0   deposit         312  \n",
            "1  purchase         612  \n",
            "2   deposit         324  \n",
            "3  purchase         664  \n",
            "4   deposit         312  \n",
            "After Dropping Rows with Missing Values : \n",
            "    customer_id  region_id start_date   end_date  duration_days    txn_date  \\\n",
            "0            1          3 2020-01-02 2020-01-03            1.0  02-01-2020   \n",
            "1            1          3 2020-01-02 2020-01-03            1.0  05-03-2020   \n",
            "2            1          3 2020-01-02 2020-01-03            1.0  17-03-2020   \n",
            "3            1          3 2020-01-02 2020-01-03            1.0  19-03-2020   \n",
            "4            1          3 2020-01-04 2020-01-14           10.0  02-01-2020   \n",
            "\n",
            "   txn_type  txn_amount  \n",
            "0   deposit         312  \n",
            "1  purchase         612  \n",
            "2   deposit         324  \n",
            "3  purchase         664  \n",
            "4   deposit         312  \n"
          ]
        }
      ]
    },
    {
      "cell_type": "markdown",
      "source": [
        "#6. Calculate the average duration of each customer.\n",
        "1.groupby('customer_id'): Groups the DataFrame by customer_id.\n",
        "\n",
        "2.['duration_days'].mean(): Calculates the average duration for each customer.\n",
        "\n",
        "3.reset_index(): Resets the index of the resulting DataFrame to make customer_id a column again.This is necessary because the groupby function changes the index of the DataFrame."
      ],
      "metadata": {
        "id": "cdmvZh7kbFar"
      }
    },
    {
      "cell_type": "code",
      "source": [
        "average_durations = merged_df.groupby('customer_id')['duration_days'].mean().reset_index()\n",
        "print(average_durations)\n"
      ],
      "metadata": {
        "colab": {
          "base_uri": "https://localhost:8080/"
        },
        "id": "gusxNRjubFrD",
        "outputId": "56006ad3-8aad-424d-a65c-51d9299439f7"
      },
      "execution_count": null,
      "outputs": [
        {
          "output_type": "stream",
          "name": "stdout",
          "text": [
            "     customer_id  duration_days\n",
            "0              1      11.500000\n",
            "1              2      10.833333\n",
            "2              3      13.833333\n",
            "3              4      13.333333\n",
            "4              5       7.500000\n",
            "..           ...            ...\n",
            "495          496       7.333333\n",
            "496          497      18.666667\n",
            "497          498      11.833333\n",
            "498          499       4.333333\n",
            "499          500      14.000000\n",
            "\n",
            "[500 rows x 2 columns]\n"
          ]
        }
      ]
    },
    {
      "cell_type": "markdown",
      "source": [
        "#7. Display the unique transaction types.\n",
        "The unique() method is useful for exploring categorical data, such as transaction types, where you want to understand all possible values present in a column."
      ],
      "metadata": {
        "id": "hGLfjrnzeDyi"
      }
    },
    {
      "cell_type": "code",
      "source": [
        "print(df2.columns)\n",
        "\n",
        "unique = df2['txn_type'].unique()\n",
        "print(unique)"
      ],
      "metadata": {
        "colab": {
          "base_uri": "https://localhost:8080/"
        },
        "id": "o0bVUaL9bFxC",
        "outputId": "87d9453b-7a85-4404-e941-fc70999c029e"
      },
      "execution_count": null,
      "outputs": [
        {
          "output_type": "stream",
          "name": "stdout",
          "text": [
            "Index(['customer_id', 'txn_date', 'txn_type', 'txn_amount'], dtype='object')\n",
            "['deposit' 'withdrawal' 'purchase']\n"
          ]
        }
      ]
    },
    {
      "cell_type": "markdown",
      "source": [
        "#8. Display the count of each transaction type with respect to each continent.\n",
        "If you want to use value_counts() to directly count the occurrences of each txn_type with respect to each region_name.\n",
        "\n",
        "groupby() function in pandas is used to split the DataFrame into groups based on some criteria.\n"
      ],
      "metadata": {
        "id": "he9lHF2ye9dW"
      }
    },
    {
      "cell_type": "code",
      "source": [
        "print(df1.columns)\n",
        "print(df2.columns)\n",
        "print(df3.columns)\n",
        "merge1= pd.merge(df1, df2, on='customer_id', how='left')\n",
        "merge2 = pd.merge(merge1, df3, on= 'region_id', how='left') # Merge the result with df4"
      ],
      "metadata": {
        "colab": {
          "base_uri": "https://localhost:8080/"
        },
        "id": "Qy7bNcaabF1L",
        "outputId": "cd0b57b1-67d0-45f6-df39-cc75d4249c3d"
      },
      "execution_count": null,
      "outputs": [
        {
          "output_type": "stream",
          "name": "stdout",
          "text": [
            "Index(['customer_id', 'region_id', 'start_date', 'end_date', 'duration_days'], dtype='object')\n",
            "Index(['customer_id', 'txn_date', 'txn_type', 'txn_amount'], dtype='object')\n",
            "Index(['region_id', 'region_name'], dtype='object')\n"
          ]
        }
      ]
    },
    {
      "cell_type": "code",
      "source": [
        "# Group and count transactions\n",
        "transaction_counts = merge2.groupby(['region_name','txn_type']).size().reset_index(name='transaction_count')\n",
        "print(transaction_counts)\n"
      ],
      "metadata": {
        "colab": {
          "base_uri": "https://localhost:8080/"
        },
        "id": "iwbwsCF6fC2b",
        "outputId": "02897ec8-d932-4643-9435-32ecfa53157d"
      },
      "execution_count": null,
      "outputs": [
        {
          "output_type": "stream",
          "name": "stdout",
          "text": [
            "   region_name    txn_type  transaction_count\n",
            "0       Africa     deposit               3759\n",
            "1       Africa    purchase               2338\n",
            "2       Africa  withdrawal               2317\n",
            "3      America     deposit               4060\n",
            "4      America    purchase               2359\n",
            "5      America  withdrawal               2387\n",
            "6         Asia     deposit               3682\n",
            "7         Asia    purchase               2149\n",
            "8         Asia  withdrawal               2121\n",
            "9    Australia     deposit               4053\n",
            "10   Australia    purchase               2660\n",
            "11   Australia  withdrawal               2394\n",
            "12      Europe     deposit               3143\n",
            "13      Europe    purchase               1813\n",
            "14      Europe  withdrawal               1841\n"
          ]
        }
      ]
    },
    {
      "cell_type": "code",
      "source": [
        "print(merge2.columns)\n",
        "\n",
        "# Group by 'continent' and count occurrences of each 'transaction_type'\n",
        "transaction_counts =merge2.groupby('region_name')['txn_type'].value_counts().reset_index(name='transaction_count')\n",
        "\n",
        "\n",
        "# Display the counts\n",
        "print(\"Count of each transaction type with respect to each continent:\")\n",
        "print(transaction_counts)"
      ],
      "metadata": {
        "colab": {
          "base_uri": "https://localhost:8080/"
        },
        "id": "nsacAmhBfC6g",
        "outputId": "5772b8c2-805c-4e2a-cddd-2379328cfb11"
      },
      "execution_count": null,
      "outputs": [
        {
          "output_type": "stream",
          "name": "stdout",
          "text": [
            "Index(['customer_id', 'region_id', 'start_date', 'end_date', 'duration_days',\n",
            "       'txn_date', 'txn_type', 'txn_amount', 'region_name'],\n",
            "      dtype='object')\n",
            "Count of each transaction type with respect to each continent:\n",
            "   region_name    txn_type  transaction_count\n",
            "0       Africa     deposit               3759\n",
            "1       Africa    purchase               2338\n",
            "2       Africa  withdrawal               2317\n",
            "3      America     deposit               4060\n",
            "4      America  withdrawal               2387\n",
            "5      America    purchase               2359\n",
            "6         Asia     deposit               3682\n",
            "7         Asia    purchase               2149\n",
            "8         Asia  withdrawal               2121\n",
            "9    Australia     deposit               4053\n",
            "10   Australia    purchase               2660\n",
            "11   Australia  withdrawal               2394\n",
            "12      Europe     deposit               3143\n",
            "13      Europe  withdrawal               1841\n",
            "14      Europe    purchase               1813\n"
          ]
        }
      ]
    },
    {
      "cell_type": "markdown",
      "source": [
        "#9.Find out the selling cost average for packages developed in Pascal.\n",
        "df[df['developIN'] == 'Pascal'] filters the DataFrame df to select only those rows where 'development_language' is 'Pascal'."
      ],
      "metadata": {
        "id": "cuYyjFW1fCN8"
      }
    },
    {
      "cell_type": "code",
      "source": [
        "print(df5.columns)\n",
        "pas_packages = df5[df5['DEVELOPIN'] == 'PASCAL']\n",
        "pas_packages"
      ],
      "metadata": {
        "colab": {
          "base_uri": "https://localhost:8080/",
          "height": 161
        },
        "id": "xTmSwy5wjXMa",
        "outputId": "ac2cc352-1d95-4ae6-b2f6-5a98d623fcf2"
      },
      "execution_count": null,
      "outputs": [
        {
          "output_type": "stream",
          "name": "stdout",
          "text": [
            "Index(['PNAME', 'TITLE', 'DEVELOPIN', 'SCOST', 'DCOST', 'SOLD'], dtype='object')\n"
          ]
        },
        {
          "output_type": "execute_result",
          "data": {
            "text/plain": [
              "      PNAME           TITLE DEVELOPIN    SCOST  DCOST  SOLD\n",
              "2     ANAND   VIDEO TITLING    PASCAL  7500.00  16000     9\n",
              "11   RAMESH        DEAD LEE    PASCAL   599.95   4500    73\n",
              "14  REVATHI  HOSPITAL MGMT.    PASCAL  1100.00  75000     2"
            ],
            "text/html": [
              "\n",
              "  <div id=\"df-509f3b4b-9698-453a-bd88-8090d881d9d6\" class=\"colab-df-container\">\n",
              "    <div>\n",
              "<style scoped>\n",
              "    .dataframe tbody tr th:only-of-type {\n",
              "        vertical-align: middle;\n",
              "    }\n",
              "\n",
              "    .dataframe tbody tr th {\n",
              "        vertical-align: top;\n",
              "    }\n",
              "\n",
              "    .dataframe thead th {\n",
              "        text-align: right;\n",
              "    }\n",
              "</style>\n",
              "<table border=\"1\" class=\"dataframe\">\n",
              "  <thead>\n",
              "    <tr style=\"text-align: right;\">\n",
              "      <th></th>\n",
              "      <th>PNAME</th>\n",
              "      <th>TITLE</th>\n",
              "      <th>DEVELOPIN</th>\n",
              "      <th>SCOST</th>\n",
              "      <th>DCOST</th>\n",
              "      <th>SOLD</th>\n",
              "    </tr>\n",
              "  </thead>\n",
              "  <tbody>\n",
              "    <tr>\n",
              "      <th>2</th>\n",
              "      <td>ANAND</td>\n",
              "      <td>VIDEO TITLING</td>\n",
              "      <td>PASCAL</td>\n",
              "      <td>7500.00</td>\n",
              "      <td>16000</td>\n",
              "      <td>9</td>\n",
              "    </tr>\n",
              "    <tr>\n",
              "      <th>11</th>\n",
              "      <td>RAMESH</td>\n",
              "      <td>DEAD LEE</td>\n",
              "      <td>PASCAL</td>\n",
              "      <td>599.95</td>\n",
              "      <td>4500</td>\n",
              "      <td>73</td>\n",
              "    </tr>\n",
              "    <tr>\n",
              "      <th>14</th>\n",
              "      <td>REVATHI</td>\n",
              "      <td>HOSPITAL MGMT.</td>\n",
              "      <td>PASCAL</td>\n",
              "      <td>1100.00</td>\n",
              "      <td>75000</td>\n",
              "      <td>2</td>\n",
              "    </tr>\n",
              "  </tbody>\n",
              "</table>\n",
              "</div>\n",
              "    <div class=\"colab-df-buttons\">\n",
              "\n",
              "  <div class=\"colab-df-container\">\n",
              "    <button class=\"colab-df-convert\" onclick=\"convertToInteractive('df-509f3b4b-9698-453a-bd88-8090d881d9d6')\"\n",
              "            title=\"Convert this dataframe to an interactive table.\"\n",
              "            style=\"display:none;\">\n",
              "\n",
              "  <svg xmlns=\"http://www.w3.org/2000/svg\" height=\"24px\" viewBox=\"0 -960 960 960\">\n",
              "    <path d=\"M120-120v-720h720v720H120Zm60-500h600v-160H180v160Zm220 220h160v-160H400v160Zm0 220h160v-160H400v160ZM180-400h160v-160H180v160Zm440 0h160v-160H620v160ZM180-180h160v-160H180v160Zm440 0h160v-160H620v160Z\"/>\n",
              "  </svg>\n",
              "    </button>\n",
              "\n",
              "  <style>\n",
              "    .colab-df-container {\n",
              "      display:flex;\n",
              "      gap: 12px;\n",
              "    }\n",
              "\n",
              "    .colab-df-convert {\n",
              "      background-color: #E8F0FE;\n",
              "      border: none;\n",
              "      border-radius: 50%;\n",
              "      cursor: pointer;\n",
              "      display: none;\n",
              "      fill: #1967D2;\n",
              "      height: 32px;\n",
              "      padding: 0 0 0 0;\n",
              "      width: 32px;\n",
              "    }\n",
              "\n",
              "    .colab-df-convert:hover {\n",
              "      background-color: #E2EBFA;\n",
              "      box-shadow: 0px 1px 2px rgba(60, 64, 67, 0.3), 0px 1px 3px 1px rgba(60, 64, 67, 0.15);\n",
              "      fill: #174EA6;\n",
              "    }\n",
              "\n",
              "    .colab-df-buttons div {\n",
              "      margin-bottom: 4px;\n",
              "    }\n",
              "\n",
              "    [theme=dark] .colab-df-convert {\n",
              "      background-color: #3B4455;\n",
              "      fill: #D2E3FC;\n",
              "    }\n",
              "\n",
              "    [theme=dark] .colab-df-convert:hover {\n",
              "      background-color: #434B5C;\n",
              "      box-shadow: 0px 1px 3px 1px rgba(0, 0, 0, 0.15);\n",
              "      filter: drop-shadow(0px 1px 2px rgba(0, 0, 0, 0.3));\n",
              "      fill: #FFFFFF;\n",
              "    }\n",
              "  </style>\n",
              "\n",
              "    <script>\n",
              "      const buttonEl =\n",
              "        document.querySelector('#df-509f3b4b-9698-453a-bd88-8090d881d9d6 button.colab-df-convert');\n",
              "      buttonEl.style.display =\n",
              "        google.colab.kernel.accessAllowed ? 'block' : 'none';\n",
              "\n",
              "      async function convertToInteractive(key) {\n",
              "        const element = document.querySelector('#df-509f3b4b-9698-453a-bd88-8090d881d9d6');\n",
              "        const dataTable =\n",
              "          await google.colab.kernel.invokeFunction('convertToInteractive',\n",
              "                                                    [key], {});\n",
              "        if (!dataTable) return;\n",
              "\n",
              "        const docLinkHtml = 'Like what you see? Visit the ' +\n",
              "          '<a target=\"_blank\" href=https://colab.research.google.com/notebooks/data_table.ipynb>data table notebook</a>'\n",
              "          + ' to learn more about interactive tables.';\n",
              "        element.innerHTML = '';\n",
              "        dataTable['output_type'] = 'display_data';\n",
              "        await google.colab.output.renderOutput(dataTable, element);\n",
              "        const docLink = document.createElement('div');\n",
              "        docLink.innerHTML = docLinkHtml;\n",
              "        element.appendChild(docLink);\n",
              "      }\n",
              "    </script>\n",
              "  </div>\n",
              "\n",
              "\n",
              "<div id=\"df-cebd4c0a-abb6-4e99-a4fe-61cb8a02d724\">\n",
              "  <button class=\"colab-df-quickchart\" onclick=\"quickchart('df-cebd4c0a-abb6-4e99-a4fe-61cb8a02d724')\"\n",
              "            title=\"Suggest charts\"\n",
              "            style=\"display:none;\">\n",
              "\n",
              "<svg xmlns=\"http://www.w3.org/2000/svg\" height=\"24px\"viewBox=\"0 0 24 24\"\n",
              "     width=\"24px\">\n",
              "    <g>\n",
              "        <path d=\"M19 3H5c-1.1 0-2 .9-2 2v14c0 1.1.9 2 2 2h14c1.1 0 2-.9 2-2V5c0-1.1-.9-2-2-2zM9 17H7v-7h2v7zm4 0h-2V7h2v10zm4 0h-2v-4h2v4z\"/>\n",
              "    </g>\n",
              "</svg>\n",
              "  </button>\n",
              "\n",
              "<style>\n",
              "  .colab-df-quickchart {\n",
              "      --bg-color: #E8F0FE;\n",
              "      --fill-color: #1967D2;\n",
              "      --hover-bg-color: #E2EBFA;\n",
              "      --hover-fill-color: #174EA6;\n",
              "      --disabled-fill-color: #AAA;\n",
              "      --disabled-bg-color: #DDD;\n",
              "  }\n",
              "\n",
              "  [theme=dark] .colab-df-quickchart {\n",
              "      --bg-color: #3B4455;\n",
              "      --fill-color: #D2E3FC;\n",
              "      --hover-bg-color: #434B5C;\n",
              "      --hover-fill-color: #FFFFFF;\n",
              "      --disabled-bg-color: #3B4455;\n",
              "      --disabled-fill-color: #666;\n",
              "  }\n",
              "\n",
              "  .colab-df-quickchart {\n",
              "    background-color: var(--bg-color);\n",
              "    border: none;\n",
              "    border-radius: 50%;\n",
              "    cursor: pointer;\n",
              "    display: none;\n",
              "    fill: var(--fill-color);\n",
              "    height: 32px;\n",
              "    padding: 0;\n",
              "    width: 32px;\n",
              "  }\n",
              "\n",
              "  .colab-df-quickchart:hover {\n",
              "    background-color: var(--hover-bg-color);\n",
              "    box-shadow: 0 1px 2px rgba(60, 64, 67, 0.3), 0 1px 3px 1px rgba(60, 64, 67, 0.15);\n",
              "    fill: var(--button-hover-fill-color);\n",
              "  }\n",
              "\n",
              "  .colab-df-quickchart-complete:disabled,\n",
              "  .colab-df-quickchart-complete:disabled:hover {\n",
              "    background-color: var(--disabled-bg-color);\n",
              "    fill: var(--disabled-fill-color);\n",
              "    box-shadow: none;\n",
              "  }\n",
              "\n",
              "  .colab-df-spinner {\n",
              "    border: 2px solid var(--fill-color);\n",
              "    border-color: transparent;\n",
              "    border-bottom-color: var(--fill-color);\n",
              "    animation:\n",
              "      spin 1s steps(1) infinite;\n",
              "  }\n",
              "\n",
              "  @keyframes spin {\n",
              "    0% {\n",
              "      border-color: transparent;\n",
              "      border-bottom-color: var(--fill-color);\n",
              "      border-left-color: var(--fill-color);\n",
              "    }\n",
              "    20% {\n",
              "      border-color: transparent;\n",
              "      border-left-color: var(--fill-color);\n",
              "      border-top-color: var(--fill-color);\n",
              "    }\n",
              "    30% {\n",
              "      border-color: transparent;\n",
              "      border-left-color: var(--fill-color);\n",
              "      border-top-color: var(--fill-color);\n",
              "      border-right-color: var(--fill-color);\n",
              "    }\n",
              "    40% {\n",
              "      border-color: transparent;\n",
              "      border-right-color: var(--fill-color);\n",
              "      border-top-color: var(--fill-color);\n",
              "    }\n",
              "    60% {\n",
              "      border-color: transparent;\n",
              "      border-right-color: var(--fill-color);\n",
              "    }\n",
              "    80% {\n",
              "      border-color: transparent;\n",
              "      border-right-color: var(--fill-color);\n",
              "      border-bottom-color: var(--fill-color);\n",
              "    }\n",
              "    90% {\n",
              "      border-color: transparent;\n",
              "      border-bottom-color: var(--fill-color);\n",
              "    }\n",
              "  }\n",
              "</style>\n",
              "\n",
              "  <script>\n",
              "    async function quickchart(key) {\n",
              "      const quickchartButtonEl =\n",
              "        document.querySelector('#' + key + ' button');\n",
              "      quickchartButtonEl.disabled = true;  // To prevent multiple clicks.\n",
              "      quickchartButtonEl.classList.add('colab-df-spinner');\n",
              "      try {\n",
              "        const charts = await google.colab.kernel.invokeFunction(\n",
              "            'suggestCharts', [key], {});\n",
              "      } catch (error) {\n",
              "        console.error('Error during call to suggestCharts:', error);\n",
              "      }\n",
              "      quickchartButtonEl.classList.remove('colab-df-spinner');\n",
              "      quickchartButtonEl.classList.add('colab-df-quickchart-complete');\n",
              "    }\n",
              "    (() => {\n",
              "      let quickchartButtonEl =\n",
              "        document.querySelector('#df-cebd4c0a-abb6-4e99-a4fe-61cb8a02d724 button');\n",
              "      quickchartButtonEl.style.display =\n",
              "        google.colab.kernel.accessAllowed ? 'block' : 'none';\n",
              "    })();\n",
              "  </script>\n",
              "</div>\n",
              "\n",
              "  <div id=\"id_e017e7ed-927c-4166-87dc-ecd9952d625e\">\n",
              "    <style>\n",
              "      .colab-df-generate {\n",
              "        background-color: #E8F0FE;\n",
              "        border: none;\n",
              "        border-radius: 50%;\n",
              "        cursor: pointer;\n",
              "        display: none;\n",
              "        fill: #1967D2;\n",
              "        height: 32px;\n",
              "        padding: 0 0 0 0;\n",
              "        width: 32px;\n",
              "      }\n",
              "\n",
              "      .colab-df-generate:hover {\n",
              "        background-color: #E2EBFA;\n",
              "        box-shadow: 0px 1px 2px rgba(60, 64, 67, 0.3), 0px 1px 3px 1px rgba(60, 64, 67, 0.15);\n",
              "        fill: #174EA6;\n",
              "      }\n",
              "\n",
              "      [theme=dark] .colab-df-generate {\n",
              "        background-color: #3B4455;\n",
              "        fill: #D2E3FC;\n",
              "      }\n",
              "\n",
              "      [theme=dark] .colab-df-generate:hover {\n",
              "        background-color: #434B5C;\n",
              "        box-shadow: 0px 1px 3px 1px rgba(0, 0, 0, 0.15);\n",
              "        filter: drop-shadow(0px 1px 2px rgba(0, 0, 0, 0.3));\n",
              "        fill: #FFFFFF;\n",
              "      }\n",
              "    </style>\n",
              "    <button class=\"colab-df-generate\" onclick=\"generateWithVariable('pas_packages')\"\n",
              "            title=\"Generate code using this dataframe.\"\n",
              "            style=\"display:none;\">\n",
              "\n",
              "  <svg xmlns=\"http://www.w3.org/2000/svg\" height=\"24px\"viewBox=\"0 0 24 24\"\n",
              "       width=\"24px\">\n",
              "    <path d=\"M7,19H8.4L18.45,9,17,7.55,7,17.6ZM5,21V16.75L18.45,3.32a2,2,0,0,1,2.83,0l1.4,1.43a1.91,1.91,0,0,1,.58,1.4,1.91,1.91,0,0,1-.58,1.4L9.25,21ZM18.45,9,17,7.55Zm-12,3A5.31,5.31,0,0,0,4.9,8.1,5.31,5.31,0,0,0,1,6.5,5.31,5.31,0,0,0,4.9,4.9,5.31,5.31,0,0,0,6.5,1,5.31,5.31,0,0,0,8.1,4.9,5.31,5.31,0,0,0,12,6.5,5.46,5.46,0,0,0,6.5,12Z\"/>\n",
              "  </svg>\n",
              "    </button>\n",
              "    <script>\n",
              "      (() => {\n",
              "      const buttonEl =\n",
              "        document.querySelector('#id_e017e7ed-927c-4166-87dc-ecd9952d625e button.colab-df-generate');\n",
              "      buttonEl.style.display =\n",
              "        google.colab.kernel.accessAllowed ? 'block' : 'none';\n",
              "\n",
              "      buttonEl.onclick = () => {\n",
              "        google.colab.notebook.generateWithVariable('pas_packages');\n",
              "      }\n",
              "      })();\n",
              "    </script>\n",
              "  </div>\n",
              "\n",
              "    </div>\n",
              "  </div>\n"
            ],
            "application/vnd.google.colaboratory.intrinsic+json": {
              "type": "dataframe",
              "variable_name": "pas_packages",
              "summary": "{\n  \"name\": \"pas_packages\",\n  \"rows\": 3,\n  \"fields\": [\n    {\n      \"column\": \"PNAME\",\n      \"properties\": {\n        \"dtype\": \"string\",\n        \"num_unique_values\": 3,\n        \"samples\": [\n          \"ANAND\",\n          \"RAMESH\",\n          \"REVATHI\"\n        ],\n        \"semantic_type\": \"\",\n        \"description\": \"\"\n      }\n    },\n    {\n      \"column\": \"TITLE\",\n      \"properties\": {\n        \"dtype\": \"string\",\n        \"num_unique_values\": 3,\n        \"samples\": [\n          \"VIDEO TITLING\",\n          \"DEAD LEE\",\n          \"HOSPITAL MGMT.\"\n        ],\n        \"semantic_type\": \"\",\n        \"description\": \"\"\n      }\n    },\n    {\n      \"column\": \"DEVELOPIN\",\n      \"properties\": {\n        \"dtype\": \"category\",\n        \"num_unique_values\": 1,\n        \"samples\": [\n          \"PASCAL\"\n        ],\n        \"semantic_type\": \"\",\n        \"description\": \"\"\n      }\n    },\n    {\n      \"column\": \"SCOST\",\n      \"properties\": {\n        \"dtype\": \"number\",\n        \"std\": 3847.5260450710407,\n        \"min\": 599.95,\n        \"max\": 7500.0,\n        \"num_unique_values\": 3,\n        \"samples\": [\n          7500.0\n        ],\n        \"semantic_type\": \"\",\n        \"description\": \"\"\n      }\n    },\n    {\n      \"column\": \"DCOST\",\n      \"properties\": {\n        \"dtype\": \"number\",\n        \"std\": 37823,\n        \"min\": 4500,\n        \"max\": 75000,\n        \"num_unique_values\": 3,\n        \"samples\": [\n          16000\n        ],\n        \"semantic_type\": \"\",\n        \"description\": \"\"\n      }\n    },\n    {\n      \"column\": \"SOLD\",\n      \"properties\": {\n        \"dtype\": \"number\",\n        \"std\": 39,\n        \"min\": 2,\n        \"max\": 73,\n        \"num_unique_values\": 3,\n        \"samples\": [\n          9\n        ],\n        \"semantic_type\": \"\",\n        \"description\": \"\"\n      }\n    }\n  ]\n}"
            }
          },
          "metadata": {},
          "execution_count": 122
        }
      ]
    },
    {
      "cell_type": "code",
      "source": [
        "# Calculate the average\n",
        "avg_selling_cost = pas_packages['SCOST'].mean()\n",
        "print(\"Average Selling Cost for the packages developed in Pascal: \", avg_selling_cost)\n"
      ],
      "metadata": {
        "colab": {
          "base_uri": "https://localhost:8080/"
        },
        "id": "-HyT58kpjXPp",
        "outputId": "ad51f36a-f45f-4b79-ec36-69e10cfea6a9"
      },
      "execution_count": null,
      "outputs": [
        {
          "output_type": "stream",
          "name": "stdout",
          "text": [
            "Average Selling Cost for the packages developed in Pascal:  3066.65\n"
          ]
        }
      ]
    },
    {
      "cell_type": "markdown",
      "source": [
        "#10. Display the names of those who have done the DAP Course.\n"
      ],
      "metadata": {
        "id": "jCdXX0jgmDES"
      }
    },
    {
      "cell_type": "code",
      "source": [
        "print(df4.columns)\n",
        "dap = df4[df4['COURSE'] == 'DAP']\n",
        "dap\n"
      ],
      "metadata": {
        "colab": {
          "base_uri": "https://localhost:8080/",
          "height": 143
        },
        "id": "PR7iHAQOjXTL",
        "outputId": "7f0806a1-9319-4684-c564-3c8d5b096db7"
      },
      "execution_count": null,
      "outputs": [
        {
          "output_type": "stream",
          "name": "stdout",
          "text": [
            "Index(['PNAME', 'INSTITUTE', 'COURSE', 'COURSE FEE'], dtype='object')\n"
          ]
        },
        {
          "output_type": "execute_result",
          "data": {
            "text/plain": [
              "      PNAME INSTITUTE COURSE  COURSE FEE\n",
              "5    NELSON  PRAGATHI    DAP        6200\n",
              "11  REVATHI   SABHARI    DAP        5000"
            ],
            "text/html": [
              "\n",
              "  <div id=\"df-42d88c1e-a788-4057-91df-0dabc3d8e79a\" class=\"colab-df-container\">\n",
              "    <div>\n",
              "<style scoped>\n",
              "    .dataframe tbody tr th:only-of-type {\n",
              "        vertical-align: middle;\n",
              "    }\n",
              "\n",
              "    .dataframe tbody tr th {\n",
              "        vertical-align: top;\n",
              "    }\n",
              "\n",
              "    .dataframe thead th {\n",
              "        text-align: right;\n",
              "    }\n",
              "</style>\n",
              "<table border=\"1\" class=\"dataframe\">\n",
              "  <thead>\n",
              "    <tr style=\"text-align: right;\">\n",
              "      <th></th>\n",
              "      <th>PNAME</th>\n",
              "      <th>INSTITUTE</th>\n",
              "      <th>COURSE</th>\n",
              "      <th>COURSE FEE</th>\n",
              "    </tr>\n",
              "  </thead>\n",
              "  <tbody>\n",
              "    <tr>\n",
              "      <th>5</th>\n",
              "      <td>NELSON</td>\n",
              "      <td>PRAGATHI</td>\n",
              "      <td>DAP</td>\n",
              "      <td>6200</td>\n",
              "    </tr>\n",
              "    <tr>\n",
              "      <th>11</th>\n",
              "      <td>REVATHI</td>\n",
              "      <td>SABHARI</td>\n",
              "      <td>DAP</td>\n",
              "      <td>5000</td>\n",
              "    </tr>\n",
              "  </tbody>\n",
              "</table>\n",
              "</div>\n",
              "    <div class=\"colab-df-buttons\">\n",
              "\n",
              "  <div class=\"colab-df-container\">\n",
              "    <button class=\"colab-df-convert\" onclick=\"convertToInteractive('df-42d88c1e-a788-4057-91df-0dabc3d8e79a')\"\n",
              "            title=\"Convert this dataframe to an interactive table.\"\n",
              "            style=\"display:none;\">\n",
              "\n",
              "  <svg xmlns=\"http://www.w3.org/2000/svg\" height=\"24px\" viewBox=\"0 -960 960 960\">\n",
              "    <path d=\"M120-120v-720h720v720H120Zm60-500h600v-160H180v160Zm220 220h160v-160H400v160Zm0 220h160v-160H400v160ZM180-400h160v-160H180v160Zm440 0h160v-160H620v160ZM180-180h160v-160H180v160Zm440 0h160v-160H620v160Z\"/>\n",
              "  </svg>\n",
              "    </button>\n",
              "\n",
              "  <style>\n",
              "    .colab-df-container {\n",
              "      display:flex;\n",
              "      gap: 12px;\n",
              "    }\n",
              "\n",
              "    .colab-df-convert {\n",
              "      background-color: #E8F0FE;\n",
              "      border: none;\n",
              "      border-radius: 50%;\n",
              "      cursor: pointer;\n",
              "      display: none;\n",
              "      fill: #1967D2;\n",
              "      height: 32px;\n",
              "      padding: 0 0 0 0;\n",
              "      width: 32px;\n",
              "    }\n",
              "\n",
              "    .colab-df-convert:hover {\n",
              "      background-color: #E2EBFA;\n",
              "      box-shadow: 0px 1px 2px rgba(60, 64, 67, 0.3), 0px 1px 3px 1px rgba(60, 64, 67, 0.15);\n",
              "      fill: #174EA6;\n",
              "    }\n",
              "\n",
              "    .colab-df-buttons div {\n",
              "      margin-bottom: 4px;\n",
              "    }\n",
              "\n",
              "    [theme=dark] .colab-df-convert {\n",
              "      background-color: #3B4455;\n",
              "      fill: #D2E3FC;\n",
              "    }\n",
              "\n",
              "    [theme=dark] .colab-df-convert:hover {\n",
              "      background-color: #434B5C;\n",
              "      box-shadow: 0px 1px 3px 1px rgba(0, 0, 0, 0.15);\n",
              "      filter: drop-shadow(0px 1px 2px rgba(0, 0, 0, 0.3));\n",
              "      fill: #FFFFFF;\n",
              "    }\n",
              "  </style>\n",
              "\n",
              "    <script>\n",
              "      const buttonEl =\n",
              "        document.querySelector('#df-42d88c1e-a788-4057-91df-0dabc3d8e79a button.colab-df-convert');\n",
              "      buttonEl.style.display =\n",
              "        google.colab.kernel.accessAllowed ? 'block' : 'none';\n",
              "\n",
              "      async function convertToInteractive(key) {\n",
              "        const element = document.querySelector('#df-42d88c1e-a788-4057-91df-0dabc3d8e79a');\n",
              "        const dataTable =\n",
              "          await google.colab.kernel.invokeFunction('convertToInteractive',\n",
              "                                                    [key], {});\n",
              "        if (!dataTable) return;\n",
              "\n",
              "        const docLinkHtml = 'Like what you see? Visit the ' +\n",
              "          '<a target=\"_blank\" href=https://colab.research.google.com/notebooks/data_table.ipynb>data table notebook</a>'\n",
              "          + ' to learn more about interactive tables.';\n",
              "        element.innerHTML = '';\n",
              "        dataTable['output_type'] = 'display_data';\n",
              "        await google.colab.output.renderOutput(dataTable, element);\n",
              "        const docLink = document.createElement('div');\n",
              "        docLink.innerHTML = docLinkHtml;\n",
              "        element.appendChild(docLink);\n",
              "      }\n",
              "    </script>\n",
              "  </div>\n",
              "\n",
              "\n",
              "<div id=\"df-083d42e5-3240-4cca-9b21-8989d69271ba\">\n",
              "  <button class=\"colab-df-quickchart\" onclick=\"quickchart('df-083d42e5-3240-4cca-9b21-8989d69271ba')\"\n",
              "            title=\"Suggest charts\"\n",
              "            style=\"display:none;\">\n",
              "\n",
              "<svg xmlns=\"http://www.w3.org/2000/svg\" height=\"24px\"viewBox=\"0 0 24 24\"\n",
              "     width=\"24px\">\n",
              "    <g>\n",
              "        <path d=\"M19 3H5c-1.1 0-2 .9-2 2v14c0 1.1.9 2 2 2h14c1.1 0 2-.9 2-2V5c0-1.1-.9-2-2-2zM9 17H7v-7h2v7zm4 0h-2V7h2v10zm4 0h-2v-4h2v4z\"/>\n",
              "    </g>\n",
              "</svg>\n",
              "  </button>\n",
              "\n",
              "<style>\n",
              "  .colab-df-quickchart {\n",
              "      --bg-color: #E8F0FE;\n",
              "      --fill-color: #1967D2;\n",
              "      --hover-bg-color: #E2EBFA;\n",
              "      --hover-fill-color: #174EA6;\n",
              "      --disabled-fill-color: #AAA;\n",
              "      --disabled-bg-color: #DDD;\n",
              "  }\n",
              "\n",
              "  [theme=dark] .colab-df-quickchart {\n",
              "      --bg-color: #3B4455;\n",
              "      --fill-color: #D2E3FC;\n",
              "      --hover-bg-color: #434B5C;\n",
              "      --hover-fill-color: #FFFFFF;\n",
              "      --disabled-bg-color: #3B4455;\n",
              "      --disabled-fill-color: #666;\n",
              "  }\n",
              "\n",
              "  .colab-df-quickchart {\n",
              "    background-color: var(--bg-color);\n",
              "    border: none;\n",
              "    border-radius: 50%;\n",
              "    cursor: pointer;\n",
              "    display: none;\n",
              "    fill: var(--fill-color);\n",
              "    height: 32px;\n",
              "    padding: 0;\n",
              "    width: 32px;\n",
              "  }\n",
              "\n",
              "  .colab-df-quickchart:hover {\n",
              "    background-color: var(--hover-bg-color);\n",
              "    box-shadow: 0 1px 2px rgba(60, 64, 67, 0.3), 0 1px 3px 1px rgba(60, 64, 67, 0.15);\n",
              "    fill: var(--button-hover-fill-color);\n",
              "  }\n",
              "\n",
              "  .colab-df-quickchart-complete:disabled,\n",
              "  .colab-df-quickchart-complete:disabled:hover {\n",
              "    background-color: var(--disabled-bg-color);\n",
              "    fill: var(--disabled-fill-color);\n",
              "    box-shadow: none;\n",
              "  }\n",
              "\n",
              "  .colab-df-spinner {\n",
              "    border: 2px solid var(--fill-color);\n",
              "    border-color: transparent;\n",
              "    border-bottom-color: var(--fill-color);\n",
              "    animation:\n",
              "      spin 1s steps(1) infinite;\n",
              "  }\n",
              "\n",
              "  @keyframes spin {\n",
              "    0% {\n",
              "      border-color: transparent;\n",
              "      border-bottom-color: var(--fill-color);\n",
              "      border-left-color: var(--fill-color);\n",
              "    }\n",
              "    20% {\n",
              "      border-color: transparent;\n",
              "      border-left-color: var(--fill-color);\n",
              "      border-top-color: var(--fill-color);\n",
              "    }\n",
              "    30% {\n",
              "      border-color: transparent;\n",
              "      border-left-color: var(--fill-color);\n",
              "      border-top-color: var(--fill-color);\n",
              "      border-right-color: var(--fill-color);\n",
              "    }\n",
              "    40% {\n",
              "      border-color: transparent;\n",
              "      border-right-color: var(--fill-color);\n",
              "      border-top-color: var(--fill-color);\n",
              "    }\n",
              "    60% {\n",
              "      border-color: transparent;\n",
              "      border-right-color: var(--fill-color);\n",
              "    }\n",
              "    80% {\n",
              "      border-color: transparent;\n",
              "      border-right-color: var(--fill-color);\n",
              "      border-bottom-color: var(--fill-color);\n",
              "    }\n",
              "    90% {\n",
              "      border-color: transparent;\n",
              "      border-bottom-color: var(--fill-color);\n",
              "    }\n",
              "  }\n",
              "</style>\n",
              "\n",
              "  <script>\n",
              "    async function quickchart(key) {\n",
              "      const quickchartButtonEl =\n",
              "        document.querySelector('#' + key + ' button');\n",
              "      quickchartButtonEl.disabled = true;  // To prevent multiple clicks.\n",
              "      quickchartButtonEl.classList.add('colab-df-spinner');\n",
              "      try {\n",
              "        const charts = await google.colab.kernel.invokeFunction(\n",
              "            'suggestCharts', [key], {});\n",
              "      } catch (error) {\n",
              "        console.error('Error during call to suggestCharts:', error);\n",
              "      }\n",
              "      quickchartButtonEl.classList.remove('colab-df-spinner');\n",
              "      quickchartButtonEl.classList.add('colab-df-quickchart-complete');\n",
              "    }\n",
              "    (() => {\n",
              "      let quickchartButtonEl =\n",
              "        document.querySelector('#df-083d42e5-3240-4cca-9b21-8989d69271ba button');\n",
              "      quickchartButtonEl.style.display =\n",
              "        google.colab.kernel.accessAllowed ? 'block' : 'none';\n",
              "    })();\n",
              "  </script>\n",
              "</div>\n",
              "\n",
              "  <div id=\"id_67bc3f31-9c30-411b-a4b5-13964e9d0f00\">\n",
              "    <style>\n",
              "      .colab-df-generate {\n",
              "        background-color: #E8F0FE;\n",
              "        border: none;\n",
              "        border-radius: 50%;\n",
              "        cursor: pointer;\n",
              "        display: none;\n",
              "        fill: #1967D2;\n",
              "        height: 32px;\n",
              "        padding: 0 0 0 0;\n",
              "        width: 32px;\n",
              "      }\n",
              "\n",
              "      .colab-df-generate:hover {\n",
              "        background-color: #E2EBFA;\n",
              "        box-shadow: 0px 1px 2px rgba(60, 64, 67, 0.3), 0px 1px 3px 1px rgba(60, 64, 67, 0.15);\n",
              "        fill: #174EA6;\n",
              "      }\n",
              "\n",
              "      [theme=dark] .colab-df-generate {\n",
              "        background-color: #3B4455;\n",
              "        fill: #D2E3FC;\n",
              "      }\n",
              "\n",
              "      [theme=dark] .colab-df-generate:hover {\n",
              "        background-color: #434B5C;\n",
              "        box-shadow: 0px 1px 3px 1px rgba(0, 0, 0, 0.15);\n",
              "        filter: drop-shadow(0px 1px 2px rgba(0, 0, 0, 0.3));\n",
              "        fill: #FFFFFF;\n",
              "      }\n",
              "    </style>\n",
              "    <button class=\"colab-df-generate\" onclick=\"generateWithVariable('dap')\"\n",
              "            title=\"Generate code using this dataframe.\"\n",
              "            style=\"display:none;\">\n",
              "\n",
              "  <svg xmlns=\"http://www.w3.org/2000/svg\" height=\"24px\"viewBox=\"0 0 24 24\"\n",
              "       width=\"24px\">\n",
              "    <path d=\"M7,19H8.4L18.45,9,17,7.55,7,17.6ZM5,21V16.75L18.45,3.32a2,2,0,0,1,2.83,0l1.4,1.43a1.91,1.91,0,0,1,.58,1.4,1.91,1.91,0,0,1-.58,1.4L9.25,21ZM18.45,9,17,7.55Zm-12,3A5.31,5.31,0,0,0,4.9,8.1,5.31,5.31,0,0,0,1,6.5,5.31,5.31,0,0,0,4.9,4.9,5.31,5.31,0,0,0,6.5,1,5.31,5.31,0,0,0,8.1,4.9,5.31,5.31,0,0,0,12,6.5,5.46,5.46,0,0,0,6.5,12Z\"/>\n",
              "  </svg>\n",
              "    </button>\n",
              "    <script>\n",
              "      (() => {\n",
              "      const buttonEl =\n",
              "        document.querySelector('#id_67bc3f31-9c30-411b-a4b5-13964e9d0f00 button.colab-df-generate');\n",
              "      buttonEl.style.display =\n",
              "        google.colab.kernel.accessAllowed ? 'block' : 'none';\n",
              "\n",
              "      buttonEl.onclick = () => {\n",
              "        google.colab.notebook.generateWithVariable('dap');\n",
              "      }\n",
              "      })();\n",
              "    </script>\n",
              "  </div>\n",
              "\n",
              "    </div>\n",
              "  </div>\n"
            ],
            "application/vnd.google.colaboratory.intrinsic+json": {
              "type": "dataframe",
              "variable_name": "dap",
              "summary": "{\n  \"name\": \"dap\",\n  \"rows\": 2,\n  \"fields\": [\n    {\n      \"column\": \"PNAME\",\n      \"properties\": {\n        \"dtype\": \"string\",\n        \"num_unique_values\": 2,\n        \"samples\": [\n          \"REVATHI\",\n          \"NELSON\"\n        ],\n        \"semantic_type\": \"\",\n        \"description\": \"\"\n      }\n    },\n    {\n      \"column\": \"INSTITUTE\",\n      \"properties\": {\n        \"dtype\": \"string\",\n        \"num_unique_values\": 2,\n        \"samples\": [\n          \"SABHARI\",\n          \"PRAGATHI\"\n        ],\n        \"semantic_type\": \"\",\n        \"description\": \"\"\n      }\n    },\n    {\n      \"column\": \"COURSE\",\n      \"properties\": {\n        \"dtype\": \"string\",\n        \"num_unique_values\": 1,\n        \"samples\": [\n          \"DAP\"\n        ],\n        \"semantic_type\": \"\",\n        \"description\": \"\"\n      }\n    },\n    {\n      \"column\": \"COURSE FEE\",\n      \"properties\": {\n        \"dtype\": \"number\",\n        \"std\": 848,\n        \"min\": 5000,\n        \"max\": 6200,\n        \"num_unique_values\": 2,\n        \"samples\": [\n          5000\n        ],\n        \"semantic_type\": \"\",\n        \"description\": \"\"\n      }\n    }\n  ]\n}"
            }
          },
          "metadata": {},
          "execution_count": 125
        }
      ]
    },
    {
      "cell_type": "code",
      "source": [
        "print(dap['PNAME'])"
      ],
      "metadata": {
        "colab": {
          "base_uri": "https://localhost:8080/"
        },
        "id": "YSkDNHyKm8tQ",
        "outputId": "ca89edd8-1303-4111-9067-de3adcdc153b"
      },
      "execution_count": null,
      "outputs": [
        {
          "output_type": "stream",
          "name": "stdout",
          "text": [
            "5      NELSON\n",
            "11    REVATHI\n",
            "Name: PNAME, dtype: object\n"
          ]
        }
      ]
    },
    {
      "cell_type": "markdown",
      "source": [
        "#11. Display the lowest course fee."
      ],
      "metadata": {
        "id": "EtubF8uHm-yg"
      }
    },
    {
      "cell_type": "code",
      "source": [
        "low=df4['COURSE FEE'].min()\n",
        "print(\"Lowest Course Fee : \",low)"
      ],
      "metadata": {
        "colab": {
          "base_uri": "https://localhost:8080/"
        },
        "id": "nBp2FMj7m_Eh",
        "outputId": "e23acfd9-4ec7-4e01-911d-ed446e7e22af"
      },
      "execution_count": null,
      "outputs": [
        {
          "output_type": "stream",
          "name": "stdout",
          "text": [
            "Lowest Course Fee :  4500\n"
          ]
        }
      ]
    },
    {
      "cell_type": "markdown",
      "source": [
        "#12. Display the details of the packages for which development costs have been recovered."
      ],
      "metadata": {
        "id": "znMiw24OnPfJ"
      }
    },
    {
      "cell_type": "code",
      "source": [
        "df5['R'] = df5['SCOST'] * df5['SOLD']\n",
        "# Assuming you want to compare 'Recover' with 'DCOST' column in df5\n",
        "recover = df5[df5['R'] >= df5['DCOST']]  # Change 5 to df5\n",
        "print(recover[['PNAME', 'TITLE', 'DEVELOPIN', 'SCOST', 'DCOST', 'SOLD']])"
      ],
      "metadata": {
        "colab": {
          "base_uri": "https://localhost:8080/"
        },
        "id": "mnpoHEGcm_MS",
        "outputId": "0465f619-24f2-425b-9e42-0e63cb9c1f92"
      },
      "execution_count": null,
      "outputs": [
        {
          "output_type": "stream",
          "name": "stdout",
          "text": [
            "       PNAME           TITLE DEVELOPIN     SCOST  DCOST  SOLD\n",
            "0       MARY          README       CPP    300.00   1200    84\n",
            "1      ANAND      PARACHUTES     BASIC    399.95   6000    43\n",
            "2      ANAND   VIDEO TITLING    PASCAL   7500.00  16000     9\n",
            "4     KAMALA    PAYROLL PKG.     DBASE   9000.00  20000     7\n",
            "6       MARY  CODE GENERATOR         C   4500.00  20000    23\n",
            "7   PATTRICK          README       CPP    300.00   1200    84\n",
            "8      QADIR      BOMBS AWAY  ASSEMBLY    750.00   3000    11\n",
            "9      QADIR        VACCINES         C   1900.00   3100    21\n",
            "10    RAMESH     HOTEL MGMT.     DBASE  13000.00  35000     4\n",
            "11    RAMESH        DEAD LEE    PASCAL    599.95   4500    73\n",
            "12   REMITHA    PC UTILITIES         C    725.00   5000    51\n",
            "13   REMITHA   TSR HELP PKG.  ASSEMBLY   2500.00   6000     7\n",
            "15    VIJAYA      TSR EDITOR         C    900.00    700     6\n"
          ]
        }
      ]
    },
    {
      "cell_type": "code",
      "source": [
        "data = {\n",
        "    'package_name': ['MARY', 'ANAND','KAMALA'],\n",
        "    'development_cost': [1000, 150,200],\n",
        "    'recovered': [True, False,True]\n",
        "}\n",
        "\n",
        "df = pd.DataFrame(data)\n",
        "\n",
        "# Filter packages where development costs have been recovered\n",
        "recovered_packages = df[df['recovered'] == True]\n",
        "\n",
        "# Display details of packages where development costs have been recovered\n",
        "print(\"Details of packages where development costs have been recovered:\")\n",
        "print(recovered_packages)"
      ],
      "metadata": {
        "colab": {
          "base_uri": "https://localhost:8080/"
        },
        "id": "I_1RCWFSoLyA",
        "outputId": "7c5c7e08-21fd-464c-a6a1-10b6d5a08384"
      },
      "execution_count": null,
      "outputs": [
        {
          "output_type": "stream",
          "name": "stdout",
          "text": [
            "Details of packages where development costs have been recovered:\n",
            "  package_name  development_cost  recovered\n",
            "0         MARY              1000       True\n",
            "2       KAMALA               200       True\n"
          ]
        }
      ]
    },
    {
      "cell_type": "markdown",
      "source": [
        "#13. What is the cost of the costliest software development in Basic."
      ],
      "metadata": {
        "id": "OGkpNycsoLPq"
      }
    },
    {
      "cell_type": "code",
      "source": [
        "c = df5[df5['DEVELOPIN']== 'BASIC']['DCOST'].max()\n",
        "print(\"Cost of the costliest software development in Basic : \", c )\n"
      ],
      "metadata": {
        "colab": {
          "base_uri": "https://localhost:8080/"
        },
        "id": "0ycIeYRCpsWA",
        "outputId": "cbf363b9-d017-4dc4-ee03-b396828f6f8a"
      },
      "execution_count": null,
      "outputs": [
        {
          "output_type": "stream",
          "name": "stdout",
          "text": [
            "Cost of the costliest software development in Basic :  6000\n"
          ]
        }
      ]
    },
    {
      "cell_type": "markdown",
      "source": [
        "#14. How many programmers paid 5000 to 10000 for their course."
      ],
      "metadata": {
        "id": "ZDi2gY_kqvGR"
      }
    },
    {
      "cell_type": "code",
      "source": [
        "print(df6.columns)\n",
        "a = df6[(df6['SALARY'] >= 5000) & (df6['SALARY'] <= 10000)]\n",
        "a"
      ],
      "metadata": {
        "colab": {
          "base_uri": "https://localhost:8080/",
          "height": 107
        },
        "id": "4ZLU_Mc6ps3I",
        "outputId": "9bcd39d2-7a22-4d93-b9e9-477d2f1010cf"
      },
      "execution_count": null,
      "outputs": [
        {
          "output_type": "stream",
          "name": "stdout",
          "text": [
            "Index(['PNAME', 'DOB', 'DOJ', 'GENDER', 'PROF1', 'PROF2', 'SALARY'], dtype='object')\n"
          ]
        },
        {
          "output_type": "execute_result",
          "data": {
            "text/plain": [
              "Empty DataFrame\n",
              "Columns: [PNAME, DOB, DOJ, GENDER, PROF1, PROF2, SALARY]\n",
              "Index: []"
            ],
            "text/html": [
              "\n",
              "  <div id=\"df-b887e736-aa65-4751-96bf-708768efd360\" class=\"colab-df-container\">\n",
              "    <div>\n",
              "<style scoped>\n",
              "    .dataframe tbody tr th:only-of-type {\n",
              "        vertical-align: middle;\n",
              "    }\n",
              "\n",
              "    .dataframe tbody tr th {\n",
              "        vertical-align: top;\n",
              "    }\n",
              "\n",
              "    .dataframe thead th {\n",
              "        text-align: right;\n",
              "    }\n",
              "</style>\n",
              "<table border=\"1\" class=\"dataframe\">\n",
              "  <thead>\n",
              "    <tr style=\"text-align: right;\">\n",
              "      <th></th>\n",
              "      <th>PNAME</th>\n",
              "      <th>DOB</th>\n",
              "      <th>DOJ</th>\n",
              "      <th>GENDER</th>\n",
              "      <th>PROF1</th>\n",
              "      <th>PROF2</th>\n",
              "      <th>SALARY</th>\n",
              "    </tr>\n",
              "  </thead>\n",
              "  <tbody>\n",
              "  </tbody>\n",
              "</table>\n",
              "</div>\n",
              "    <div class=\"colab-df-buttons\">\n",
              "\n",
              "  <div class=\"colab-df-container\">\n",
              "    <button class=\"colab-df-convert\" onclick=\"convertToInteractive('df-b887e736-aa65-4751-96bf-708768efd360')\"\n",
              "            title=\"Convert this dataframe to an interactive table.\"\n",
              "            style=\"display:none;\">\n",
              "\n",
              "  <svg xmlns=\"http://www.w3.org/2000/svg\" height=\"24px\" viewBox=\"0 -960 960 960\">\n",
              "    <path d=\"M120-120v-720h720v720H120Zm60-500h600v-160H180v160Zm220 220h160v-160H400v160Zm0 220h160v-160H400v160ZM180-400h160v-160H180v160Zm440 0h160v-160H620v160ZM180-180h160v-160H180v160Zm440 0h160v-160H620v160Z\"/>\n",
              "  </svg>\n",
              "    </button>\n",
              "\n",
              "  <style>\n",
              "    .colab-df-container {\n",
              "      display:flex;\n",
              "      gap: 12px;\n",
              "    }\n",
              "\n",
              "    .colab-df-convert {\n",
              "      background-color: #E8F0FE;\n",
              "      border: none;\n",
              "      border-radius: 50%;\n",
              "      cursor: pointer;\n",
              "      display: none;\n",
              "      fill: #1967D2;\n",
              "      height: 32px;\n",
              "      padding: 0 0 0 0;\n",
              "      width: 32px;\n",
              "    }\n",
              "\n",
              "    .colab-df-convert:hover {\n",
              "      background-color: #E2EBFA;\n",
              "      box-shadow: 0px 1px 2px rgba(60, 64, 67, 0.3), 0px 1px 3px 1px rgba(60, 64, 67, 0.15);\n",
              "      fill: #174EA6;\n",
              "    }\n",
              "\n",
              "    .colab-df-buttons div {\n",
              "      margin-bottom: 4px;\n",
              "    }\n",
              "\n",
              "    [theme=dark] .colab-df-convert {\n",
              "      background-color: #3B4455;\n",
              "      fill: #D2E3FC;\n",
              "    }\n",
              "\n",
              "    [theme=dark] .colab-df-convert:hover {\n",
              "      background-color: #434B5C;\n",
              "      box-shadow: 0px 1px 3px 1px rgba(0, 0, 0, 0.15);\n",
              "      filter: drop-shadow(0px 1px 2px rgba(0, 0, 0, 0.3));\n",
              "      fill: #FFFFFF;\n",
              "    }\n",
              "  </style>\n",
              "\n",
              "    <script>\n",
              "      const buttonEl =\n",
              "        document.querySelector('#df-b887e736-aa65-4751-96bf-708768efd360 button.colab-df-convert');\n",
              "      buttonEl.style.display =\n",
              "        google.colab.kernel.accessAllowed ? 'block' : 'none';\n",
              "\n",
              "      async function convertToInteractive(key) {\n",
              "        const element = document.querySelector('#df-b887e736-aa65-4751-96bf-708768efd360');\n",
              "        const dataTable =\n",
              "          await google.colab.kernel.invokeFunction('convertToInteractive',\n",
              "                                                    [key], {});\n",
              "        if (!dataTable) return;\n",
              "\n",
              "        const docLinkHtml = 'Like what you see? Visit the ' +\n",
              "          '<a target=\"_blank\" href=https://colab.research.google.com/notebooks/data_table.ipynb>data table notebook</a>'\n",
              "          + ' to learn more about interactive tables.';\n",
              "        element.innerHTML = '';\n",
              "        dataTable['output_type'] = 'display_data';\n",
              "        await google.colab.output.renderOutput(dataTable, element);\n",
              "        const docLink = document.createElement('div');\n",
              "        docLink.innerHTML = docLinkHtml;\n",
              "        element.appendChild(docLink);\n",
              "      }\n",
              "    </script>\n",
              "  </div>\n",
              "\n",
              "\n",
              "  <div id=\"id_a290df0f-4609-42e3-af28-14b9eb071f48\">\n",
              "    <style>\n",
              "      .colab-df-generate {\n",
              "        background-color: #E8F0FE;\n",
              "        border: none;\n",
              "        border-radius: 50%;\n",
              "        cursor: pointer;\n",
              "        display: none;\n",
              "        fill: #1967D2;\n",
              "        height: 32px;\n",
              "        padding: 0 0 0 0;\n",
              "        width: 32px;\n",
              "      }\n",
              "\n",
              "      .colab-df-generate:hover {\n",
              "        background-color: #E2EBFA;\n",
              "        box-shadow: 0px 1px 2px rgba(60, 64, 67, 0.3), 0px 1px 3px 1px rgba(60, 64, 67, 0.15);\n",
              "        fill: #174EA6;\n",
              "      }\n",
              "\n",
              "      [theme=dark] .colab-df-generate {\n",
              "        background-color: #3B4455;\n",
              "        fill: #D2E3FC;\n",
              "      }\n",
              "\n",
              "      [theme=dark] .colab-df-generate:hover {\n",
              "        background-color: #434B5C;\n",
              "        box-shadow: 0px 1px 3px 1px rgba(0, 0, 0, 0.15);\n",
              "        filter: drop-shadow(0px 1px 2px rgba(0, 0, 0, 0.3));\n",
              "        fill: #FFFFFF;\n",
              "      }\n",
              "    </style>\n",
              "    <button class=\"colab-df-generate\" onclick=\"generateWithVariable('a')\"\n",
              "            title=\"Generate code using this dataframe.\"\n",
              "            style=\"display:none;\">\n",
              "\n",
              "  <svg xmlns=\"http://www.w3.org/2000/svg\" height=\"24px\"viewBox=\"0 0 24 24\"\n",
              "       width=\"24px\">\n",
              "    <path d=\"M7,19H8.4L18.45,9,17,7.55,7,17.6ZM5,21V16.75L18.45,3.32a2,2,0,0,1,2.83,0l1.4,1.43a1.91,1.91,0,0,1,.58,1.4,1.91,1.91,0,0,1-.58,1.4L9.25,21ZM18.45,9,17,7.55Zm-12,3A5.31,5.31,0,0,0,4.9,8.1,5.31,5.31,0,0,0,1,6.5,5.31,5.31,0,0,0,4.9,4.9,5.31,5.31,0,0,0,6.5,1,5.31,5.31,0,0,0,8.1,4.9,5.31,5.31,0,0,0,12,6.5,5.46,5.46,0,0,0,6.5,12Z\"/>\n",
              "  </svg>\n",
              "    </button>\n",
              "    <script>\n",
              "      (() => {\n",
              "      const buttonEl =\n",
              "        document.querySelector('#id_a290df0f-4609-42e3-af28-14b9eb071f48 button.colab-df-generate');\n",
              "      buttonEl.style.display =\n",
              "        google.colab.kernel.accessAllowed ? 'block' : 'none';\n",
              "\n",
              "      buttonEl.onclick = () => {\n",
              "        google.colab.notebook.generateWithVariable('a');\n",
              "      }\n",
              "      })();\n",
              "    </script>\n",
              "  </div>\n",
              "\n",
              "    </div>\n",
              "  </div>\n"
            ],
            "application/vnd.google.colaboratory.intrinsic+json": {
              "type": "dataframe",
              "variable_name": "a",
              "repr_error": "Out of range float values are not JSON compliant: nan"
            }
          },
          "metadata": {},
          "execution_count": 156
        }
      ]
    },
    {
      "cell_type": "code",
      "source": [
        "print(\"Number of programmers who paid between 5000 and 10000 for their course:\", len(a))\n"
      ],
      "metadata": {
        "colab": {
          "base_uri": "https://localhost:8080/"
        },
        "id": "oaKIF7DnqygK",
        "outputId": "9e850c13-18d9-43a0-bb52-6d6ab0ed35a9"
      },
      "execution_count": null,
      "outputs": [
        {
          "output_type": "stream",
          "name": "stdout",
          "text": [
            "Number of programmers who paid between 5000 and 10000 for their course: 0\n"
          ]
        }
      ]
    },
    {
      "cell_type": "markdown",
      "source": [
        "#15. How many programmers know either COBOL or Pascal."
      ],
      "metadata": {
        "id": "PY9dyciwqySz"
      }
    },
    {
      "cell_type": "code",
      "source": [
        "Programmer = df6[(df6['PROF1'].isin(['COBOL', 'PASCAL'])) |\n",
        "                 (df6['PROF2'].isin(['COBOL', 'PASCAL']))]\n",
        "Programmer"
      ],
      "metadata": {
        "colab": {
          "base_uri": "https://localhost:8080/",
          "height": 300
        },
        "id": "HzV2BOnZrNkx",
        "outputId": "e543bee5-74fd-45f7-8704-d498cb18d4d5"
      },
      "execution_count": null,
      "outputs": [
        {
          "output_type": "execute_result",
          "data": {
            "text/plain": [
              "       PNAME        DOB        DOJ GENDER    PROF1    PROF2  SALARY\n",
              "0      ANAND  12-Apr-66  21-Apr-92      M   PASCAL    BASIC    3200\n",
              "1      ALTAF  02-Jul-64  13-Nov-90      M  CLIPPER    COBOL    2800\n",
              "2    JULIANA  31-Jan-60  21-Apr-90      F    COBOL    DBASE    3000\n",
              "5     NELSON  11-Sep-85  11-Oct-89      M    COBOL    DBASE    2500\n",
              "6   PATTRICK  10-Nov-65  21-Apr-90      M   PASCAL  CLIPPER    2800\n",
              "8     RAMESH  03-May-67  28-Feb-91      M   PASCAL    DBASE    3200\n",
              "9    REBECCA  01-Jan-67  01-Dec-90      F    BASIC    COBOL    2500\n",
              "11   REVATHI  02-Dec-69  02-Jan-92      F   PASCAL    BASIC    3700"
            ],
            "text/html": [
              "\n",
              "  <div id=\"df-efc0a840-962c-4dd6-823a-6cb5295d87e8\" class=\"colab-df-container\">\n",
              "    <div>\n",
              "<style scoped>\n",
              "    .dataframe tbody tr th:only-of-type {\n",
              "        vertical-align: middle;\n",
              "    }\n",
              "\n",
              "    .dataframe tbody tr th {\n",
              "        vertical-align: top;\n",
              "    }\n",
              "\n",
              "    .dataframe thead th {\n",
              "        text-align: right;\n",
              "    }\n",
              "</style>\n",
              "<table border=\"1\" class=\"dataframe\">\n",
              "  <thead>\n",
              "    <tr style=\"text-align: right;\">\n",
              "      <th></th>\n",
              "      <th>PNAME</th>\n",
              "      <th>DOB</th>\n",
              "      <th>DOJ</th>\n",
              "      <th>GENDER</th>\n",
              "      <th>PROF1</th>\n",
              "      <th>PROF2</th>\n",
              "      <th>SALARY</th>\n",
              "    </tr>\n",
              "  </thead>\n",
              "  <tbody>\n",
              "    <tr>\n",
              "      <th>0</th>\n",
              "      <td>ANAND</td>\n",
              "      <td>12-Apr-66</td>\n",
              "      <td>21-Apr-92</td>\n",
              "      <td>M</td>\n",
              "      <td>PASCAL</td>\n",
              "      <td>BASIC</td>\n",
              "      <td>3200</td>\n",
              "    </tr>\n",
              "    <tr>\n",
              "      <th>1</th>\n",
              "      <td>ALTAF</td>\n",
              "      <td>02-Jul-64</td>\n",
              "      <td>13-Nov-90</td>\n",
              "      <td>M</td>\n",
              "      <td>CLIPPER</td>\n",
              "      <td>COBOL</td>\n",
              "      <td>2800</td>\n",
              "    </tr>\n",
              "    <tr>\n",
              "      <th>2</th>\n",
              "      <td>JULIANA</td>\n",
              "      <td>31-Jan-60</td>\n",
              "      <td>21-Apr-90</td>\n",
              "      <td>F</td>\n",
              "      <td>COBOL</td>\n",
              "      <td>DBASE</td>\n",
              "      <td>3000</td>\n",
              "    </tr>\n",
              "    <tr>\n",
              "      <th>5</th>\n",
              "      <td>NELSON</td>\n",
              "      <td>11-Sep-85</td>\n",
              "      <td>11-Oct-89</td>\n",
              "      <td>M</td>\n",
              "      <td>COBOL</td>\n",
              "      <td>DBASE</td>\n",
              "      <td>2500</td>\n",
              "    </tr>\n",
              "    <tr>\n",
              "      <th>6</th>\n",
              "      <td>PATTRICK</td>\n",
              "      <td>10-Nov-65</td>\n",
              "      <td>21-Apr-90</td>\n",
              "      <td>M</td>\n",
              "      <td>PASCAL</td>\n",
              "      <td>CLIPPER</td>\n",
              "      <td>2800</td>\n",
              "    </tr>\n",
              "    <tr>\n",
              "      <th>8</th>\n",
              "      <td>RAMESH</td>\n",
              "      <td>03-May-67</td>\n",
              "      <td>28-Feb-91</td>\n",
              "      <td>M</td>\n",
              "      <td>PASCAL</td>\n",
              "      <td>DBASE</td>\n",
              "      <td>3200</td>\n",
              "    </tr>\n",
              "    <tr>\n",
              "      <th>9</th>\n",
              "      <td>REBECCA</td>\n",
              "      <td>01-Jan-67</td>\n",
              "      <td>01-Dec-90</td>\n",
              "      <td>F</td>\n",
              "      <td>BASIC</td>\n",
              "      <td>COBOL</td>\n",
              "      <td>2500</td>\n",
              "    </tr>\n",
              "    <tr>\n",
              "      <th>11</th>\n",
              "      <td>REVATHI</td>\n",
              "      <td>02-Dec-69</td>\n",
              "      <td>02-Jan-92</td>\n",
              "      <td>F</td>\n",
              "      <td>PASCAL</td>\n",
              "      <td>BASIC</td>\n",
              "      <td>3700</td>\n",
              "    </tr>\n",
              "  </tbody>\n",
              "</table>\n",
              "</div>\n",
              "    <div class=\"colab-df-buttons\">\n",
              "\n",
              "  <div class=\"colab-df-container\">\n",
              "    <button class=\"colab-df-convert\" onclick=\"convertToInteractive('df-efc0a840-962c-4dd6-823a-6cb5295d87e8')\"\n",
              "            title=\"Convert this dataframe to an interactive table.\"\n",
              "            style=\"display:none;\">\n",
              "\n",
              "  <svg xmlns=\"http://www.w3.org/2000/svg\" height=\"24px\" viewBox=\"0 -960 960 960\">\n",
              "    <path d=\"M120-120v-720h720v720H120Zm60-500h600v-160H180v160Zm220 220h160v-160H400v160Zm0 220h160v-160H400v160ZM180-400h160v-160H180v160Zm440 0h160v-160H620v160ZM180-180h160v-160H180v160Zm440 0h160v-160H620v160Z\"/>\n",
              "  </svg>\n",
              "    </button>\n",
              "\n",
              "  <style>\n",
              "    .colab-df-container {\n",
              "      display:flex;\n",
              "      gap: 12px;\n",
              "    }\n",
              "\n",
              "    .colab-df-convert {\n",
              "      background-color: #E8F0FE;\n",
              "      border: none;\n",
              "      border-radius: 50%;\n",
              "      cursor: pointer;\n",
              "      display: none;\n",
              "      fill: #1967D2;\n",
              "      height: 32px;\n",
              "      padding: 0 0 0 0;\n",
              "      width: 32px;\n",
              "    }\n",
              "\n",
              "    .colab-df-convert:hover {\n",
              "      background-color: #E2EBFA;\n",
              "      box-shadow: 0px 1px 2px rgba(60, 64, 67, 0.3), 0px 1px 3px 1px rgba(60, 64, 67, 0.15);\n",
              "      fill: #174EA6;\n",
              "    }\n",
              "\n",
              "    .colab-df-buttons div {\n",
              "      margin-bottom: 4px;\n",
              "    }\n",
              "\n",
              "    [theme=dark] .colab-df-convert {\n",
              "      background-color: #3B4455;\n",
              "      fill: #D2E3FC;\n",
              "    }\n",
              "\n",
              "    [theme=dark] .colab-df-convert:hover {\n",
              "      background-color: #434B5C;\n",
              "      box-shadow: 0px 1px 3px 1px rgba(0, 0, 0, 0.15);\n",
              "      filter: drop-shadow(0px 1px 2px rgba(0, 0, 0, 0.3));\n",
              "      fill: #FFFFFF;\n",
              "    }\n",
              "  </style>\n",
              "\n",
              "    <script>\n",
              "      const buttonEl =\n",
              "        document.querySelector('#df-efc0a840-962c-4dd6-823a-6cb5295d87e8 button.colab-df-convert');\n",
              "      buttonEl.style.display =\n",
              "        google.colab.kernel.accessAllowed ? 'block' : 'none';\n",
              "\n",
              "      async function convertToInteractive(key) {\n",
              "        const element = document.querySelector('#df-efc0a840-962c-4dd6-823a-6cb5295d87e8');\n",
              "        const dataTable =\n",
              "          await google.colab.kernel.invokeFunction('convertToInteractive',\n",
              "                                                    [key], {});\n",
              "        if (!dataTable) return;\n",
              "\n",
              "        const docLinkHtml = 'Like what you see? Visit the ' +\n",
              "          '<a target=\"_blank\" href=https://colab.research.google.com/notebooks/data_table.ipynb>data table notebook</a>'\n",
              "          + ' to learn more about interactive tables.';\n",
              "        element.innerHTML = '';\n",
              "        dataTable['output_type'] = 'display_data';\n",
              "        await google.colab.output.renderOutput(dataTable, element);\n",
              "        const docLink = document.createElement('div');\n",
              "        docLink.innerHTML = docLinkHtml;\n",
              "        element.appendChild(docLink);\n",
              "      }\n",
              "    </script>\n",
              "  </div>\n",
              "\n",
              "\n",
              "<div id=\"df-bb603f33-1666-4b7e-a93e-cc1d92f9d07c\">\n",
              "  <button class=\"colab-df-quickchart\" onclick=\"quickchart('df-bb603f33-1666-4b7e-a93e-cc1d92f9d07c')\"\n",
              "            title=\"Suggest charts\"\n",
              "            style=\"display:none;\">\n",
              "\n",
              "<svg xmlns=\"http://www.w3.org/2000/svg\" height=\"24px\"viewBox=\"0 0 24 24\"\n",
              "     width=\"24px\">\n",
              "    <g>\n",
              "        <path d=\"M19 3H5c-1.1 0-2 .9-2 2v14c0 1.1.9 2 2 2h14c1.1 0 2-.9 2-2V5c0-1.1-.9-2-2-2zM9 17H7v-7h2v7zm4 0h-2V7h2v10zm4 0h-2v-4h2v4z\"/>\n",
              "    </g>\n",
              "</svg>\n",
              "  </button>\n",
              "\n",
              "<style>\n",
              "  .colab-df-quickchart {\n",
              "      --bg-color: #E8F0FE;\n",
              "      --fill-color: #1967D2;\n",
              "      --hover-bg-color: #E2EBFA;\n",
              "      --hover-fill-color: #174EA6;\n",
              "      --disabled-fill-color: #AAA;\n",
              "      --disabled-bg-color: #DDD;\n",
              "  }\n",
              "\n",
              "  [theme=dark] .colab-df-quickchart {\n",
              "      --bg-color: #3B4455;\n",
              "      --fill-color: #D2E3FC;\n",
              "      --hover-bg-color: #434B5C;\n",
              "      --hover-fill-color: #FFFFFF;\n",
              "      --disabled-bg-color: #3B4455;\n",
              "      --disabled-fill-color: #666;\n",
              "  }\n",
              "\n",
              "  .colab-df-quickchart {\n",
              "    background-color: var(--bg-color);\n",
              "    border: none;\n",
              "    border-radius: 50%;\n",
              "    cursor: pointer;\n",
              "    display: none;\n",
              "    fill: var(--fill-color);\n",
              "    height: 32px;\n",
              "    padding: 0;\n",
              "    width: 32px;\n",
              "  }\n",
              "\n",
              "  .colab-df-quickchart:hover {\n",
              "    background-color: var(--hover-bg-color);\n",
              "    box-shadow: 0 1px 2px rgba(60, 64, 67, 0.3), 0 1px 3px 1px rgba(60, 64, 67, 0.15);\n",
              "    fill: var(--button-hover-fill-color);\n",
              "  }\n",
              "\n",
              "  .colab-df-quickchart-complete:disabled,\n",
              "  .colab-df-quickchart-complete:disabled:hover {\n",
              "    background-color: var(--disabled-bg-color);\n",
              "    fill: var(--disabled-fill-color);\n",
              "    box-shadow: none;\n",
              "  }\n",
              "\n",
              "  .colab-df-spinner {\n",
              "    border: 2px solid var(--fill-color);\n",
              "    border-color: transparent;\n",
              "    border-bottom-color: var(--fill-color);\n",
              "    animation:\n",
              "      spin 1s steps(1) infinite;\n",
              "  }\n",
              "\n",
              "  @keyframes spin {\n",
              "    0% {\n",
              "      border-color: transparent;\n",
              "      border-bottom-color: var(--fill-color);\n",
              "      border-left-color: var(--fill-color);\n",
              "    }\n",
              "    20% {\n",
              "      border-color: transparent;\n",
              "      border-left-color: var(--fill-color);\n",
              "      border-top-color: var(--fill-color);\n",
              "    }\n",
              "    30% {\n",
              "      border-color: transparent;\n",
              "      border-left-color: var(--fill-color);\n",
              "      border-top-color: var(--fill-color);\n",
              "      border-right-color: var(--fill-color);\n",
              "    }\n",
              "    40% {\n",
              "      border-color: transparent;\n",
              "      border-right-color: var(--fill-color);\n",
              "      border-top-color: var(--fill-color);\n",
              "    }\n",
              "    60% {\n",
              "      border-color: transparent;\n",
              "      border-right-color: var(--fill-color);\n",
              "    }\n",
              "    80% {\n",
              "      border-color: transparent;\n",
              "      border-right-color: var(--fill-color);\n",
              "      border-bottom-color: var(--fill-color);\n",
              "    }\n",
              "    90% {\n",
              "      border-color: transparent;\n",
              "      border-bottom-color: var(--fill-color);\n",
              "    }\n",
              "  }\n",
              "</style>\n",
              "\n",
              "  <script>\n",
              "    async function quickchart(key) {\n",
              "      const quickchartButtonEl =\n",
              "        document.querySelector('#' + key + ' button');\n",
              "      quickchartButtonEl.disabled = true;  // To prevent multiple clicks.\n",
              "      quickchartButtonEl.classList.add('colab-df-spinner');\n",
              "      try {\n",
              "        const charts = await google.colab.kernel.invokeFunction(\n",
              "            'suggestCharts', [key], {});\n",
              "      } catch (error) {\n",
              "        console.error('Error during call to suggestCharts:', error);\n",
              "      }\n",
              "      quickchartButtonEl.classList.remove('colab-df-spinner');\n",
              "      quickchartButtonEl.classList.add('colab-df-quickchart-complete');\n",
              "    }\n",
              "    (() => {\n",
              "      let quickchartButtonEl =\n",
              "        document.querySelector('#df-bb603f33-1666-4b7e-a93e-cc1d92f9d07c button');\n",
              "      quickchartButtonEl.style.display =\n",
              "        google.colab.kernel.accessAllowed ? 'block' : 'none';\n",
              "    })();\n",
              "  </script>\n",
              "</div>\n",
              "\n",
              "  <div id=\"id_4c2b4764-8c94-4a69-8244-08b776cc7217\">\n",
              "    <style>\n",
              "      .colab-df-generate {\n",
              "        background-color: #E8F0FE;\n",
              "        border: none;\n",
              "        border-radius: 50%;\n",
              "        cursor: pointer;\n",
              "        display: none;\n",
              "        fill: #1967D2;\n",
              "        height: 32px;\n",
              "        padding: 0 0 0 0;\n",
              "        width: 32px;\n",
              "      }\n",
              "\n",
              "      .colab-df-generate:hover {\n",
              "        background-color: #E2EBFA;\n",
              "        box-shadow: 0px 1px 2px rgba(60, 64, 67, 0.3), 0px 1px 3px 1px rgba(60, 64, 67, 0.15);\n",
              "        fill: #174EA6;\n",
              "      }\n",
              "\n",
              "      [theme=dark] .colab-df-generate {\n",
              "        background-color: #3B4455;\n",
              "        fill: #D2E3FC;\n",
              "      }\n",
              "\n",
              "      [theme=dark] .colab-df-generate:hover {\n",
              "        background-color: #434B5C;\n",
              "        box-shadow: 0px 1px 3px 1px rgba(0, 0, 0, 0.15);\n",
              "        filter: drop-shadow(0px 1px 2px rgba(0, 0, 0, 0.3));\n",
              "        fill: #FFFFFF;\n",
              "      }\n",
              "    </style>\n",
              "    <button class=\"colab-df-generate\" onclick=\"generateWithVariable('Programmer')\"\n",
              "            title=\"Generate code using this dataframe.\"\n",
              "            style=\"display:none;\">\n",
              "\n",
              "  <svg xmlns=\"http://www.w3.org/2000/svg\" height=\"24px\"viewBox=\"0 0 24 24\"\n",
              "       width=\"24px\">\n",
              "    <path d=\"M7,19H8.4L18.45,9,17,7.55,7,17.6ZM5,21V16.75L18.45,3.32a2,2,0,0,1,2.83,0l1.4,1.43a1.91,1.91,0,0,1,.58,1.4,1.91,1.91,0,0,1-.58,1.4L9.25,21ZM18.45,9,17,7.55Zm-12,3A5.31,5.31,0,0,0,4.9,8.1,5.31,5.31,0,0,0,1,6.5,5.31,5.31,0,0,0,4.9,4.9,5.31,5.31,0,0,0,6.5,1,5.31,5.31,0,0,0,8.1,4.9,5.31,5.31,0,0,0,12,6.5,5.46,5.46,0,0,0,6.5,12Z\"/>\n",
              "  </svg>\n",
              "    </button>\n",
              "    <script>\n",
              "      (() => {\n",
              "      const buttonEl =\n",
              "        document.querySelector('#id_4c2b4764-8c94-4a69-8244-08b776cc7217 button.colab-df-generate');\n",
              "      buttonEl.style.display =\n",
              "        google.colab.kernel.accessAllowed ? 'block' : 'none';\n",
              "\n",
              "      buttonEl.onclick = () => {\n",
              "        google.colab.notebook.generateWithVariable('Programmer');\n",
              "      }\n",
              "      })();\n",
              "    </script>\n",
              "  </div>\n",
              "\n",
              "    </div>\n",
              "  </div>\n"
            ],
            "application/vnd.google.colaboratory.intrinsic+json": {
              "type": "dataframe",
              "variable_name": "Programmer",
              "summary": "{\n  \"name\": \"Programmer\",\n  \"rows\": 8,\n  \"fields\": [\n    {\n      \"column\": \"PNAME\",\n      \"properties\": {\n        \"dtype\": \"string\",\n        \"num_unique_values\": 8,\n        \"samples\": [\n          \"ALTAF\",\n          \"RAMESH\",\n          \"ANAND\"\n        ],\n        \"semantic_type\": \"\",\n        \"description\": \"\"\n      }\n    },\n    {\n      \"column\": \"DOB\",\n      \"properties\": {\n        \"dtype\": \"object\",\n        \"num_unique_values\": 8,\n        \"samples\": [\n          \"02-Jul-64\",\n          \"03-May-67\",\n          \"12-Apr-66\"\n        ],\n        \"semantic_type\": \"\",\n        \"description\": \"\"\n      }\n    },\n    {\n      \"column\": \"DOJ\",\n      \"properties\": {\n        \"dtype\": \"object\",\n        \"num_unique_values\": 7,\n        \"samples\": [\n          \"21-Apr-92\",\n          \"13-Nov-90\",\n          \"01-Dec-90\"\n        ],\n        \"semantic_type\": \"\",\n        \"description\": \"\"\n      }\n    },\n    {\n      \"column\": \"GENDER\",\n      \"properties\": {\n        \"dtype\": \"category\",\n        \"num_unique_values\": 2,\n        \"samples\": [\n          \"F\",\n          \"M\"\n        ],\n        \"semantic_type\": \"\",\n        \"description\": \"\"\n      }\n    },\n    {\n      \"column\": \"PROF1\",\n      \"properties\": {\n        \"dtype\": \"string\",\n        \"num_unique_values\": 4,\n        \"samples\": [\n          \"CLIPPER\",\n          \"BASIC\"\n        ],\n        \"semantic_type\": \"\",\n        \"description\": \"\"\n      }\n    },\n    {\n      \"column\": \"PROF2\",\n      \"properties\": {\n        \"dtype\": \"string\",\n        \"num_unique_values\": 4,\n        \"samples\": [\n          \"COBOL\",\n          \"CLIPPER\"\n        ],\n        \"semantic_type\": \"\",\n        \"description\": \"\"\n      }\n    },\n    {\n      \"column\": \"SALARY\",\n      \"properties\": {\n        \"dtype\": \"number\",\n        \"std\": 403,\n        \"min\": 2500,\n        \"max\": 3700,\n        \"num_unique_values\": 5,\n        \"samples\": [\n          2800,\n          3700\n        ],\n        \"semantic_type\": \"\",\n        \"description\": \"\"\n      }\n    }\n  ]\n}"
            }
          },
          "metadata": {},
          "execution_count": 157
        }
      ]
    },
    {
      "cell_type": "code",
      "source": [
        "print(\"Number of programmers who know either COBOL or Pascal:\", len(Programmer))"
      ],
      "metadata": {
        "colab": {
          "base_uri": "https://localhost:8080/"
        },
        "id": "OkGHZmElsjqw",
        "outputId": "ba7336a6-b0e1-4919-f06f-62f373ac56b4"
      },
      "execution_count": null,
      "outputs": [
        {
          "output_type": "stream",
          "name": "stdout",
          "text": [
            "Number of programmers who know either COBOL or Pascal: 8\n"
          ]
        }
      ]
    }
  ]
}