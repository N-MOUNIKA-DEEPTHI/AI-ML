{
  "nbformat": 4,
  "nbformat_minor": 0,
  "metadata": {
    "colab": {
      "provenance": [],
      "authorship_tag": "ABX9TyMW6gsv6M3LbzaCim5/Y8xi"
    },
    "kernelspec": {
      "name": "python3",
      "display_name": "Python 3"
    },
    "language_info": {
      "name": "python"
    }
  },
  "cells": [
    {
      "cell_type": "markdown",
      "source": [
        "TASK1:\n",
        "1.. Read the given three CSV files to different pandas dataframes."
      ],
      "metadata": {
        "id": "VDVFUvRq1kam"
      }
    },
    {
      "cell_type": "markdown",
      "source": [
        "#"
      ],
      "metadata": {
        "id": "Afg9pEM54DiX"
      }
    },
    {
      "cell_type": "code",
      "source": [
        "\n",
        "import pandas as pd\n",
        "df1=pd.read_csv(\"Customers (1).csv\")\n",
        "df2=pd.read_csv(\"Transaction.csv\")\n",
        "df3=pd.read_csv(\"Continent (1).csv\")\n",
        "df4=pd.read_csv(\"Studies (1).csv\")\n",
        "df5=pd.read_csv(\"Software (1).csv\")\n",
        "df6=pd.read_csv(\"Programmer (1).csv\")"
      ],
      "metadata": {
        "id": "4mtcqPgG1rg5"
      },
      "execution_count": null,
      "outputs": []
    },
    {
      "cell_type": "code",
      "source": [
        "\n",
        "print(df1.head())\n",
        "print(df2.head())\n",
        "print(df3.head())\n"
      ],
      "metadata": {
        "colab": {
          "base_uri": "https://localhost:8080/"
        },
        "id": "CtKUNnp51vJm",
        "outputId": "0be566f0-6210-4d40-f601-a547fa5636e8"
      },
      "execution_count": null,
      "outputs": [
        {
          "output_type": "stream",
          "name": "stdout",
          "text": [
            "   customer_id  region_id  start_date    end_date\n",
            "0            1          3  02-01-2020  03-01-2020\n",
            "1            2          3  03-01-2020  17-01-2020\n",
            "2            3          5  27-01-2020  18-02-2020\n",
            "3            4          5  07-01-2020  19-01-2020\n",
            "4            5          3  15-01-2020  23-01-2020\n",
            "   customer_id    txn_date txn_type  txn_amount\n",
            "0          429  21-01-2020  deposit          82\n",
            "1          155  10-01-2020  deposit         712\n",
            "2          398  01-01-2020  deposit         196\n",
            "3          255  14-01-2020  deposit         563\n",
            "4          185  29-01-2020  deposit         626\n",
            "   region_id region_name\n",
            "0          1   Australia\n",
            "1          2     America\n",
            "2          3      Africa\n",
            "3          4        Asia\n",
            "4          5      Europe\n"
          ]
        }
      ]
    },
    {
      "cell_type": "code",
      "source": [
        "\n",
        "print(\"customers csv  file shape:\",df1.shape)  # Print the number of rows and columns\n",
        "!head Customers.csv\n",
        "# ! : In Jupyter notebooks, this is used to run shell commands.\n",
        "# head : A Unix command that outputs the first part of files.\n",
        "#Customers.csv : The name of the file from which you want to see the first few lines.\n",
        "print(\"Transaction csv  file shape:\",df2.shape)\n",
        "!head Transaction.csv\n",
        "print(\"continent csv  file shape:\",df3.shape)\n",
        "!head Continent.csv"
      ],
      "metadata": {
        "colab": {
          "base_uri": "https://localhost:8080/"
        },
        "id": "sWJjcBBP1vM6",
        "outputId": "e33b22c4-ca7d-4b34-ca14-2054f1c47a16"
      },
      "execution_count": null,
      "outputs": [
        {
          "output_type": "stream",
          "name": "stdout",
          "text": [
            "customers csv  file shape: (3500, 4)\n",
            "head: cannot open 'Customers.csv' for reading: No such file or directory\n",
            "Transaction csv  file shape: (5868, 4)\n",
            "customer_id,txn_date,txn_type,txn_amount\n",
            "429,21-01-2020,deposit,82\n",
            "155,10-01-2020,deposit,712\n",
            "398,01-01-2020,deposit,196\n",
            "255,14-01-2020,deposit,563\n",
            "185,29-01-2020,deposit,626\n",
            "309,13-01-2020,deposit,995\n",
            "312,20-01-2020,deposit,485\n",
            "376,03-01-2020,deposit,706\n",
            "188,13-01-2020,deposit,601\n",
            "continent csv  file shape: (5, 2)\n",
            "head: cannot open 'Continent.csv' for reading: No such file or directory\n"
          ]
        }
      ]
    },
    {
      "cell_type": "code",
      "source": [
        "\n",
        "print(df1.columns)\n",
        "print(df2.columns)\n",
        "print(df3.columns)\n",
        "print(df4.columns)\n",
        "print(df5.columns)\n",
        "print(df6.columns)"
      ],
      "metadata": {
        "colab": {
          "base_uri": "https://localhost:8080/"
        },
        "id": "kJ5Nkr7A1vQH",
        "outputId": "c048daa8-93a7-4cdd-df62-a30043504d6e"
      },
      "execution_count": null,
      "outputs": [
        {
          "output_type": "stream",
          "name": "stdout",
          "text": [
            "Index(['customer_id', 'region_id', 'start_date', 'end_date'], dtype='object')\n",
            "Index(['customer_id', 'txn_date', 'txn_type', 'txn_amount'], dtype='object')\n",
            "Index(['region_id', 'region_name'], dtype='object')\n",
            "Index(['PNAME', 'INSTITUTE', 'COURSE', 'COURSE FEE'], dtype='object')\n",
            "Index(['PNAME', 'TITLE', 'DEVELOPIN', 'SCOST', 'DCOST', 'SOLD'], dtype='object')\n",
            "Index(['PNAME', 'DOB', 'DOJ', 'GENDER', 'PROF1', 'PROF2', 'SALARY'], dtype='object')\n"
          ]
        }
      ]
    },
    {
      "cell_type": "code",
      "source": [
        "\n",
        "df1.info()"
      ],
      "metadata": {
        "colab": {
          "base_uri": "https://localhost:8080/"
        },
        "id": "mBHy07oZ10FA",
        "outputId": "bcafb8f3-2144-441f-e4a9-fc344be6eed2"
      },
      "execution_count": null,
      "outputs": [
        {
          "output_type": "stream",
          "name": "stdout",
          "text": [
            "<class 'pandas.core.frame.DataFrame'>\n",
            "RangeIndex: 3500 entries, 0 to 3499\n",
            "Data columns (total 4 columns):\n",
            " #   Column       Non-Null Count  Dtype \n",
            "---  ------       --------------  ----- \n",
            " 0   customer_id  3500 non-null   int64 \n",
            " 1   region_id    3500 non-null   int64 \n",
            " 2   start_date   3500 non-null   object\n",
            " 3   end_date     3500 non-null   object\n",
            "dtypes: int64(2), object(2)\n",
            "memory usage: 109.5+ KB\n"
          ]
        }
      ]
    },
    {
      "cell_type": "code",
      "source": [
        "\n",
        "df1.describe()"
      ],
      "metadata": {
        "colab": {
          "base_uri": "https://localhost:8080/",
          "height": 300
        },
        "id": "7GbdAZO-10Iq",
        "outputId": "d72a9473-17d4-4284-fb03-3371763d88de"
      },
      "execution_count": null,
      "outputs": [
        {
          "output_type": "execute_result",
          "data": {
            "text/plain": [
              "       customer_id    region_id\n",
              "count  3500.000000  3500.000000\n",
              "mean    250.500000     2.892000\n",
              "std     144.357903     1.404599\n",
              "min       1.000000     1.000000\n",
              "25%     125.750000     2.000000\n",
              "50%     250.500000     3.000000\n",
              "75%     375.250000     4.000000\n",
              "max     500.000000     5.000000"
            ],
            "text/html": [
              "\n",
              "  <div id=\"df-ea161f05-60da-4bfe-bc3e-010d6f083473\" class=\"colab-df-container\">\n",
              "    <div>\n",
              "<style scoped>\n",
              "    .dataframe tbody tr th:only-of-type {\n",
              "        vertical-align: middle;\n",
              "    }\n",
              "\n",
              "    .dataframe tbody tr th {\n",
              "        vertical-align: top;\n",
              "    }\n",
              "\n",
              "    .dataframe thead th {\n",
              "        text-align: right;\n",
              "    }\n",
              "</style>\n",
              "<table border=\"1\" class=\"dataframe\">\n",
              "  <thead>\n",
              "    <tr style=\"text-align: right;\">\n",
              "      <th></th>\n",
              "      <th>customer_id</th>\n",
              "      <th>region_id</th>\n",
              "    </tr>\n",
              "  </thead>\n",
              "  <tbody>\n",
              "    <tr>\n",
              "      <th>count</th>\n",
              "      <td>3500.000000</td>\n",
              "      <td>3500.000000</td>\n",
              "    </tr>\n",
              "    <tr>\n",
              "      <th>mean</th>\n",
              "      <td>250.500000</td>\n",
              "      <td>2.892000</td>\n",
              "    </tr>\n",
              "    <tr>\n",
              "      <th>std</th>\n",
              "      <td>144.357903</td>\n",
              "      <td>1.404599</td>\n",
              "    </tr>\n",
              "    <tr>\n",
              "      <th>min</th>\n",
              "      <td>1.000000</td>\n",
              "      <td>1.000000</td>\n",
              "    </tr>\n",
              "    <tr>\n",
              "      <th>25%</th>\n",
              "      <td>125.750000</td>\n",
              "      <td>2.000000</td>\n",
              "    </tr>\n",
              "    <tr>\n",
              "      <th>50%</th>\n",
              "      <td>250.500000</td>\n",
              "      <td>3.000000</td>\n",
              "    </tr>\n",
              "    <tr>\n",
              "      <th>75%</th>\n",
              "      <td>375.250000</td>\n",
              "      <td>4.000000</td>\n",
              "    </tr>\n",
              "    <tr>\n",
              "      <th>max</th>\n",
              "      <td>500.000000</td>\n",
              "      <td>5.000000</td>\n",
              "    </tr>\n",
              "  </tbody>\n",
              "</table>\n",
              "</div>\n",
              "    <div class=\"colab-df-buttons\">\n",
              "\n",
              "  <div class=\"colab-df-container\">\n",
              "    <button class=\"colab-df-convert\" onclick=\"convertToInteractive('df-ea161f05-60da-4bfe-bc3e-010d6f083473')\"\n",
              "            title=\"Convert this dataframe to an interactive table.\"\n",
              "            style=\"display:none;\">\n",
              "\n",
              "  <svg xmlns=\"http://www.w3.org/2000/svg\" height=\"24px\" viewBox=\"0 -960 960 960\">\n",
              "    <path d=\"M120-120v-720h720v720H120Zm60-500h600v-160H180v160Zm220 220h160v-160H400v160Zm0 220h160v-160H400v160ZM180-400h160v-160H180v160Zm440 0h160v-160H620v160ZM180-180h160v-160H180v160Zm440 0h160v-160H620v160Z\"/>\n",
              "  </svg>\n",
              "    </button>\n",
              "\n",
              "  <style>\n",
              "    .colab-df-container {\n",
              "      display:flex;\n",
              "      gap: 12px;\n",
              "    }\n",
              "\n",
              "    .colab-df-convert {\n",
              "      background-color: #E8F0FE;\n",
              "      border: none;\n",
              "      border-radius: 50%;\n",
              "      cursor: pointer;\n",
              "      display: none;\n",
              "      fill: #1967D2;\n",
              "      height: 32px;\n",
              "      padding: 0 0 0 0;\n",
              "      width: 32px;\n",
              "    }\n",
              "\n",
              "    .colab-df-convert:hover {\n",
              "      background-color: #E2EBFA;\n",
              "      box-shadow: 0px 1px 2px rgba(60, 64, 67, 0.3), 0px 1px 3px 1px rgba(60, 64, 67, 0.15);\n",
              "      fill: #174EA6;\n",
              "    }\n",
              "\n",
              "    .colab-df-buttons div {\n",
              "      margin-bottom: 4px;\n",
              "    }\n",
              "\n",
              "    [theme=dark] .colab-df-convert {\n",
              "      background-color: #3B4455;\n",
              "      fill: #D2E3FC;\n",
              "    }\n",
              "\n",
              "    [theme=dark] .colab-df-convert:hover {\n",
              "      background-color: #434B5C;\n",
              "      box-shadow: 0px 1px 3px 1px rgba(0, 0, 0, 0.15);\n",
              "      filter: drop-shadow(0px 1px 2px rgba(0, 0, 0, 0.3));\n",
              "      fill: #FFFFFF;\n",
              "    }\n",
              "  </style>\n",
              "\n",
              "    <script>\n",
              "      const buttonEl =\n",
              "        document.querySelector('#df-ea161f05-60da-4bfe-bc3e-010d6f083473 button.colab-df-convert');\n",
              "      buttonEl.style.display =\n",
              "        google.colab.kernel.accessAllowed ? 'block' : 'none';\n",
              "\n",
              "      async function convertToInteractive(key) {\n",
              "        const element = document.querySelector('#df-ea161f05-60da-4bfe-bc3e-010d6f083473');\n",
              "        const dataTable =\n",
              "          await google.colab.kernel.invokeFunction('convertToInteractive',\n",
              "                                                    [key], {});\n",
              "        if (!dataTable) return;\n",
              "\n",
              "        const docLinkHtml = 'Like what you see? Visit the ' +\n",
              "          '<a target=\"_blank\" href=https://colab.research.google.com/notebooks/data_table.ipynb>data table notebook</a>'\n",
              "          + ' to learn more about interactive tables.';\n",
              "        element.innerHTML = '';\n",
              "        dataTable['output_type'] = 'display_data';\n",
              "        await google.colab.output.renderOutput(dataTable, element);\n",
              "        const docLink = document.createElement('div');\n",
              "        docLink.innerHTML = docLinkHtml;\n",
              "        element.appendChild(docLink);\n",
              "      }\n",
              "    </script>\n",
              "  </div>\n",
              "\n",
              "\n",
              "<div id=\"df-7bb41020-59f0-463f-b454-b8c5a73e7d52\">\n",
              "  <button class=\"colab-df-quickchart\" onclick=\"quickchart('df-7bb41020-59f0-463f-b454-b8c5a73e7d52')\"\n",
              "            title=\"Suggest charts\"\n",
              "            style=\"display:none;\">\n",
              "\n",
              "<svg xmlns=\"http://www.w3.org/2000/svg\" height=\"24px\"viewBox=\"0 0 24 24\"\n",
              "     width=\"24px\">\n",
              "    <g>\n",
              "        <path d=\"M19 3H5c-1.1 0-2 .9-2 2v14c0 1.1.9 2 2 2h14c1.1 0 2-.9 2-2V5c0-1.1-.9-2-2-2zM9 17H7v-7h2v7zm4 0h-2V7h2v10zm4 0h-2v-4h2v4z\"/>\n",
              "    </g>\n",
              "</svg>\n",
              "  </button>\n",
              "\n",
              "<style>\n",
              "  .colab-df-quickchart {\n",
              "      --bg-color: #E8F0FE;\n",
              "      --fill-color: #1967D2;\n",
              "      --hover-bg-color: #E2EBFA;\n",
              "      --hover-fill-color: #174EA6;\n",
              "      --disabled-fill-color: #AAA;\n",
              "      --disabled-bg-color: #DDD;\n",
              "  }\n",
              "\n",
              "  [theme=dark] .colab-df-quickchart {\n",
              "      --bg-color: #3B4455;\n",
              "      --fill-color: #D2E3FC;\n",
              "      --hover-bg-color: #434B5C;\n",
              "      --hover-fill-color: #FFFFFF;\n",
              "      --disabled-bg-color: #3B4455;\n",
              "      --disabled-fill-color: #666;\n",
              "  }\n",
              "\n",
              "  .colab-df-quickchart {\n",
              "    background-color: var(--bg-color);\n",
              "    border: none;\n",
              "    border-radius: 50%;\n",
              "    cursor: pointer;\n",
              "    display: none;\n",
              "    fill: var(--fill-color);\n",
              "    height: 32px;\n",
              "    padding: 0;\n",
              "    width: 32px;\n",
              "  }\n",
              "\n",
              "  .colab-df-quickchart:hover {\n",
              "    background-color: var(--hover-bg-color);\n",
              "    box-shadow: 0 1px 2px rgba(60, 64, 67, 0.3), 0 1px 3px 1px rgba(60, 64, 67, 0.15);\n",
              "    fill: var(--button-hover-fill-color);\n",
              "  }\n",
              "\n",
              "  .colab-df-quickchart-complete:disabled,\n",
              "  .colab-df-quickchart-complete:disabled:hover {\n",
              "    background-color: var(--disabled-bg-color);\n",
              "    fill: var(--disabled-fill-color);\n",
              "    box-shadow: none;\n",
              "  }\n",
              "\n",
              "  .colab-df-spinner {\n",
              "    border: 2px solid var(--fill-color);\n",
              "    border-color: transparent;\n",
              "    border-bottom-color: var(--fill-color);\n",
              "    animation:\n",
              "      spin 1s steps(1) infinite;\n",
              "  }\n",
              "\n",
              "  @keyframes spin {\n",
              "    0% {\n",
              "      border-color: transparent;\n",
              "      border-bottom-color: var(--fill-color);\n",
              "      border-left-color: var(--fill-color);\n",
              "    }\n",
              "    20% {\n",
              "      border-color: transparent;\n",
              "      border-left-color: var(--fill-color);\n",
              "      border-top-color: var(--fill-color);\n",
              "    }\n",
              "    30% {\n",
              "      border-color: transparent;\n",
              "      border-left-color: var(--fill-color);\n",
              "      border-top-color: var(--fill-color);\n",
              "      border-right-color: var(--fill-color);\n",
              "    }\n",
              "    40% {\n",
              "      border-color: transparent;\n",
              "      border-right-color: var(--fill-color);\n",
              "      border-top-color: var(--fill-color);\n",
              "    }\n",
              "    60% {\n",
              "      border-color: transparent;\n",
              "      border-right-color: var(--fill-color);\n",
              "    }\n",
              "    80% {\n",
              "      border-color: transparent;\n",
              "      border-right-color: var(--fill-color);\n",
              "      border-bottom-color: var(--fill-color);\n",
              "    }\n",
              "    90% {\n",
              "      border-color: transparent;\n",
              "      border-bottom-color: var(--fill-color);\n",
              "    }\n",
              "  }\n",
              "</style>\n",
              "\n",
              "  <script>\n",
              "    async function quickchart(key) {\n",
              "      const quickchartButtonEl =\n",
              "        document.querySelector('#' + key + ' button');\n",
              "      quickchartButtonEl.disabled = true;  // To prevent multiple clicks.\n",
              "      quickchartButtonEl.classList.add('colab-df-spinner');\n",
              "      try {\n",
              "        const charts = await google.colab.kernel.invokeFunction(\n",
              "            'suggestCharts', [key], {});\n",
              "      } catch (error) {\n",
              "        console.error('Error during call to suggestCharts:', error);\n",
              "      }\n",
              "      quickchartButtonEl.classList.remove('colab-df-spinner');\n",
              "      quickchartButtonEl.classList.add('colab-df-quickchart-complete');\n",
              "    }\n",
              "    (() => {\n",
              "      let quickchartButtonEl =\n",
              "        document.querySelector('#df-7bb41020-59f0-463f-b454-b8c5a73e7d52 button');\n",
              "      quickchartButtonEl.style.display =\n",
              "        google.colab.kernel.accessAllowed ? 'block' : 'none';\n",
              "    })();\n",
              "  </script>\n",
              "</div>\n",
              "\n",
              "    </div>\n",
              "  </div>\n"
            ],
            "application/vnd.google.colaboratory.intrinsic+json": {
              "type": "dataframe",
              "summary": "{\n  \"name\": \"df1\",\n  \"rows\": 8,\n  \"fields\": [\n    {\n      \"column\": \"customer_id\",\n      \"properties\": {\n        \"dtype\": \"number\",\n        \"std\": 1164.4161416661068,\n        \"min\": 1.0,\n        \"max\": 3500.0,\n        \"num_unique_values\": 7,\n        \"samples\": [\n          3500.0,\n          250.5,\n          375.25\n        ],\n        \"semantic_type\": \"\",\n        \"description\": \"\"\n      }\n    },\n    {\n      \"column\": \"region_id\",\n      \"properties\": {\n        \"dtype\": \"number\",\n        \"std\": 1236.4629430747211,\n        \"min\": 1.0,\n        \"max\": 3500.0,\n        \"num_unique_values\": 8,\n        \"samples\": [\n          2.892,\n          3.0,\n          3500.0\n        ],\n        \"semantic_type\": \"\",\n        \"description\": \"\"\n      }\n    }\n  ]\n}"
            }
          },
          "metadata": {},
          "execution_count": 70
        }
      ]
    },
    {
      "cell_type": "code",
      "source": [
        "\n",
        "\n",
        "df1.keys()"
      ],
      "metadata": {
        "colab": {
          "base_uri": "https://localhost:8080/"
        },
        "id": "PYAVBsqF10LW",
        "outputId": "287cabb0-0da7-44f9-8798-a0c390f43dd6"
      },
      "execution_count": null,
      "outputs": [
        {
          "output_type": "execute_result",
          "data": {
            "text/plain": [
              "Index(['customer_id', 'region_id', 'start_date', 'end_date'], dtype='object')"
            ]
          },
          "metadata": {},
          "execution_count": 71
        }
      ]
    },
    {
      "cell_type": "code",
      "source": [
        "\n",
        "df1.dtypes"
      ],
      "metadata": {
        "colab": {
          "base_uri": "https://localhost:8080/"
        },
        "id": "n29fao1310Qi",
        "outputId": "411a3986-2128-48b9-f868-9bd9ce276e15"
      },
      "execution_count": null,
      "outputs": [
        {
          "output_type": "execute_result",
          "data": {
            "text/plain": [
              "customer_id     int64\n",
              "region_id       int64\n",
              "start_date     object\n",
              "end_date       object\n",
              "dtype: object"
            ]
          },
          "metadata": {},
          "execution_count": 72
        }
      ]
    },
    {
      "cell_type": "code",
      "source": [
        "df1.size"
      ],
      "metadata": {
        "colab": {
          "base_uri": "https://localhost:8080/"
        },
        "id": "0zIe8xU117XA",
        "outputId": "cc43dc28-e9fc-4f66-a2f5-9b839a3849c5"
      },
      "execution_count": null,
      "outputs": [
        {
          "output_type": "execute_result",
          "data": {
            "text/plain": [
              "14000"
            ]
          },
          "metadata": {},
          "execution_count": 73
        }
      ]
    },
    {
      "cell_type": "markdown",
      "source": [
        "2.Merge the Customers and Transaction into a single dataframe.\n",
        "Merge with Different Column Names:If the columns to merge on have different names in each DataFrame, use the left_on and right_on parameters.\n",
        "\n",
        "Merge function:Default merge\n",
        "\n",
        "There are 4 types of joins available in Pandas:\n",
        "\n",
        "1.Inner Join (default): Only include rows with keys in both DataFrames.\n",
        "\n",
        "2.Left Join: Include all rows from the left DataFrame, and only matching rows from the right DataFrame.\n",
        "\n",
        "3.Right Join: Include all rows from the right DataFrame, and only matching rows from the left DataFrame.\n",
        "\n",
        "4.Outer Join: Include rows from both DataFrames, filling in NaNs for missing matches on either side."
      ],
      "metadata": {
        "id": "_13ggVaJ1-ae"
      }
    },
    {
      "cell_type": "code",
      "source": [
        "\n",
        "#Check for the existence of 'customer_id' in both DataFrames\n",
        "print(\"customer_id' in df1:\", 'customer_id' in df1.columns)\n",
        "print(\"customer_id' in df3:\", 'customer_id' in df2.columns)\n",
        "\n",
        "#Default merge\n",
        "merged_df=pd.merge(df1,df2)\n",
        "print(\"Default Merge : \\n\",merged_df.head())"
      ],
      "metadata": {
        "colab": {
          "base_uri": "https://localhost:8080/"
        },
        "id": "RHIg7az617Tt",
        "outputId": "298e96ac-ec3f-481b-d8f2-b994619a9463"
      },
      "execution_count": null,
      "outputs": [
        {
          "output_type": "stream",
          "name": "stdout",
          "text": [
            "customer_id' in df1: True\n",
            "customer_id' in df3: True\n",
            "Default Merge : \n",
            "    customer_id  region_id  start_date    end_date    txn_date  txn_type  \\\n",
            "0            1          3  02-01-2020  03-01-2020  02-01-2020   deposit   \n",
            "1            1          3  02-01-2020  03-01-2020  05-03-2020  purchase   \n",
            "2            1          3  02-01-2020  03-01-2020  17-03-2020   deposit   \n",
            "3            1          3  02-01-2020  03-01-2020  19-03-2020  purchase   \n",
            "4            1          3  04-01-2020  14-01-2020  02-01-2020   deposit   \n",
            "\n",
            "   txn_amount  \n",
            "0         312  \n",
            "1         612  \n",
            "2         324  \n",
            "3         664  \n",
            "4         312  \n"
          ]
        }
      ]
    },
    {
      "cell_type": "code",
      "source": [
        "\n",
        "#Inner Join\n",
        "inner_merged_df = pd.merge(df1, df2 , on = 'customer_id' , how = 'inner')\n",
        "print(\"Inner Merge : \\n\", inner_merged_df.head())"
      ],
      "metadata": {
        "colab": {
          "base_uri": "https://localhost:8080/"
        },
        "id": "iSbRdVe_2Epv",
        "outputId": "15728833-f394-47e8-ce83-03fdd655776c"
      },
      "execution_count": null,
      "outputs": [
        {
          "output_type": "stream",
          "name": "stdout",
          "text": [
            "Inner Merge : \n",
            "    customer_id  region_id  start_date    end_date    txn_date  txn_type  \\\n",
            "0            1          3  02-01-2020  03-01-2020  02-01-2020   deposit   \n",
            "1            1          3  02-01-2020  03-01-2020  05-03-2020  purchase   \n",
            "2            1          3  02-01-2020  03-01-2020  17-03-2020   deposit   \n",
            "3            1          3  02-01-2020  03-01-2020  19-03-2020  purchase   \n",
            "4            1          3  04-01-2020  14-01-2020  02-01-2020   deposit   \n",
            "\n",
            "   txn_amount  \n",
            "0         312  \n",
            "1         612  \n",
            "2         324  \n",
            "3         664  \n",
            "4         312  \n"
          ]
        }
      ]
    },
    {
      "cell_type": "code",
      "source": [
        "\n",
        "#Outer Join\n",
        "outer_merged_df = pd.merge(df1, df2 , on = 'customer_id', how = 'outer')\n",
        "print(\"Outer Merge : \\n\", outer_merged_df.head())"
      ],
      "metadata": {
        "colab": {
          "base_uri": "https://localhost:8080/"
        },
        "id": "Y16N8zI32EtG",
        "outputId": "553e127d-538a-427d-ee78-3945ef9666ec"
      },
      "execution_count": null,
      "outputs": [
        {
          "output_type": "stream",
          "name": "stdout",
          "text": [
            "Outer Merge : \n",
            "    customer_id  region_id  start_date    end_date    txn_date  txn_type  \\\n",
            "0            1          3  02-01-2020  03-01-2020  02-01-2020   deposit   \n",
            "1            1          3  02-01-2020  03-01-2020  05-03-2020  purchase   \n",
            "2            1          3  02-01-2020  03-01-2020  17-03-2020   deposit   \n",
            "3            1          3  02-01-2020  03-01-2020  19-03-2020  purchase   \n",
            "4            1          3  04-01-2020  14-01-2020  02-01-2020   deposit   \n",
            "\n",
            "   txn_amount  \n",
            "0         312  \n",
            "1         612  \n",
            "2         324  \n",
            "3         664  \n",
            "4         312  \n"
          ]
        }
      ]
    },
    {
      "cell_type": "code",
      "source": [
        "\n",
        "#Left Join\n",
        "left_merged_df = pd.merge(df1, df2 , on = 'customer_id' , how = 'left')\n",
        "print(\"Left Merge : \\n\", left_merged_df.head())"
      ],
      "metadata": {
        "colab": {
          "base_uri": "https://localhost:8080/"
        },
        "id": "7oL2aiNA2KP1",
        "outputId": "3854c340-2701-4b59-f5f3-c3d79ab57444"
      },
      "execution_count": null,
      "outputs": [
        {
          "output_type": "stream",
          "name": "stdout",
          "text": [
            "Left Merge : \n",
            "    customer_id  region_id  start_date    end_date    txn_date  txn_type  \\\n",
            "0            1          3  02-01-2020  03-01-2020  02-01-2020   deposit   \n",
            "1            1          3  02-01-2020  03-01-2020  05-03-2020  purchase   \n",
            "2            1          3  02-01-2020  03-01-2020  17-03-2020   deposit   \n",
            "3            1          3  02-01-2020  03-01-2020  19-03-2020  purchase   \n",
            "4            2          3  03-01-2020  17-01-2020  03-01-2020   deposit   \n",
            "\n",
            "   txn_amount  \n",
            "0         312  \n",
            "1         612  \n",
            "2         324  \n",
            "3         664  \n",
            "4         549  \n"
          ]
        }
      ]
    },
    {
      "cell_type": "code",
      "source": [
        "\n",
        "#Right Join\n",
        "right_merged_df = pd.merge(df1, df2 , on = 'customer_id', how = 'right')\n",
        "print(\"Right Merge : \\n\", right_merged_df.head())"
      ],
      "metadata": {
        "colab": {
          "base_uri": "https://localhost:8080/"
        },
        "id": "3Uq_gpKi2KTN",
        "outputId": "69c21b3f-c19e-48a5-e275-c8e519e48ebd"
      },
      "execution_count": null,
      "outputs": [
        {
          "output_type": "stream",
          "name": "stdout",
          "text": [
            "Right Merge : \n",
            "    customer_id  region_id  start_date    end_date    txn_date txn_type  \\\n",
            "0          429          5  21-01-2020  28-01-2020  21-01-2020  deposit   \n",
            "1          429          5  29-01-2020  01-02-2020  21-01-2020  deposit   \n",
            "2          429          5  02-02-2020  01-03-2020  21-01-2020  deposit   \n",
            "3          429          5  02-03-2020  23-03-2020  21-01-2020  deposit   \n",
            "4          429          5  24-03-2020  12-04-2020  21-01-2020  deposit   \n",
            "\n",
            "   txn_amount  \n",
            "0          82  \n",
            "1          82  \n",
            "2          82  \n",
            "3          82  \n",
            "4          82  \n"
          ]
        }
      ]
    },
    {
      "cell_type": "code",
      "source": [
        "\n",
        " # Check if 'customer_id' is present in both dataframes\n",
        "print(\"Columns in df1:\", df1.columns)\n",
        "print(\"Columns in df2:\", df2.columns)\n",
        "\n",
        " #Merge with Different Column Names\n",
        "merged = pd.merge(df1 ,df2, left_on='customer_id', right_on='customer_id')\n",
        "print(merged.head())\n"
      ],
      "metadata": {
        "colab": {
          "base_uri": "https://localhost:8080/"
        },
        "id": "x5dM-Rcl2KWV",
        "outputId": "92c531f9-dab0-4e2a-8d10-115cd5b37ac6"
      },
      "execution_count": null,
      "outputs": [
        {
          "output_type": "stream",
          "name": "stdout",
          "text": [
            "Columns in df1: Index(['customer_id', 'region_id', 'start_date', 'end_date'], dtype='object')\n",
            "Columns in df2: Index(['customer_id', 'txn_date', 'txn_type', 'txn_amount'], dtype='object')\n",
            "   customer_id  region_id  start_date    end_date    txn_date  txn_type  \\\n",
            "0            1          3  02-01-2020  03-01-2020  02-01-2020   deposit   \n",
            "1            1          3  02-01-2020  03-01-2020  05-03-2020  purchase   \n",
            "2            1          3  02-01-2020  03-01-2020  17-03-2020   deposit   \n",
            "3            1          3  02-01-2020  03-01-2020  19-03-2020  purchase   \n",
            "4            1          3  04-01-2020  14-01-2020  02-01-2020   deposit   \n",
            "\n",
            "   txn_amount  \n",
            "0         312  \n",
            "1         612  \n",
            "2         324  \n",
            "3         664  \n",
            "4         312  \n"
          ]
        }
      ]
    },
    {
      "cell_type": "markdown",
      "source": [
        "3. Calculate the duration in days between start date and end date.\n",
        "\n",
        "NaT represents a missing date. This is specific to columns with the type DateTime. NaT stands for Not a Time. For example, let us create a dataframe with numerical values and a column with the dtype DateTime"
      ],
      "metadata": {
        "id": "k74NbgVz2RRN"
      }
    },
    {
      "cell_type": "code",
      "source": [
        "# Convert start_date and end_date to datetime objects, handling out-of-bounds dates\n",
        "# errors='coerce'   ensures that any entries that don't match the specified format are set to NaT (Not a Time).\n",
        "df1['start_date'] = pd.to_datetime(df1['start_date'], format='%d-%m-%Y', errors='coerce')\n",
        "df1['end_date'] = pd.to_datetime(df1['end_date'], format='%d-%m-%Y', errors='coerce')\n",
        "\n",
        "# Identify rows with out-of-bounds end dates\n",
        "#df1['end_date'].isna() checks for NaN values in the end_date column.\n",
        "#df1[df1['end_date'].isna()] prints rows where end_date is NaT, indicating these were out-of-bounds dates.\n",
        "print(df1[df1['end_date'].isna()])\n",
        "\n",
        "#  handle the out-of-bounds dates (e.g., replace with a valid date, drop the rows)\n",
        "# Fill NaN values in 'end_date' column with NaT  Example: Replacing with NaT (Not a Time)\n",
        "df1['end_date'] = df1['end_date'].fillna(pd.NaT)\n",
        "\n",
        "# Calculate the duration in days (after handling out-of-bounds dates)\n",
        "df1['duration_days'] = (df1['end_date'] - df1['start_date']).dt.days\n",
        "\n",
        "# Display the first few rows of the DataFrame to confirm the new column\n",
        "print(df1.head())\n",
        "\n"
      ],
      "metadata": {
        "colab": {
          "base_uri": "https://localhost:8080/"
        },
        "id": "9sGb9Ik_2ExY",
        "outputId": "5c69fa37-4992-402e-da2f-378d30d845ca"
      },
      "execution_count": null,
      "outputs": [
        {
          "output_type": "stream",
          "name": "stdout",
          "text": [
            "      customer_id  region_id start_date end_date\n",
            "3000            1          3 2020-03-17      NaT\n",
            "3001            2          3 2020-03-14      NaT\n",
            "3002            3          5 2020-04-25      NaT\n",
            "3003            4          5 2020-04-02      NaT\n",
            "3004            5          3 2020-03-06      NaT\n",
            "...           ...        ...        ...      ...\n",
            "3495          496          3 2020-02-25      NaT\n",
            "3496          497          5 2020-05-27      NaT\n",
            "3497          498          1 2020-04-05      NaT\n",
            "3498          499          5 2020-02-03      NaT\n",
            "3499          500          2 2020-04-15      NaT\n",
            "\n",
            "[500 rows x 4 columns]\n",
            "   customer_id  region_id start_date   end_date  duration_days\n",
            "0            1          3 2020-01-02 2020-01-03            1.0\n",
            "1            2          3 2020-01-03 2020-01-17           14.0\n",
            "2            3          5 2020-01-27 2020-02-18           22.0\n",
            "3            4          5 2020-01-07 2020-01-19           12.0\n",
            "4            5          3 2020-01-15 2020-01-23            8.0\n"
          ]
        }
      ]
    },
    {
      "cell_type": "markdown",
      "source": [
        "4. Drop the duplicate rows in the merged dataframe if any.\n",
        "\n",
        "drop_duplicates() without any arguments drops rows where all columns have identical values across rows. This is useful if you want to ensure each row in your DataFrame is unique."
      ],
      "metadata": {
        "id": "X3rYzm8p2XKg"
      }
    },
    {
      "cell_type": "code",
      "source": [
        "\n",
        "#drop duplicate rows\n",
        "merged_df = merged_df.drop_duplicates()\n",
        "print(merged_df.head())\n"
      ],
      "metadata": {
        "colab": {
          "base_uri": "https://localhost:8080/"
        },
        "id": "Kv8D6Y2F10Tk",
        "outputId": "d60187e6-7f62-45d8-b12d-16cf5415f56c"
      },
      "execution_count": null,
      "outputs": [
        {
          "output_type": "stream",
          "name": "stdout",
          "text": [
            "   customer_id  region_id  start_date    end_date    txn_date  txn_type  \\\n",
            "0            1          3  02-01-2020  03-01-2020  02-01-2020   deposit   \n",
            "1            1          3  02-01-2020  03-01-2020  05-03-2020  purchase   \n",
            "2            1          3  02-01-2020  03-01-2020  17-03-2020   deposit   \n",
            "3            1          3  02-01-2020  03-01-2020  19-03-2020  purchase   \n",
            "4            1          3  04-01-2020  14-01-2020  02-01-2020   deposit   \n",
            "\n",
            "   txn_amount  \n",
            "0         312  \n",
            "1         612  \n",
            "2         324  \n",
            "3         664  \n",
            "4         312  \n"
          ]
        }
      ]
    },
    {
      "cell_type": "markdown",
      "source": [
        "5. Drop rows with missing values in the merged dataframe if any.\n",
        "\n",
        "To drop rows with missing values (NaNs) from your merged DataFrame (df1), you can use the dropna() method provided by pandas.\n",
        "\n",
        "dropna() by default drops any row that contains NaN values in any column."
      ],
      "metadata": {
        "id": "drrGLsth2eOp"
      }
    },
    {
      "cell_type": "code",
      "source": [
        "\n",
        "merged_df = df1.merge(df2)\n",
        "print(\"Default Merge : \\n\", merged_df.head())\n",
        "# Drop rows with missing values\n",
        "merged_df = merged_df.dropna()\n",
        "print(\"After Dropping Rows with Missing Values : \\n\", merged_df.head())"
      ],
      "metadata": {
        "colab": {
          "base_uri": "https://localhost:8080/"
        },
        "id": "9K0CiWb810W2",
        "outputId": "db0d91ad-574e-4d82-deaf-04a0cfffe1f3"
      },
      "execution_count": null,
      "outputs": [
        {
          "output_type": "stream",
          "name": "stdout",
          "text": [
            "Default Merge : \n",
            "    customer_id  region_id start_date   end_date  duration_days    txn_date  \\\n",
            "0            1          3 2020-01-02 2020-01-03            1.0  02-01-2020   \n",
            "1            1          3 2020-01-02 2020-01-03            1.0  05-03-2020   \n",
            "2            1          3 2020-01-02 2020-01-03            1.0  17-03-2020   \n",
            "3            1          3 2020-01-02 2020-01-03            1.0  19-03-2020   \n",
            "4            1          3 2020-01-04 2020-01-14           10.0  02-01-2020   \n",
            "\n",
            "   txn_type  txn_amount  \n",
            "0   deposit         312  \n",
            "1  purchase         612  \n",
            "2   deposit         324  \n",
            "3  purchase         664  \n",
            "4   deposit         312  \n",
            "After Dropping Rows with Missing Values : \n",
            "    customer_id  region_id start_date   end_date  duration_days    txn_date  \\\n",
            "0            1          3 2020-01-02 2020-01-03            1.0  02-01-2020   \n",
            "1            1          3 2020-01-02 2020-01-03            1.0  05-03-2020   \n",
            "2            1          3 2020-01-02 2020-01-03            1.0  17-03-2020   \n",
            "3            1          3 2020-01-02 2020-01-03            1.0  19-03-2020   \n",
            "4            1          3 2020-01-04 2020-01-14           10.0  02-01-2020   \n",
            "\n",
            "   txn_type  txn_amount  \n",
            "0   deposit         312  \n",
            "1  purchase         612  \n",
            "2   deposit         324  \n",
            "3  purchase         664  \n",
            "4   deposit         312  \n"
          ]
        }
      ]
    },
    {
      "cell_type": "markdown",
      "source": [
        "6. Calculate the average duration of each customer.\n",
        "\n",
        "1.groupby('customer_id'): Groups the DataFrame by customer_id.\n",
        "\n",
        "2.['duration_days'].mean(): Calculates the average duration for each customer.\n",
        "\n",
        "3.reset_index(): Resets the index of the resulting DataFrame to make customer_id a column again.This is necessary because the groupby function changes the index of the DataFrame."
      ],
      "metadata": {
        "id": "d3tyX7vY2h5n"
      }
    },
    {
      "cell_type": "code",
      "source": [
        "\n",
        "average_durations = merged_df.groupby('customer_id')['duration_days'].mean().reset_index()\n",
        "print(average_durations)\n"
      ],
      "metadata": {
        "colab": {
          "base_uri": "https://localhost:8080/"
        },
        "id": "vQlxBKTD2iQA",
        "outputId": "37cfe988-feb3-4368-c48d-f7e2035b0504"
      },
      "execution_count": null,
      "outputs": [
        {
          "output_type": "stream",
          "name": "stdout",
          "text": [
            "     customer_id  duration_days\n",
            "0              1      11.500000\n",
            "1              2      10.833333\n",
            "2              3      13.833333\n",
            "3              4      13.333333\n",
            "4              5       7.500000\n",
            "..           ...            ...\n",
            "495          496       7.333333\n",
            "496          497      18.666667\n",
            "497          498      11.833333\n",
            "498          499       4.333333\n",
            "499          500      14.000000\n",
            "\n",
            "[500 rows x 2 columns]\n"
          ]
        }
      ]
    },
    {
      "cell_type": "markdown",
      "source": [
        "7. Display the unique transaction types.\n",
        "\n",
        "The unique() method is useful for exploring categorical data, such as transaction types, where you want to understand all possible values present in a column."
      ],
      "metadata": {
        "id": "BV3Sap172pUD"
      }
    },
    {
      "cell_type": "code",
      "source": [
        "\n",
        "print(df2.columns)\n",
        "\n",
        "unique = df2['txn_type'].unique()\n",
        "print(unique)\n"
      ],
      "metadata": {
        "colab": {
          "base_uri": "https://localhost:8080/"
        },
        "id": "PXt7AXoE2iTo",
        "outputId": "1e6faacb-c390-4523-bf8e-e1b6a8c40ed9"
      },
      "execution_count": null,
      "outputs": [
        {
          "output_type": "stream",
          "name": "stdout",
          "text": [
            "Index(['customer_id', 'txn_date', 'txn_type', 'txn_amount'], dtype='object')\n",
            "['deposit' 'withdrawal' 'purchase']\n"
          ]
        }
      ]
    },
    {
      "cell_type": "markdown",
      "source": [
        "8. Display the count of each transaction type with respect to each continent.\n",
        "\n",
        "If you want to use value_counts() to directly count the occurrences of each txn_type with respect to each region_name.\n",
        "\n",
        "groupby() function in pandas is used to split the DataFrame into groups based on some criteria."
      ],
      "metadata": {
        "id": "o9ak8ZiH2tH6"
      }
    },
    {
      "cell_type": "code",
      "source": [
        "\n",
        "print(df1.columns)\n",
        "print(df2.columns)\n",
        "print(df3.columns)\n",
        "merge1= pd.merge(df1, df2, on='customer_id', how='left')\n",
        "merge2 = pd.merge(merge1, df3, on= 'region_id', how='left') # Merge the result with df3"
      ],
      "metadata": {
        "colab": {
          "base_uri": "https://localhost:8080/"
        },
        "id": "-tWsCZQ42sWG",
        "outputId": "643bf00a-0675-4170-dadf-868c64fd9980"
      },
      "execution_count": null,
      "outputs": [
        {
          "output_type": "stream",
          "name": "stdout",
          "text": [
            "Index(['customer_id', 'region_id', 'start_date', 'end_date', 'duration_days'], dtype='object')\n",
            "Index(['customer_id', 'txn_date', 'txn_type', 'txn_amount'], dtype='object')\n",
            "Index(['region_id', 'region_name'], dtype='object')\n"
          ]
        }
      ]
    },
    {
      "cell_type": "code",
      "source": [
        "\n",
        "# Group and count transactions\n",
        "transaction_counts = merge2.groupby(['region_name','txn_type']).size().reset_index(name='transaction_count')\n",
        "print(transaction_counts)\n"
      ],
      "metadata": {
        "colab": {
          "base_uri": "https://localhost:8080/"
        },
        "id": "t-zzq78D2saV",
        "outputId": "b9620454-86a1-436b-d799-a7b3f5a8ce41"
      },
      "execution_count": null,
      "outputs": [
        {
          "output_type": "stream",
          "name": "stdout",
          "text": [
            "   region_name    txn_type  transaction_count\n",
            "0       Africa     deposit               3759\n",
            "1       Africa    purchase               2338\n",
            "2       Africa  withdrawal               2317\n",
            "3      America     deposit               4060\n",
            "4      America    purchase               2359\n",
            "5      America  withdrawal               2387\n",
            "6         Asia     deposit               3682\n",
            "7         Asia    purchase               2149\n",
            "8         Asia  withdrawal               2121\n",
            "9    Australia     deposit               4053\n",
            "10   Australia    purchase               2660\n",
            "11   Australia  withdrawal               2394\n",
            "12      Europe     deposit               3143\n",
            "13      Europe    purchase               1813\n",
            "14      Europe  withdrawal               1841\n"
          ]
        }
      ]
    },
    {
      "cell_type": "code",
      "source": [
        "\n",
        "print(merge2.columns)\n",
        "\n",
        "# Group by 'continent' and count occurrences of each 'transaction_type'\n",
        "transaction_counts =merge2.groupby('region_name')['txn_type'].value_counts().reset_index(name='transaction_count')\n",
        "\n",
        "\n",
        "# Display the counts\n",
        "print(\"Count of each transaction type with respect to each continent:\")\n",
        "print(transaction_counts)"
      ],
      "metadata": {
        "colab": {
          "base_uri": "https://localhost:8080/"
        },
        "id": "3ylqbLG12sev",
        "outputId": "5456b0fc-6fec-4127-de55-11a0b5975e1a"
      },
      "execution_count": null,
      "outputs": [
        {
          "output_type": "stream",
          "name": "stdout",
          "text": [
            "Index(['customer_id', 'region_id', 'start_date', 'end_date', 'duration_days',\n",
            "       'txn_date', 'txn_type', 'txn_amount', 'region_name'],\n",
            "      dtype='object')\n",
            "Count of each transaction type with respect to each continent:\n",
            "   region_name    txn_type  transaction_count\n",
            "0       Africa     deposit               3759\n",
            "1       Africa    purchase               2338\n",
            "2       Africa  withdrawal               2317\n",
            "3      America     deposit               4060\n",
            "4      America  withdrawal               2387\n",
            "5      America    purchase               2359\n",
            "6         Asia     deposit               3682\n",
            "7         Asia    purchase               2149\n",
            "8         Asia  withdrawal               2121\n",
            "9    Australia     deposit               4053\n",
            "10   Australia    purchase               2660\n",
            "11   Australia  withdrawal               2394\n",
            "12      Europe     deposit               3143\n",
            "13      Europe  withdrawal               1841\n",
            "14      Europe    purchase               1813\n"
          ]
        }
      ]
    },
    {
      "cell_type": "markdown",
      "source": [
        "9.Find out the selling cost average for packages developed in Pascal.\n",
        "\n",
        "df[df['developIN'] == 'Pascal'] filters the DataFrame df to select only those rows where 'development_language' is 'Pascal'."
      ],
      "metadata": {
        "id": "Q7HI_8Z823Tt"
      }
    },
    {
      "cell_type": "code",
      "source": [
        "\n",
        "print(df5.columns)\n",
        "pas_packages = df5[df5['DEVELOPIN'] == 'PASCAL']\n",
        "pas_packages"
      ],
      "metadata": {
        "colab": {
          "base_uri": "https://localhost:8080/",
          "height": 161
        },
        "id": "9OyKKpRM2iWY",
        "outputId": "875673df-32f0-4e33-cc8e-4f5af50762b3"
      },
      "execution_count": null,
      "outputs": [
        {
          "output_type": "stream",
          "name": "stdout",
          "text": [
            "Index(['PNAME', 'TITLE', 'DEVELOPIN', 'SCOST', 'DCOST', 'SOLD'], dtype='object')\n"
          ]
        },
        {
          "output_type": "execute_result",
          "data": {
            "text/plain": [
              "      PNAME           TITLE DEVELOPIN    SCOST  DCOST  SOLD\n",
              "2     ANAND   VIDEO TITLING    PASCAL  7500.00  16000     9\n",
              "11   RAMESH        DEAD LEE    PASCAL   599.95   4500    73\n",
              "14  REVATHI  HOSPITAL MGMT.    PASCAL  1100.00  75000     2"
            ],
            "text/html": [
              "\n",
              "  <div id=\"df-1c2860ed-8355-4f77-aa29-e8ee01d94f45\" class=\"colab-df-container\">\n",
              "    <div>\n",
              "<style scoped>\n",
              "    .dataframe tbody tr th:only-of-type {\n",
              "        vertical-align: middle;\n",
              "    }\n",
              "\n",
              "    .dataframe tbody tr th {\n",
              "        vertical-align: top;\n",
              "    }\n",
              "\n",
              "    .dataframe thead th {\n",
              "        text-align: right;\n",
              "    }\n",
              "</style>\n",
              "<table border=\"1\" class=\"dataframe\">\n",
              "  <thead>\n",
              "    <tr style=\"text-align: right;\">\n",
              "      <th></th>\n",
              "      <th>PNAME</th>\n",
              "      <th>TITLE</th>\n",
              "      <th>DEVELOPIN</th>\n",
              "      <th>SCOST</th>\n",
              "      <th>DCOST</th>\n",
              "      <th>SOLD</th>\n",
              "    </tr>\n",
              "  </thead>\n",
              "  <tbody>\n",
              "    <tr>\n",
              "      <th>2</th>\n",
              "      <td>ANAND</td>\n",
              "      <td>VIDEO TITLING</td>\n",
              "      <td>PASCAL</td>\n",
              "      <td>7500.00</td>\n",
              "      <td>16000</td>\n",
              "      <td>9</td>\n",
              "    </tr>\n",
              "    <tr>\n",
              "      <th>11</th>\n",
              "      <td>RAMESH</td>\n",
              "      <td>DEAD LEE</td>\n",
              "      <td>PASCAL</td>\n",
              "      <td>599.95</td>\n",
              "      <td>4500</td>\n",
              "      <td>73</td>\n",
              "    </tr>\n",
              "    <tr>\n",
              "      <th>14</th>\n",
              "      <td>REVATHI</td>\n",
              "      <td>HOSPITAL MGMT.</td>\n",
              "      <td>PASCAL</td>\n",
              "      <td>1100.00</td>\n",
              "      <td>75000</td>\n",
              "      <td>2</td>\n",
              "    </tr>\n",
              "  </tbody>\n",
              "</table>\n",
              "</div>\n",
              "    <div class=\"colab-df-buttons\">\n",
              "\n",
              "  <div class=\"colab-df-container\">\n",
              "    <button class=\"colab-df-convert\" onclick=\"convertToInteractive('df-1c2860ed-8355-4f77-aa29-e8ee01d94f45')\"\n",
              "            title=\"Convert this dataframe to an interactive table.\"\n",
              "            style=\"display:none;\">\n",
              "\n",
              "  <svg xmlns=\"http://www.w3.org/2000/svg\" height=\"24px\" viewBox=\"0 -960 960 960\">\n",
              "    <path d=\"M120-120v-720h720v720H120Zm60-500h600v-160H180v160Zm220 220h160v-160H400v160Zm0 220h160v-160H400v160ZM180-400h160v-160H180v160Zm440 0h160v-160H620v160ZM180-180h160v-160H180v160Zm440 0h160v-160H620v160Z\"/>\n",
              "  </svg>\n",
              "    </button>\n",
              "\n",
              "  <style>\n",
              "    .colab-df-container {\n",
              "      display:flex;\n",
              "      gap: 12px;\n",
              "    }\n",
              "\n",
              "    .colab-df-convert {\n",
              "      background-color: #E8F0FE;\n",
              "      border: none;\n",
              "      border-radius: 50%;\n",
              "      cursor: pointer;\n",
              "      display: none;\n",
              "      fill: #1967D2;\n",
              "      height: 32px;\n",
              "      padding: 0 0 0 0;\n",
              "      width: 32px;\n",
              "    }\n",
              "\n",
              "    .colab-df-convert:hover {\n",
              "      background-color: #E2EBFA;\n",
              "      box-shadow: 0px 1px 2px rgba(60, 64, 67, 0.3), 0px 1px 3px 1px rgba(60, 64, 67, 0.15);\n",
              "      fill: #174EA6;\n",
              "    }\n",
              "\n",
              "    .colab-df-buttons div {\n",
              "      margin-bottom: 4px;\n",
              "    }\n",
              "\n",
              "    [theme=dark] .colab-df-convert {\n",
              "      background-color: #3B4455;\n",
              "      fill: #D2E3FC;\n",
              "    }\n",
              "\n",
              "    [theme=dark] .colab-df-convert:hover {\n",
              "      background-color: #434B5C;\n",
              "      box-shadow: 0px 1px 3px 1px rgba(0, 0, 0, 0.15);\n",
              "      filter: drop-shadow(0px 1px 2px rgba(0, 0, 0, 0.3));\n",
              "      fill: #FFFFFF;\n",
              "    }\n",
              "  </style>\n",
              "\n",
              "    <script>\n",
              "      const buttonEl =\n",
              "        document.querySelector('#df-1c2860ed-8355-4f77-aa29-e8ee01d94f45 button.colab-df-convert');\n",
              "      buttonEl.style.display =\n",
              "        google.colab.kernel.accessAllowed ? 'block' : 'none';\n",
              "\n",
              "      async function convertToInteractive(key) {\n",
              "        const element = document.querySelector('#df-1c2860ed-8355-4f77-aa29-e8ee01d94f45');\n",
              "        const dataTable =\n",
              "          await google.colab.kernel.invokeFunction('convertToInteractive',\n",
              "                                                    [key], {});\n",
              "        if (!dataTable) return;\n",
              "\n",
              "        const docLinkHtml = 'Like what you see? Visit the ' +\n",
              "          '<a target=\"_blank\" href=https://colab.research.google.com/notebooks/data_table.ipynb>data table notebook</a>'\n",
              "          + ' to learn more about interactive tables.';\n",
              "        element.innerHTML = '';\n",
              "        dataTable['output_type'] = 'display_data';\n",
              "        await google.colab.output.renderOutput(dataTable, element);\n",
              "        const docLink = document.createElement('div');\n",
              "        docLink.innerHTML = docLinkHtml;\n",
              "        element.appendChild(docLink);\n",
              "      }\n",
              "    </script>\n",
              "  </div>\n",
              "\n",
              "\n",
              "<div id=\"df-5979f6ae-a4e8-484f-b8e7-d7da786766f9\">\n",
              "  <button class=\"colab-df-quickchart\" onclick=\"quickchart('df-5979f6ae-a4e8-484f-b8e7-d7da786766f9')\"\n",
              "            title=\"Suggest charts\"\n",
              "            style=\"display:none;\">\n",
              "\n",
              "<svg xmlns=\"http://www.w3.org/2000/svg\" height=\"24px\"viewBox=\"0 0 24 24\"\n",
              "     width=\"24px\">\n",
              "    <g>\n",
              "        <path d=\"M19 3H5c-1.1 0-2 .9-2 2v14c0 1.1.9 2 2 2h14c1.1 0 2-.9 2-2V5c0-1.1-.9-2-2-2zM9 17H7v-7h2v7zm4 0h-2V7h2v10zm4 0h-2v-4h2v4z\"/>\n",
              "    </g>\n",
              "</svg>\n",
              "  </button>\n",
              "\n",
              "<style>\n",
              "  .colab-df-quickchart {\n",
              "      --bg-color: #E8F0FE;\n",
              "      --fill-color: #1967D2;\n",
              "      --hover-bg-color: #E2EBFA;\n",
              "      --hover-fill-color: #174EA6;\n",
              "      --disabled-fill-color: #AAA;\n",
              "      --disabled-bg-color: #DDD;\n",
              "  }\n",
              "\n",
              "  [theme=dark] .colab-df-quickchart {\n",
              "      --bg-color: #3B4455;\n",
              "      --fill-color: #D2E3FC;\n",
              "      --hover-bg-color: #434B5C;\n",
              "      --hover-fill-color: #FFFFFF;\n",
              "      --disabled-bg-color: #3B4455;\n",
              "      --disabled-fill-color: #666;\n",
              "  }\n",
              "\n",
              "  .colab-df-quickchart {\n",
              "    background-color: var(--bg-color);\n",
              "    border: none;\n",
              "    border-radius: 50%;\n",
              "    cursor: pointer;\n",
              "    display: none;\n",
              "    fill: var(--fill-color);\n",
              "    height: 32px;\n",
              "    padding: 0;\n",
              "    width: 32px;\n",
              "  }\n",
              "\n",
              "  .colab-df-quickchart:hover {\n",
              "    background-color: var(--hover-bg-color);\n",
              "    box-shadow: 0 1px 2px rgba(60, 64, 67, 0.3), 0 1px 3px 1px rgba(60, 64, 67, 0.15);\n",
              "    fill: var(--button-hover-fill-color);\n",
              "  }\n",
              "\n",
              "  .colab-df-quickchart-complete:disabled,\n",
              "  .colab-df-quickchart-complete:disabled:hover {\n",
              "    background-color: var(--disabled-bg-color);\n",
              "    fill: var(--disabled-fill-color);\n",
              "    box-shadow: none;\n",
              "  }\n",
              "\n",
              "  .colab-df-spinner {\n",
              "    border: 2px solid var(--fill-color);\n",
              "    border-color: transparent;\n",
              "    border-bottom-color: var(--fill-color);\n",
              "    animation:\n",
              "      spin 1s steps(1) infinite;\n",
              "  }\n",
              "\n",
              "  @keyframes spin {\n",
              "    0% {\n",
              "      border-color: transparent;\n",
              "      border-bottom-color: var(--fill-color);\n",
              "      border-left-color: var(--fill-color);\n",
              "    }\n",
              "    20% {\n",
              "      border-color: transparent;\n",
              "      border-left-color: var(--fill-color);\n",
              "      border-top-color: var(--fill-color);\n",
              "    }\n",
              "    30% {\n",
              "      border-color: transparent;\n",
              "      border-left-color: var(--fill-color);\n",
              "      border-top-color: var(--fill-color);\n",
              "      border-right-color: var(--fill-color);\n",
              "    }\n",
              "    40% {\n",
              "      border-color: transparent;\n",
              "      border-right-color: var(--fill-color);\n",
              "      border-top-color: var(--fill-color);\n",
              "    }\n",
              "    60% {\n",
              "      border-color: transparent;\n",
              "      border-right-color: var(--fill-color);\n",
              "    }\n",
              "    80% {\n",
              "      border-color: transparent;\n",
              "      border-right-color: var(--fill-color);\n",
              "      border-bottom-color: var(--fill-color);\n",
              "    }\n",
              "    90% {\n",
              "      border-color: transparent;\n",
              "      border-bottom-color: var(--fill-color);\n",
              "    }\n",
              "  }\n",
              "</style>\n",
              "\n",
              "  <script>\n",
              "    async function quickchart(key) {\n",
              "      const quickchartButtonEl =\n",
              "        document.querySelector('#' + key + ' button');\n",
              "      quickchartButtonEl.disabled = true;  // To prevent multiple clicks.\n",
              "      quickchartButtonEl.classList.add('colab-df-spinner');\n",
              "      try {\n",
              "        const charts = await google.colab.kernel.invokeFunction(\n",
              "            'suggestCharts', [key], {});\n",
              "      } catch (error) {\n",
              "        console.error('Error during call to suggestCharts:', error);\n",
              "      }\n",
              "      quickchartButtonEl.classList.remove('colab-df-spinner');\n",
              "      quickchartButtonEl.classList.add('colab-df-quickchart-complete');\n",
              "    }\n",
              "    (() => {\n",
              "      let quickchartButtonEl =\n",
              "        document.querySelector('#df-5979f6ae-a4e8-484f-b8e7-d7da786766f9 button');\n",
              "      quickchartButtonEl.style.display =\n",
              "        google.colab.kernel.accessAllowed ? 'block' : 'none';\n",
              "    })();\n",
              "  </script>\n",
              "</div>\n",
              "\n",
              "  <div id=\"id_01b72688-e23e-4bbd-b2c4-ff4c70ee2cde\">\n",
              "    <style>\n",
              "      .colab-df-generate {\n",
              "        background-color: #E8F0FE;\n",
              "        border: none;\n",
              "        border-radius: 50%;\n",
              "        cursor: pointer;\n",
              "        display: none;\n",
              "        fill: #1967D2;\n",
              "        height: 32px;\n",
              "        padding: 0 0 0 0;\n",
              "        width: 32px;\n",
              "      }\n",
              "\n",
              "      .colab-df-generate:hover {\n",
              "        background-color: #E2EBFA;\n",
              "        box-shadow: 0px 1px 2px rgba(60, 64, 67, 0.3), 0px 1px 3px 1px rgba(60, 64, 67, 0.15);\n",
              "        fill: #174EA6;\n",
              "      }\n",
              "\n",
              "      [theme=dark] .colab-df-generate {\n",
              "        background-color: #3B4455;\n",
              "        fill: #D2E3FC;\n",
              "      }\n",
              "\n",
              "      [theme=dark] .colab-df-generate:hover {\n",
              "        background-color: #434B5C;\n",
              "        box-shadow: 0px 1px 3px 1px rgba(0, 0, 0, 0.15);\n",
              "        filter: drop-shadow(0px 1px 2px rgba(0, 0, 0, 0.3));\n",
              "        fill: #FFFFFF;\n",
              "      }\n",
              "    </style>\n",
              "    <button class=\"colab-df-generate\" onclick=\"generateWithVariable('pas_packages')\"\n",
              "            title=\"Generate code using this dataframe.\"\n",
              "            style=\"display:none;\">\n",
              "\n",
              "  <svg xmlns=\"http://www.w3.org/2000/svg\" height=\"24px\"viewBox=\"0 0 24 24\"\n",
              "       width=\"24px\">\n",
              "    <path d=\"M7,19H8.4L18.45,9,17,7.55,7,17.6ZM5,21V16.75L18.45,3.32a2,2,0,0,1,2.83,0l1.4,1.43a1.91,1.91,0,0,1,.58,1.4,1.91,1.91,0,0,1-.58,1.4L9.25,21ZM18.45,9,17,7.55Zm-12,3A5.31,5.31,0,0,0,4.9,8.1,5.31,5.31,0,0,0,1,6.5,5.31,5.31,0,0,0,4.9,4.9,5.31,5.31,0,0,0,6.5,1,5.31,5.31,0,0,0,8.1,4.9,5.31,5.31,0,0,0,12,6.5,5.46,5.46,0,0,0,6.5,12Z\"/>\n",
              "  </svg>\n",
              "    </button>\n",
              "    <script>\n",
              "      (() => {\n",
              "      const buttonEl =\n",
              "        document.querySelector('#id_01b72688-e23e-4bbd-b2c4-ff4c70ee2cde button.colab-df-generate');\n",
              "      buttonEl.style.display =\n",
              "        google.colab.kernel.accessAllowed ? 'block' : 'none';\n",
              "\n",
              "      buttonEl.onclick = () => {\n",
              "        google.colab.notebook.generateWithVariable('pas_packages');\n",
              "      }\n",
              "      })();\n",
              "    </script>\n",
              "  </div>\n",
              "\n",
              "    </div>\n",
              "  </div>\n"
            ],
            "application/vnd.google.colaboratory.intrinsic+json": {
              "type": "dataframe",
              "variable_name": "pas_packages",
              "summary": "{\n  \"name\": \"pas_packages\",\n  \"rows\": 3,\n  \"fields\": [\n    {\n      \"column\": \"PNAME\",\n      \"properties\": {\n        \"dtype\": \"string\",\n        \"num_unique_values\": 3,\n        \"samples\": [\n          \"ANAND\",\n          \"RAMESH\",\n          \"REVATHI\"\n        ],\n        \"semantic_type\": \"\",\n        \"description\": \"\"\n      }\n    },\n    {\n      \"column\": \"TITLE\",\n      \"properties\": {\n        \"dtype\": \"string\",\n        \"num_unique_values\": 3,\n        \"samples\": [\n          \"VIDEO TITLING\",\n          \"DEAD LEE\",\n          \"HOSPITAL MGMT.\"\n        ],\n        \"semantic_type\": \"\",\n        \"description\": \"\"\n      }\n    },\n    {\n      \"column\": \"DEVELOPIN\",\n      \"properties\": {\n        \"dtype\": \"category\",\n        \"num_unique_values\": 1,\n        \"samples\": [\n          \"PASCAL\"\n        ],\n        \"semantic_type\": \"\",\n        \"description\": \"\"\n      }\n    },\n    {\n      \"column\": \"SCOST\",\n      \"properties\": {\n        \"dtype\": \"number\",\n        \"std\": 3847.5260450710407,\n        \"min\": 599.95,\n        \"max\": 7500.0,\n        \"num_unique_values\": 3,\n        \"samples\": [\n          7500.0\n        ],\n        \"semantic_type\": \"\",\n        \"description\": \"\"\n      }\n    },\n    {\n      \"column\": \"DCOST\",\n      \"properties\": {\n        \"dtype\": \"number\",\n        \"std\": 37823,\n        \"min\": 4500,\n        \"max\": 75000,\n        \"num_unique_values\": 3,\n        \"samples\": [\n          16000\n        ],\n        \"semantic_type\": \"\",\n        \"description\": \"\"\n      }\n    },\n    {\n      \"column\": \"SOLD\",\n      \"properties\": {\n        \"dtype\": \"number\",\n        \"std\": 39,\n        \"min\": 2,\n        \"max\": 73,\n        \"num_unique_values\": 3,\n        \"samples\": [\n          9\n        ],\n        \"semantic_type\": \"\",\n        \"description\": \"\"\n      }\n    }\n  ]\n}"
            }
          },
          "metadata": {},
          "execution_count": 88
        }
      ]
    },
    {
      "cell_type": "code",
      "source": [
        "# Calculate the average\n",
        "avg_selling_cost = pas_packages['SCOST'].mean()\n",
        "print(\"Average Selling Cost for the packages developed in Pascal: \", avg_selling_cost)\n"
      ],
      "metadata": {
        "colab": {
          "base_uri": "https://localhost:8080/"
        },
        "id": "-HyT58kpjXPp",
        "outputId": "ebef20d3-6bf5-4e0a-c53a-320f660d4d74"
      },
      "execution_count": null,
      "outputs": [
        {
          "output_type": "stream",
          "name": "stdout",
          "text": [
            "Average Selling Cost for the packages developed in Pascal:  3066.65\n"
          ]
        }
      ]
    },
    {
      "cell_type": "markdown",
      "source": [
        "#10. Display the names of those who have done the DAP Course.\n"
      ],
      "metadata": {
        "id": "jCdXX0jgmDES"
      }
    },
    {
      "cell_type": "code",
      "source": [
        "print(df4.columns)\n",
        "dap = df4[df4['COURSE'] == 'DAP']\n",
        "dap\n"
      ],
      "metadata": {
        "colab": {
          "base_uri": "https://localhost:8080/",
          "height": 143
        },
        "id": "PR7iHAQOjXTL",
        "outputId": "67d8a102-b570-403d-e6d7-2cdeccab1cf3"
      },
      "execution_count": null,
      "outputs": [
        {
          "output_type": "stream",
          "name": "stdout",
          "text": [
            "Index(['PNAME', 'INSTITUTE', 'COURSE', 'COURSE FEE'], dtype='object')\n"
          ]
        },
        {
          "output_type": "execute_result",
          "data": {
            "text/plain": [
              "      PNAME INSTITUTE COURSE  COURSE FEE\n",
              "5    NELSON  PRAGATHI    DAP        6200\n",
              "11  REVATHI   SABHARI    DAP        5000"
            ],
            "text/html": [
              "\n",
              "  <div id=\"df-060eb36a-d8aa-4a3f-913f-9a67e89ea7ae\" class=\"colab-df-container\">\n",
              "    <div>\n",
              "<style scoped>\n",
              "    .dataframe tbody tr th:only-of-type {\n",
              "        vertical-align: middle;\n",
              "    }\n",
              "\n",
              "    .dataframe tbody tr th {\n",
              "        vertical-align: top;\n",
              "    }\n",
              "\n",
              "    .dataframe thead th {\n",
              "        text-align: right;\n",
              "    }\n",
              "</style>\n",
              "<table border=\"1\" class=\"dataframe\">\n",
              "  <thead>\n",
              "    <tr style=\"text-align: right;\">\n",
              "      <th></th>\n",
              "      <th>PNAME</th>\n",
              "      <th>INSTITUTE</th>\n",
              "      <th>COURSE</th>\n",
              "      <th>COURSE FEE</th>\n",
              "    </tr>\n",
              "  </thead>\n",
              "  <tbody>\n",
              "    <tr>\n",
              "      <th>5</th>\n",
              "      <td>NELSON</td>\n",
              "      <td>PRAGATHI</td>\n",
              "      <td>DAP</td>\n",
              "      <td>6200</td>\n",
              "    </tr>\n",
              "    <tr>\n",
              "      <th>11</th>\n",
              "      <td>REVATHI</td>\n",
              "      <td>SABHARI</td>\n",
              "      <td>DAP</td>\n",
              "      <td>5000</td>\n",
              "    </tr>\n",
              "  </tbody>\n",
              "</table>\n",
              "</div>\n",
              "    <div class=\"colab-df-buttons\">\n",
              "\n",
              "  <div class=\"colab-df-container\">\n",
              "    <button class=\"colab-df-convert\" onclick=\"convertToInteractive('df-060eb36a-d8aa-4a3f-913f-9a67e89ea7ae')\"\n",
              "            title=\"Convert this dataframe to an interactive table.\"\n",
              "            style=\"display:none;\">\n",
              "\n",
              "  <svg xmlns=\"http://www.w3.org/2000/svg\" height=\"24px\" viewBox=\"0 -960 960 960\">\n",
              "    <path d=\"M120-120v-720h720v720H120Zm60-500h600v-160H180v160Zm220 220h160v-160H400v160Zm0 220h160v-160H400v160ZM180-400h160v-160H180v160Zm440 0h160v-160H620v160ZM180-180h160v-160H180v160Zm440 0h160v-160H620v160Z\"/>\n",
              "  </svg>\n",
              "    </button>\n",
              "\n",
              "  <style>\n",
              "    .colab-df-container {\n",
              "      display:flex;\n",
              "      gap: 12px;\n",
              "    }\n",
              "\n",
              "    .colab-df-convert {\n",
              "      background-color: #E8F0FE;\n",
              "      border: none;\n",
              "      border-radius: 50%;\n",
              "      cursor: pointer;\n",
              "      display: none;\n",
              "      fill: #1967D2;\n",
              "      height: 32px;\n",
              "      padding: 0 0 0 0;\n",
              "      width: 32px;\n",
              "    }\n",
              "\n",
              "    .colab-df-convert:hover {\n",
              "      background-color: #E2EBFA;\n",
              "      box-shadow: 0px 1px 2px rgba(60, 64, 67, 0.3), 0px 1px 3px 1px rgba(60, 64, 67, 0.15);\n",
              "      fill: #174EA6;\n",
              "    }\n",
              "\n",
              "    .colab-df-buttons div {\n",
              "      margin-bottom: 4px;\n",
              "    }\n",
              "\n",
              "    [theme=dark] .colab-df-convert {\n",
              "      background-color: #3B4455;\n",
              "      fill: #D2E3FC;\n",
              "    }\n",
              "\n",
              "    [theme=dark] .colab-df-convert:hover {\n",
              "      background-color: #434B5C;\n",
              "      box-shadow: 0px 1px 3px 1px rgba(0, 0, 0, 0.15);\n",
              "      filter: drop-shadow(0px 1px 2px rgba(0, 0, 0, 0.3));\n",
              "      fill: #FFFFFF;\n",
              "    }\n",
              "  </style>\n",
              "\n",
              "    <script>\n",
              "      const buttonEl =\n",
              "        document.querySelector('#df-060eb36a-d8aa-4a3f-913f-9a67e89ea7ae button.colab-df-convert');\n",
              "      buttonEl.style.display =\n",
              "        google.colab.kernel.accessAllowed ? 'block' : 'none';\n",
              "\n",
              "      async function convertToInteractive(key) {\n",
              "        const element = document.querySelector('#df-060eb36a-d8aa-4a3f-913f-9a67e89ea7ae');\n",
              "        const dataTable =\n",
              "          await google.colab.kernel.invokeFunction('convertToInteractive',\n",
              "                                                    [key], {});\n",
              "        if (!dataTable) return;\n",
              "\n",
              "        const docLinkHtml = 'Like what you see? Visit the ' +\n",
              "          '<a target=\"_blank\" href=https://colab.research.google.com/notebooks/data_table.ipynb>data table notebook</a>'\n",
              "          + ' to learn more about interactive tables.';\n",
              "        element.innerHTML = '';\n",
              "        dataTable['output_type'] = 'display_data';\n",
              "        await google.colab.output.renderOutput(dataTable, element);\n",
              "        const docLink = document.createElement('div');\n",
              "        docLink.innerHTML = docLinkHtml;\n",
              "        element.appendChild(docLink);\n",
              "      }\n",
              "    </script>\n",
              "  </div>\n",
              "\n",
              "\n",
              "<div id=\"df-a8064bb5-fbec-4a0f-ba82-113fc8872dd0\">\n",
              "  <button class=\"colab-df-quickchart\" onclick=\"quickchart('df-a8064bb5-fbec-4a0f-ba82-113fc8872dd0')\"\n",
              "            title=\"Suggest charts\"\n",
              "            style=\"display:none;\">\n",
              "\n",
              "<svg xmlns=\"http://www.w3.org/2000/svg\" height=\"24px\"viewBox=\"0 0 24 24\"\n",
              "     width=\"24px\">\n",
              "    <g>\n",
              "        <path d=\"M19 3H5c-1.1 0-2 .9-2 2v14c0 1.1.9 2 2 2h14c1.1 0 2-.9 2-2V5c0-1.1-.9-2-2-2zM9 17H7v-7h2v7zm4 0h-2V7h2v10zm4 0h-2v-4h2v4z\"/>\n",
              "    </g>\n",
              "</svg>\n",
              "  </button>\n",
              "\n",
              "<style>\n",
              "  .colab-df-quickchart {\n",
              "      --bg-color: #E8F0FE;\n",
              "      --fill-color: #1967D2;\n",
              "      --hover-bg-color: #E2EBFA;\n",
              "      --hover-fill-color: #174EA6;\n",
              "      --disabled-fill-color: #AAA;\n",
              "      --disabled-bg-color: #DDD;\n",
              "  }\n",
              "\n",
              "  [theme=dark] .colab-df-quickchart {\n",
              "      --bg-color: #3B4455;\n",
              "      --fill-color: #D2E3FC;\n",
              "      --hover-bg-color: #434B5C;\n",
              "      --hover-fill-color: #FFFFFF;\n",
              "      --disabled-bg-color: #3B4455;\n",
              "      --disabled-fill-color: #666;\n",
              "  }\n",
              "\n",
              "  .colab-df-quickchart {\n",
              "    background-color: var(--bg-color);\n",
              "    border: none;\n",
              "    border-radius: 50%;\n",
              "    cursor: pointer;\n",
              "    display: none;\n",
              "    fill: var(--fill-color);\n",
              "    height: 32px;\n",
              "    padding: 0;\n",
              "    width: 32px;\n",
              "  }\n",
              "\n",
              "  .colab-df-quickchart:hover {\n",
              "    background-color: var(--hover-bg-color);\n",
              "    box-shadow: 0 1px 2px rgba(60, 64, 67, 0.3), 0 1px 3px 1px rgba(60, 64, 67, 0.15);\n",
              "    fill: var(--button-hover-fill-color);\n",
              "  }\n",
              "\n",
              "  .colab-df-quickchart-complete:disabled,\n",
              "  .colab-df-quickchart-complete:disabled:hover {\n",
              "    background-color: var(--disabled-bg-color);\n",
              "    fill: var(--disabled-fill-color);\n",
              "    box-shadow: none;\n",
              "  }\n",
              "\n",
              "  .colab-df-spinner {\n",
              "    border: 2px solid var(--fill-color);\n",
              "    border-color: transparent;\n",
              "    border-bottom-color: var(--fill-color);\n",
              "    animation:\n",
              "      spin 1s steps(1) infinite;\n",
              "  }\n",
              "\n",
              "  @keyframes spin {\n",
              "    0% {\n",
              "      border-color: transparent;\n",
              "      border-bottom-color: var(--fill-color);\n",
              "      border-left-color: var(--fill-color);\n",
              "    }\n",
              "    20% {\n",
              "      border-color: transparent;\n",
              "      border-left-color: var(--fill-color);\n",
              "      border-top-color: var(--fill-color);\n",
              "    }\n",
              "    30% {\n",
              "      border-color: transparent;\n",
              "      border-left-color: var(--fill-color);\n",
              "      border-top-color: var(--fill-color);\n",
              "      border-right-color: var(--fill-color);\n",
              "    }\n",
              "    40% {\n",
              "      border-color: transparent;\n",
              "      border-right-color: var(--fill-color);\n",
              "      border-top-color: var(--fill-color);\n",
              "    }\n",
              "    60% {\n",
              "      border-color: transparent;\n",
              "      border-right-color: var(--fill-color);\n",
              "    }\n",
              "    80% {\n",
              "      border-color: transparent;\n",
              "      border-right-color: var(--fill-color);\n",
              "      border-bottom-color: var(--fill-color);\n",
              "    }\n",
              "    90% {\n",
              "      border-color: transparent;\n",
              "      border-bottom-color: var(--fill-color);\n",
              "    }\n",
              "  }\n",
              "</style>\n",
              "\n",
              "  <script>\n",
              "    async function quickchart(key) {\n",
              "      const quickchartButtonEl =\n",
              "        document.querySelector('#' + key + ' button');\n",
              "      quickchartButtonEl.disabled = true;  // To prevent multiple clicks.\n",
              "      quickchartButtonEl.classList.add('colab-df-spinner');\n",
              "      try {\n",
              "        const charts = await google.colab.kernel.invokeFunction(\n",
              "            'suggestCharts', [key], {});\n",
              "      } catch (error) {\n",
              "        console.error('Error during call to suggestCharts:', error);\n",
              "      }\n",
              "      quickchartButtonEl.classList.remove('colab-df-spinner');\n",
              "      quickchartButtonEl.classList.add('colab-df-quickchart-complete');\n",
              "    }\n",
              "    (() => {\n",
              "      let quickchartButtonEl =\n",
              "        document.querySelector('#df-a8064bb5-fbec-4a0f-ba82-113fc8872dd0 button');\n",
              "      quickchartButtonEl.style.display =\n",
              "        google.colab.kernel.accessAllowed ? 'block' : 'none';\n",
              "    })();\n",
              "  </script>\n",
              "</div>\n",
              "\n",
              "  <div id=\"id_60002221-5b69-41e5-bffb-05f0a6d1978a\">\n",
              "    <style>\n",
              "      .colab-df-generate {\n",
              "        background-color: #E8F0FE;\n",
              "        border: none;\n",
              "        border-radius: 50%;\n",
              "        cursor: pointer;\n",
              "        display: none;\n",
              "        fill: #1967D2;\n",
              "        height: 32px;\n",
              "        padding: 0 0 0 0;\n",
              "        width: 32px;\n",
              "      }\n",
              "\n",
              "      .colab-df-generate:hover {\n",
              "        background-color: #E2EBFA;\n",
              "        box-shadow: 0px 1px 2px rgba(60, 64, 67, 0.3), 0px 1px 3px 1px rgba(60, 64, 67, 0.15);\n",
              "        fill: #174EA6;\n",
              "      }\n",
              "\n",
              "      [theme=dark] .colab-df-generate {\n",
              "        background-color: #3B4455;\n",
              "        fill: #D2E3FC;\n",
              "      }\n",
              "\n",
              "      [theme=dark] .colab-df-generate:hover {\n",
              "        background-color: #434B5C;\n",
              "        box-shadow: 0px 1px 3px 1px rgba(0, 0, 0, 0.15);\n",
              "        filter: drop-shadow(0px 1px 2px rgba(0, 0, 0, 0.3));\n",
              "        fill: #FFFFFF;\n",
              "      }\n",
              "    </style>\n",
              "    <button class=\"colab-df-generate\" onclick=\"generateWithVariable('dap')\"\n",
              "            title=\"Generate code using this dataframe.\"\n",
              "            style=\"display:none;\">\n",
              "\n",
              "  <svg xmlns=\"http://www.w3.org/2000/svg\" height=\"24px\"viewBox=\"0 0 24 24\"\n",
              "       width=\"24px\">\n",
              "    <path d=\"M7,19H8.4L18.45,9,17,7.55,7,17.6ZM5,21V16.75L18.45,3.32a2,2,0,0,1,2.83,0l1.4,1.43a1.91,1.91,0,0,1,.58,1.4,1.91,1.91,0,0,1-.58,1.4L9.25,21ZM18.45,9,17,7.55Zm-12,3A5.31,5.31,0,0,0,4.9,8.1,5.31,5.31,0,0,0,1,6.5,5.31,5.31,0,0,0,4.9,4.9,5.31,5.31,0,0,0,6.5,1,5.31,5.31,0,0,0,8.1,4.9,5.31,5.31,0,0,0,12,6.5,5.46,5.46,0,0,0,6.5,12Z\"/>\n",
              "  </svg>\n",
              "    </button>\n",
              "    <script>\n",
              "      (() => {\n",
              "      const buttonEl =\n",
              "        document.querySelector('#id_60002221-5b69-41e5-bffb-05f0a6d1978a button.colab-df-generate');\n",
              "      buttonEl.style.display =\n",
              "        google.colab.kernel.accessAllowed ? 'block' : 'none';\n",
              "\n",
              "      buttonEl.onclick = () => {\n",
              "        google.colab.notebook.generateWithVariable('dap');\n",
              "      }\n",
              "      })();\n",
              "    </script>\n",
              "  </div>\n",
              "\n",
              "    </div>\n",
              "  </div>\n"
            ],
            "application/vnd.google.colaboratory.intrinsic+json": {
              "type": "dataframe",
              "variable_name": "dap",
              "summary": "{\n  \"name\": \"dap\",\n  \"rows\": 2,\n  \"fields\": [\n    {\n      \"column\": \"PNAME\",\n      \"properties\": {\n        \"dtype\": \"string\",\n        \"num_unique_values\": 2,\n        \"samples\": [\n          \"REVATHI\",\n          \"NELSON\"\n        ],\n        \"semantic_type\": \"\",\n        \"description\": \"\"\n      }\n    },\n    {\n      \"column\": \"INSTITUTE\",\n      \"properties\": {\n        \"dtype\": \"string\",\n        \"num_unique_values\": 2,\n        \"samples\": [\n          \"SABHARI\",\n          \"PRAGATHI\"\n        ],\n        \"semantic_type\": \"\",\n        \"description\": \"\"\n      }\n    },\n    {\n      \"column\": \"COURSE\",\n      \"properties\": {\n        \"dtype\": \"string\",\n        \"num_unique_values\": 1,\n        \"samples\": [\n          \"DAP\"\n        ],\n        \"semantic_type\": \"\",\n        \"description\": \"\"\n      }\n    },\n    {\n      \"column\": \"COURSE FEE\",\n      \"properties\": {\n        \"dtype\": \"number\",\n        \"std\": 848,\n        \"min\": 5000,\n        \"max\": 6200,\n        \"num_unique_values\": 2,\n        \"samples\": [\n          5000\n        ],\n        \"semantic_type\": \"\",\n        \"description\": \"\"\n      }\n    }\n  ]\n}"
            }
          },
          "metadata": {},
          "execution_count": 90
        }
      ]
    },
    {
      "cell_type": "code",
      "source": [
        "print(dap['PNAME'])"
      ],
      "metadata": {
        "colab": {
          "base_uri": "https://localhost:8080/"
        },
        "id": "YSkDNHyKm8tQ",
        "outputId": "750ec321-4674-4dd3-9835-4d3cd0b9d7d6"
      },
      "execution_count": null,
      "outputs": [
        {
          "output_type": "stream",
          "name": "stdout",
          "text": [
            "5      NELSON\n",
            "11    REVATHI\n",
            "Name: PNAME, dtype: object\n"
          ]
        }
      ]
    },
    {
      "cell_type": "markdown",
      "source": [
        "#11. Display the lowest course fee."
      ],
      "metadata": {
        "id": "EtubF8uHm-yg"
      }
    },
    {
      "cell_type": "code",
      "source": [
        "low=df4['COURSE FEE'].min()\n",
        "print(\"Lowest Course Fee : \",low)"
      ],
      "metadata": {
        "colab": {
          "base_uri": "https://localhost:8080/"
        },
        "id": "nBp2FMj7m_Eh",
        "outputId": "e23acfd9-4ec7-4e01-911d-ed446e7e22af"
      },
      "execution_count": null,
      "outputs": [
        {
          "output_type": "stream",
          "name": "stdout",
          "text": [
            "Lowest Course Fee :  4500\n"
          ]
        }
      ]
    },
    {
      "cell_type": "markdown",
      "source": [
        "#12. Display the details of the packages for which development costs have been recovered."
      ],
      "metadata": {
        "id": "znMiw24OnPfJ"
      }
    },
    {
      "cell_type": "code",
      "source": [
        "df5['R'] = df5['SCOST'] * df5['SOLD']\n",
        "# Assuming you want to compare 'Recover' with 'DCOST' column in df5\n",
        "recover = df5[df5['R'] >= df5['DCOST']]  # Change 5 to df5\n",
        "print(recover[['PNAME', 'TITLE', 'DEVELOPIN', 'SCOST', 'DCOST', 'SOLD']])"
      ],
      "metadata": {
        "colab": {
          "base_uri": "https://localhost:8080/"
        },
        "id": "mnpoHEGcm_MS",
        "outputId": "0465f619-24f2-425b-9e42-0e63cb9c1f92"
      },
      "execution_count": null,
      "outputs": [
        {
          "output_type": "stream",
          "name": "stdout",
          "text": [
            "       PNAME           TITLE DEVELOPIN     SCOST  DCOST  SOLD\n",
            "0       MARY          README       CPP    300.00   1200    84\n",
            "1      ANAND      PARACHUTES     BASIC    399.95   6000    43\n",
            "2      ANAND   VIDEO TITLING    PASCAL   7500.00  16000     9\n",
            "4     KAMALA    PAYROLL PKG.     DBASE   9000.00  20000     7\n",
            "6       MARY  CODE GENERATOR         C   4500.00  20000    23\n",
            "7   PATTRICK          README       CPP    300.00   1200    84\n",
            "8      QADIR      BOMBS AWAY  ASSEMBLY    750.00   3000    11\n",
            "9      QADIR        VACCINES         C   1900.00   3100    21\n",
            "10    RAMESH     HOTEL MGMT.     DBASE  13000.00  35000     4\n",
            "11    RAMESH        DEAD LEE    PASCAL    599.95   4500    73\n",
            "12   REMITHA    PC UTILITIES         C    725.00   5000    51\n",
            "13   REMITHA   TSR HELP PKG.  ASSEMBLY   2500.00   6000     7\n",
            "15    VIJAYA      TSR EDITOR         C    900.00    700     6\n"
          ]
        }
      ]
    },
    {
      "cell_type": "code",
      "source": [
        "data = {\n",
        "    'package_name': ['MARY', 'ANAND','KAMALA'],\n",
        "    'development_cost': [1000, 150,200],\n",
        "    'recovered': [True, False,True]\n",
        "}\n",
        "\n",
        "df = pd.DataFrame(data)\n",
        "\n",
        "# Filter packages where development costs have been recovered\n",
        "recovered_packages = df[df['recovered'] == True]\n",
        "\n",
        "# Display details of packages where development costs have been recovered\n",
        "print(\"Details of packages where development costs have been recovered:\")\n",
        "print(recovered_packages)"
      ],
      "metadata": {
        "colab": {
          "base_uri": "https://localhost:8080/"
        },
        "id": "I_1RCWFSoLyA",
        "outputId": "7c5c7e08-21fd-464c-a6a1-10b6d5a08384"
      },
      "execution_count": null,
      "outputs": [
        {
          "output_type": "stream",
          "name": "stdout",
          "text": [
            "Details of packages where development costs have been recovered:\n",
            "  package_name  development_cost  recovered\n",
            "0         MARY              1000       True\n",
            "2       KAMALA               200       True\n"
          ]
        }
      ]
    },
    {
      "cell_type": "markdown",
      "source": [
        "#13. What is the cost of the costliest software development in Basic."
      ],
      "metadata": {
        "id": "OGkpNycsoLPq"
      }
    },
    {
      "cell_type": "code",
      "source": [
        "c = df5[df5['DEVELOPIN']== 'BASIC']['DCOST'].max()\n",
        "print(\"Cost of the costliest software development in Basic : \", c )\n"
      ],
      "metadata": {
        "colab": {
          "base_uri": "https://localhost:8080/"
        },
        "id": "0ycIeYRCpsWA",
        "outputId": "cbf363b9-d017-4dc4-ee03-b396828f6f8a"
      },
      "execution_count": null,
      "outputs": [
        {
          "output_type": "stream",
          "name": "stdout",
          "text": [
            "Cost of the costliest software development in Basic :  6000\n"
          ]
        }
      ]
    },
    {
      "cell_type": "markdown",
      "source": [
        "#14. How many programmers paid 5000 to 10000 for their course."
      ],
      "metadata": {
        "id": "ZDi2gY_kqvGR"
      }
    },
    {
      "cell_type": "code",
      "source": [
        "print(df6.columns)\n",
        "a = df6[(df6['SALARY'] >= 5000) & (df6['SALARY'] <= 10000)]\n",
        "a"
      ],
      "metadata": {
        "colab": {
          "base_uri": "https://localhost:8080/",
          "height": 107
        },
        "id": "4ZLU_Mc6ps3I",
        "outputId": "9bcd39d2-7a22-4d93-b9e9-477d2f1010cf"
      },
      "execution_count": null,
      "outputs": [
        {
          "output_type": "stream",
          "name": "stdout",
          "text": [
            "Index(['PNAME', 'DOB', 'DOJ', 'GENDER', 'PROF1', 'PROF2', 'SALARY'], dtype='object')\n"
          ]
        },
        {
          "output_type": "execute_result",
          "data": {
            "text/plain": [
              "Empty DataFrame\n",
              "Columns: [PNAME, DOB, DOJ, GENDER, PROF1, PROF2, SALARY]\n",
              "Index: []"
            ],
            "text/html": [
              "\n",
              "  <div id=\"df-b887e736-aa65-4751-96bf-708768efd360\" class=\"colab-df-container\">\n",
              "    <div>\n",
              "<style scoped>\n",
              "    .dataframe tbody tr th:only-of-type {\n",
              "        vertical-align: middle;\n",
              "    }\n",
              "\n",
              "    .dataframe tbody tr th {\n",
              "        vertical-align: top;\n",
              "    }\n",
              "\n",
              "    .dataframe thead th {\n",
              "        text-align: right;\n",
              "    }\n",
              "</style>\n",
              "<table border=\"1\" class=\"dataframe\">\n",
              "  <thead>\n",
              "    <tr style=\"text-align: right;\">\n",
              "      <th></th>\n",
              "      <th>PNAME</th>\n",
              "      <th>DOB</th>\n",
              "      <th>DOJ</th>\n",
              "      <th>GENDER</th>\n",
              "      <th>PROF1</th>\n",
              "      <th>PROF2</th>\n",
              "      <th>SALARY</th>\n",
              "    </tr>\n",
              "  </thead>\n",
              "  <tbody>\n",
              "  </tbody>\n",
              "</table>\n",
              "</div>\n",
              "    <div class=\"colab-df-buttons\">\n",
              "\n",
              "  <div class=\"colab-df-container\">\n",
              "    <button class=\"colab-df-convert\" onclick=\"convertToInteractive('df-b887e736-aa65-4751-96bf-708768efd360')\"\n",
              "            title=\"Convert this dataframe to an interactive table.\"\n",
              "            style=\"display:none;\">\n",
              "\n",
              "  <svg xmlns=\"http://www.w3.org/2000/svg\" height=\"24px\" viewBox=\"0 -960 960 960\">\n",
              "    <path d=\"M120-120v-720h720v720H120Zm60-500h600v-160H180v160Zm220 220h160v-160H400v160Zm0 220h160v-160H400v160ZM180-400h160v-160H180v160Zm440 0h160v-160H620v160ZM180-180h160v-160H180v160Zm440 0h160v-160H620v160Z\"/>\n",
              "  </svg>\n",
              "    </button>\n",
              "\n",
              "  <style>\n",
              "    .colab-df-container {\n",
              "      display:flex;\n",
              "      gap: 12px;\n",
              "    }\n",
              "\n",
              "    .colab-df-convert {\n",
              "      background-color: #E8F0FE;\n",
              "      border: none;\n",
              "      border-radius: 50%;\n",
              "      cursor: pointer;\n",
              "      display: none;\n",
              "      fill: #1967D2;\n",
              "      height: 32px;\n",
              "      padding: 0 0 0 0;\n",
              "      width: 32px;\n",
              "    }\n",
              "\n",
              "    .colab-df-convert:hover {\n",
              "      background-color: #E2EBFA;\n",
              "      box-shadow: 0px 1px 2px rgba(60, 64, 67, 0.3), 0px 1px 3px 1px rgba(60, 64, 67, 0.15);\n",
              "      fill: #174EA6;\n",
              "    }\n",
              "\n",
              "    .colab-df-buttons div {\n",
              "      margin-bottom: 4px;\n",
              "    }\n",
              "\n",
              "    [theme=dark] .colab-df-convert {\n",
              "      background-color: #3B4455;\n",
              "      fill: #D2E3FC;\n",
              "    }\n",
              "\n",
              "    [theme=dark] .colab-df-convert:hover {\n",
              "      background-color: #434B5C;\n",
              "      box-shadow: 0px 1px 3px 1px rgba(0, 0, 0, 0.15);\n",
              "      filter: drop-shadow(0px 1px 2px rgba(0, 0, 0, 0.3));\n",
              "      fill: #FFFFFF;\n",
              "    }\n",
              "  </style>\n",
              "\n",
              "    <script>\n",
              "      const buttonEl =\n",
              "        document.querySelector('#df-b887e736-aa65-4751-96bf-708768efd360 button.colab-df-convert');\n",
              "      buttonEl.style.display =\n",
              "        google.colab.kernel.accessAllowed ? 'block' : 'none';\n",
              "\n",
              "      async function convertToInteractive(key) {\n",
              "        const element = document.querySelector('#df-b887e736-aa65-4751-96bf-708768efd360');\n",
              "        const dataTable =\n",
              "          await google.colab.kernel.invokeFunction('convertToInteractive',\n",
              "                                                    [key], {});\n",
              "        if (!dataTable) return;\n",
              "\n",
              "        const docLinkHtml = 'Like what you see? Visit the ' +\n",
              "          '<a target=\"_blank\" href=https://colab.research.google.com/notebooks/data_table.ipynb>data table notebook</a>'\n",
              "          + ' to learn more about interactive tables.';\n",
              "        element.innerHTML = '';\n",
              "        dataTable['output_type'] = 'display_data';\n",
              "        await google.colab.output.renderOutput(dataTable, element);\n",
              "        const docLink = document.createElement('div');\n",
              "        docLink.innerHTML = docLinkHtml;\n",
              "        element.appendChild(docLink);\n",
              "      }\n",
              "    </script>\n",
              "  </div>\n",
              "\n",
              "\n",
              "  <div id=\"id_a290df0f-4609-42e3-af28-14b9eb071f48\">\n",
              "    <style>\n",
              "      .colab-df-generate {\n",
              "        background-color: #E8F0FE;\n",
              "        border: none;\n",
              "        border-radius: 50%;\n",
              "        cursor: pointer;\n",
              "        display: none;\n",
              "        fill: #1967D2;\n",
              "        height: 32px;\n",
              "        padding: 0 0 0 0;\n",
              "        width: 32px;\n",
              "      }\n",
              "\n",
              "      .colab-df-generate:hover {\n",
              "        background-color: #E2EBFA;\n",
              "        box-shadow: 0px 1px 2px rgba(60, 64, 67, 0.3), 0px 1px 3px 1px rgba(60, 64, 67, 0.15);\n",
              "        fill: #174EA6;\n",
              "      }\n",
              "\n",
              "      [theme=dark] .colab-df-generate {\n",
              "        background-color: #3B4455;\n",
              "        fill: #D2E3FC;\n",
              "      }\n",
              "\n",
              "      [theme=dark] .colab-df-generate:hover {\n",
              "        background-color: #434B5C;\n",
              "        box-shadow: 0px 1px 3px 1px rgba(0, 0, 0, 0.15);\n",
              "        filter: drop-shadow(0px 1px 2px rgba(0, 0, 0, 0.3));\n",
              "        fill: #FFFFFF;\n",
              "      }\n",
              "    </style>\n",
              "    <button class=\"colab-df-generate\" onclick=\"generateWithVariable('a')\"\n",
              "            title=\"Generate code using this dataframe.\"\n",
              "            style=\"display:none;\">\n",
              "\n",
              "  <svg xmlns=\"http://www.w3.org/2000/svg\" height=\"24px\"viewBox=\"0 0 24 24\"\n",
              "       width=\"24px\">\n",
              "    <path d=\"M7,19H8.4L18.45,9,17,7.55,7,17.6ZM5,21V16.75L18.45,3.32a2,2,0,0,1,2.83,0l1.4,1.43a1.91,1.91,0,0,1,.58,1.4,1.91,1.91,0,0,1-.58,1.4L9.25,21ZM18.45,9,17,7.55Zm-12,3A5.31,5.31,0,0,0,4.9,8.1,5.31,5.31,0,0,0,1,6.5,5.31,5.31,0,0,0,4.9,4.9,5.31,5.31,0,0,0,6.5,1,5.31,5.31,0,0,0,8.1,4.9,5.31,5.31,0,0,0,12,6.5,5.46,5.46,0,0,0,6.5,12Z\"/>\n",
              "  </svg>\n",
              "    </button>\n",
              "    <script>\n",
              "      (() => {\n",
              "      const buttonEl =\n",
              "        document.querySelector('#id_a290df0f-4609-42e3-af28-14b9eb071f48 button.colab-df-generate');\n",
              "      buttonEl.style.display =\n",
              "        google.colab.kernel.accessAllowed ? 'block' : 'none';\n",
              "\n",
              "      buttonEl.onclick = () => {\n",
              "        google.colab.notebook.generateWithVariable('a');\n",
              "      }\n",
              "      })();\n",
              "    </script>\n",
              "  </div>\n",
              "\n",
              "    </div>\n",
              "  </div>\n"
            ],
            "application/vnd.google.colaboratory.intrinsic+json": {
              "type": "dataframe",
              "variable_name": "a",
              "repr_error": "Out of range float values are not JSON compliant: nan"
            }
          },
          "metadata": {},
          "execution_count": 156
        }
      ]
    },
    {
      "cell_type": "code",
      "source": [
        "print(\"Number of programmers who paid between 5000 and 10000 for their course:\", len(a))\n"
      ],
      "metadata": {
        "colab": {
          "base_uri": "https://localhost:8080/"
        },
        "id": "oaKIF7DnqygK",
        "outputId": "9e850c13-18d9-43a0-bb52-6d6ab0ed35a9"
      },
      "execution_count": null,
      "outputs": [
        {
          "output_type": "stream",
          "name": "stdout",
          "text": [
            "Number of programmers who paid between 5000 and 10000 for their course: 0\n"
          ]
        }
      ]
    },
    {
      "cell_type": "markdown",
      "source": [
        "#15. How many programmers know either COBOL or Pascal."
      ],
      "metadata": {
        "id": "PY9dyciwqySz"
      }
    },
    {
      "cell_type": "code",
      "source": [
        "Programmer = df6[(df6['PROF1'].isin(['COBOL', 'PASCAL'])) |\n",
        "                 (df6['PROF2'].isin(['COBOL', 'PASCAL']))]\n",
        "Programmer"
      ],
      "metadata": {
        "colab": {
          "base_uri": "https://localhost:8080/",
          "height": 300
        },
        "id": "HzV2BOnZrNkx",
        "outputId": "e543bee5-74fd-45f7-8704-d498cb18d4d5"
      },
      "execution_count": null,
      "outputs": [
        {
          "output_type": "execute_result",
          "data": {
            "text/plain": [
              "       PNAME        DOB        DOJ GENDER    PROF1    PROF2  SALARY\n",
              "0      ANAND  12-Apr-66  21-Apr-92      M   PASCAL    BASIC    3200\n",
              "1      ALTAF  02-Jul-64  13-Nov-90      M  CLIPPER    COBOL    2800\n",
              "2    JULIANA  31-Jan-60  21-Apr-90      F    COBOL    DBASE    3000\n",
              "5     NELSON  11-Sep-85  11-Oct-89      M    COBOL    DBASE    2500\n",
              "6   PATTRICK  10-Nov-65  21-Apr-90      M   PASCAL  CLIPPER    2800\n",
              "8     RAMESH  03-May-67  28-Feb-91      M   PASCAL    DBASE    3200\n",
              "9    REBECCA  01-Jan-67  01-Dec-90      F    BASIC    COBOL    2500\n",
              "11   REVATHI  02-Dec-69  02-Jan-92      F   PASCAL    BASIC    3700"
            ],
            "text/html": [
              "\n",
              "  <div id=\"df-efc0a840-962c-4dd6-823a-6cb5295d87e8\" class=\"colab-df-container\">\n",
              "    <div>\n",
              "<style scoped>\n",
              "    .dataframe tbody tr th:only-of-type {\n",
              "        vertical-align: middle;\n",
              "    }\n",
              "\n",
              "    .dataframe tbody tr th {\n",
              "        vertical-align: top;\n",
              "    }\n",
              "\n",
              "    .dataframe thead th {\n",
              "        text-align: right;\n",
              "    }\n",
              "</style>\n",
              "<table border=\"1\" class=\"dataframe\">\n",
              "  <thead>\n",
              "    <tr style=\"text-align: right;\">\n",
              "      <th></th>\n",
              "      <th>PNAME</th>\n",
              "      <th>DOB</th>\n",
              "      <th>DOJ</th>\n",
              "      <th>GENDER</th>\n",
              "      <th>PROF1</th>\n",
              "      <th>PROF2</th>\n",
              "      <th>SALARY</th>\n",
              "    </tr>\n",
              "  </thead>\n",
              "  <tbody>\n",
              "    <tr>\n",
              "      <th>0</th>\n",
              "      <td>ANAND</td>\n",
              "      <td>12-Apr-66</td>\n",
              "      <td>21-Apr-92</td>\n",
              "      <td>M</td>\n",
              "      <td>PASCAL</td>\n",
              "      <td>BASIC</td>\n",
              "      <td>3200</td>\n",
              "    </tr>\n",
              "    <tr>\n",
              "      <th>1</th>\n",
              "      <td>ALTAF</td>\n",
              "      <td>02-Jul-64</td>\n",
              "      <td>13-Nov-90</td>\n",
              "      <td>M</td>\n",
              "      <td>CLIPPER</td>\n",
              "      <td>COBOL</td>\n",
              "      <td>2800</td>\n",
              "    </tr>\n",
              "    <tr>\n",
              "      <th>2</th>\n",
              "      <td>JULIANA</td>\n",
              "      <td>31-Jan-60</td>\n",
              "      <td>21-Apr-90</td>\n",
              "      <td>F</td>\n",
              "      <td>COBOL</td>\n",
              "      <td>DBASE</td>\n",
              "      <td>3000</td>\n",
              "    </tr>\n",
              "    <tr>\n",
              "      <th>5</th>\n",
              "      <td>NELSON</td>\n",
              "      <td>11-Sep-85</td>\n",
              "      <td>11-Oct-89</td>\n",
              "      <td>M</td>\n",
              "      <td>COBOL</td>\n",
              "      <td>DBASE</td>\n",
              "      <td>2500</td>\n",
              "    </tr>\n",
              "    <tr>\n",
              "      <th>6</th>\n",
              "      <td>PATTRICK</td>\n",
              "      <td>10-Nov-65</td>\n",
              "      <td>21-Apr-90</td>\n",
              "      <td>M</td>\n",
              "      <td>PASCAL</td>\n",
              "      <td>CLIPPER</td>\n",
              "      <td>2800</td>\n",
              "    </tr>\n",
              "    <tr>\n",
              "      <th>8</th>\n",
              "      <td>RAMESH</td>\n",
              "      <td>03-May-67</td>\n",
              "      <td>28-Feb-91</td>\n",
              "      <td>M</td>\n",
              "      <td>PASCAL</td>\n",
              "      <td>DBASE</td>\n",
              "      <td>3200</td>\n",
              "    </tr>\n",
              "    <tr>\n",
              "      <th>9</th>\n",
              "      <td>REBECCA</td>\n",
              "      <td>01-Jan-67</td>\n",
              "      <td>01-Dec-90</td>\n",
              "      <td>F</td>\n",
              "      <td>BASIC</td>\n",
              "      <td>COBOL</td>\n",
              "      <td>2500</td>\n",
              "    </tr>\n",
              "    <tr>\n",
              "      <th>11</th>\n",
              "      <td>REVATHI</td>\n",
              "      <td>02-Dec-69</td>\n",
              "      <td>02-Jan-92</td>\n",
              "      <td>F</td>\n",
              "      <td>PASCAL</td>\n",
              "      <td>BASIC</td>\n",
              "      <td>3700</td>\n",
              "    </tr>\n",
              "  </tbody>\n",
              "</table>\n",
              "</div>\n",
              "    <div class=\"colab-df-buttons\">\n",
              "\n",
              "  <div class=\"colab-df-container\">\n",
              "    <button class=\"colab-df-convert\" onclick=\"convertToInteractive('df-efc0a840-962c-4dd6-823a-6cb5295d87e8')\"\n",
              "            title=\"Convert this dataframe to an interactive table.\"\n",
              "            style=\"display:none;\">\n",
              "\n",
              "  <svg xmlns=\"http://www.w3.org/2000/svg\" height=\"24px\" viewBox=\"0 -960 960 960\">\n",
              "    <path d=\"M120-120v-720h720v720H120Zm60-500h600v-160H180v160Zm220 220h160v-160H400v160Zm0 220h160v-160H400v160ZM180-400h160v-160H180v160Zm440 0h160v-160H620v160ZM180-180h160v-160H180v160Zm440 0h160v-160H620v160Z\"/>\n",
              "  </svg>\n",
              "    </button>\n",
              "\n",
              "  <style>\n",
              "    .colab-df-container {\n",
              "      display:flex;\n",
              "      gap: 12px;\n",
              "    }\n",
              "\n",
              "    .colab-df-convert {\n",
              "      background-color: #E8F0FE;\n",
              "      border: none;\n",
              "      border-radius: 50%;\n",
              "      cursor: pointer;\n",
              "      display: none;\n",
              "      fill: #1967D2;\n",
              "      height: 32px;\n",
              "      padding: 0 0 0 0;\n",
              "      width: 32px;\n",
              "    }\n",
              "\n",
              "    .colab-df-convert:hover {\n",
              "      background-color: #E2EBFA;\n",
              "      box-shadow: 0px 1px 2px rgba(60, 64, 67, 0.3), 0px 1px 3px 1px rgba(60, 64, 67, 0.15);\n",
              "      fill: #174EA6;\n",
              "    }\n",
              "\n",
              "    .colab-df-buttons div {\n",
              "      margin-bottom: 4px;\n",
              "    }\n",
              "\n",
              "    [theme=dark] .colab-df-convert {\n",
              "      background-color: #3B4455;\n",
              "      fill: #D2E3FC;\n",
              "    }\n",
              "\n",
              "    [theme=dark] .colab-df-convert:hover {\n",
              "      background-color: #434B5C;\n",
              "      box-shadow: 0px 1px 3px 1px rgba(0, 0, 0, 0.15);\n",
              "      filter: drop-shadow(0px 1px 2px rgba(0, 0, 0, 0.3));\n",
              "      fill: #FFFFFF;\n",
              "    }\n",
              "  </style>\n",
              "\n",
              "    <script>\n",
              "      const buttonEl =\n",
              "        document.querySelector('#df-efc0a840-962c-4dd6-823a-6cb5295d87e8 button.colab-df-convert');\n",
              "      buttonEl.style.display =\n",
              "        google.colab.kernel.accessAllowed ? 'block' : 'none';\n",
              "\n",
              "      async function convertToInteractive(key) {\n",
              "        const element = document.querySelector('#df-efc0a840-962c-4dd6-823a-6cb5295d87e8');\n",
              "        const dataTable =\n",
              "          await google.colab.kernel.invokeFunction('convertToInteractive',\n",
              "                                                    [key], {});\n",
              "        if (!dataTable) return;\n",
              "\n",
              "        const docLinkHtml = 'Like what you see? Visit the ' +\n",
              "          '<a target=\"_blank\" href=https://colab.research.google.com/notebooks/data_table.ipynb>data table notebook</a>'\n",
              "          + ' to learn more about interactive tables.';\n",
              "        element.innerHTML = '';\n",
              "        dataTable['output_type'] = 'display_data';\n",
              "        await google.colab.output.renderOutput(dataTable, element);\n",
              "        const docLink = document.createElement('div');\n",
              "        docLink.innerHTML = docLinkHtml;\n",
              "        element.appendChild(docLink);\n",
              "      }\n",
              "    </script>\n",
              "  </div>\n",
              "\n",
              "\n",
              "<div id=\"df-bb603f33-1666-4b7e-a93e-cc1d92f9d07c\">\n",
              "  <button class=\"colab-df-quickchart\" onclick=\"quickchart('df-bb603f33-1666-4b7e-a93e-cc1d92f9d07c')\"\n",
              "            title=\"Suggest charts\"\n",
              "            style=\"display:none;\">\n",
              "\n",
              "<svg xmlns=\"http://www.w3.org/2000/svg\" height=\"24px\"viewBox=\"0 0 24 24\"\n",
              "     width=\"24px\">\n",
              "    <g>\n",
              "        <path d=\"M19 3H5c-1.1 0-2 .9-2 2v14c0 1.1.9 2 2 2h14c1.1 0 2-.9 2-2V5c0-1.1-.9-2-2-2zM9 17H7v-7h2v7zm4 0h-2V7h2v10zm4 0h-2v-4h2v4z\"/>\n",
              "    </g>\n",
              "</svg>\n",
              "  </button>\n",
              "\n",
              "<style>\n",
              "  .colab-df-quickchart {\n",
              "      --bg-color: #E8F0FE;\n",
              "      --fill-color: #1967D2;\n",
              "      --hover-bg-color: #E2EBFA;\n",
              "      --hover-fill-color: #174EA6;\n",
              "      --disabled-fill-color: #AAA;\n",
              "      --disabled-bg-color: #DDD;\n",
              "  }\n",
              "\n",
              "  [theme=dark] .colab-df-quickchart {\n",
              "      --bg-color: #3B4455;\n",
              "      --fill-color: #D2E3FC;\n",
              "      --hover-bg-color: #434B5C;\n",
              "      --hover-fill-color: #FFFFFF;\n",
              "      --disabled-bg-color: #3B4455;\n",
              "      --disabled-fill-color: #666;\n",
              "  }\n",
              "\n",
              "  .colab-df-quickchart {\n",
              "    background-color: var(--bg-color);\n",
              "    border: none;\n",
              "    border-radius: 50%;\n",
              "    cursor: pointer;\n",
              "    display: none;\n",
              "    fill: var(--fill-color);\n",
              "    height: 32px;\n",
              "    padding: 0;\n",
              "    width: 32px;\n",
              "  }\n",
              "\n",
              "  .colab-df-quickchart:hover {\n",
              "    background-color: var(--hover-bg-color);\n",
              "    box-shadow: 0 1px 2px rgba(60, 64, 67, 0.3), 0 1px 3px 1px rgba(60, 64, 67, 0.15);\n",
              "    fill: var(--button-hover-fill-color);\n",
              "  }\n",
              "\n",
              "  .colab-df-quickchart-complete:disabled,\n",
              "  .colab-df-quickchart-complete:disabled:hover {\n",
              "    background-color: var(--disabled-bg-color);\n",
              "    fill: var(--disabled-fill-color);\n",
              "    box-shadow: none;\n",
              "  }\n",
              "\n",
              "  .colab-df-spinner {\n",
              "    border: 2px solid var(--fill-color);\n",
              "    border-color: transparent;\n",
              "    border-bottom-color: var(--fill-color);\n",
              "    animation:\n",
              "      spin 1s steps(1) infinite;\n",
              "  }\n",
              "\n",
              "  @keyframes spin {\n",
              "    0% {\n",
              "      border-color: transparent;\n",
              "      border-bottom-color: var(--fill-color);\n",
              "      border-left-color: var(--fill-color);\n",
              "    }\n",
              "    20% {\n",
              "      border-color: transparent;\n",
              "      border-left-color: var(--fill-color);\n",
              "      border-top-color: var(--fill-color);\n",
              "    }\n",
              "    30% {\n",
              "      border-color: transparent;\n",
              "      border-left-color: var(--fill-color);\n",
              "      border-top-color: var(--fill-color);\n",
              "      border-right-color: var(--fill-color);\n",
              "    }\n",
              "    40% {\n",
              "      border-color: transparent;\n",
              "      border-right-color: var(--fill-color);\n",
              "      border-top-color: var(--fill-color);\n",
              "    }\n",
              "    60% {\n",
              "      border-color: transparent;\n",
              "      border-right-color: var(--fill-color);\n",
              "    }\n",
              "    80% {\n",
              "      border-color: transparent;\n",
              "      border-right-color: var(--fill-color);\n",
              "      border-bottom-color: var(--fill-color);\n",
              "    }\n",
              "    90% {\n",
              "      border-color: transparent;\n",
              "      border-bottom-color: var(--fill-color);\n",
              "    }\n",
              "  }\n",
              "</style>\n",
              "\n",
              "  <script>\n",
              "    async function quickchart(key) {\n",
              "      const quickchartButtonEl =\n",
              "        document.querySelector('#' + key + ' button');\n",
              "      quickchartButtonEl.disabled = true;  // To prevent multiple clicks.\n",
              "      quickchartButtonEl.classList.add('colab-df-spinner');\n",
              "      try {\n",
              "        const charts = await google.colab.kernel.invokeFunction(\n",
              "            'suggestCharts', [key], {});\n",
              "      } catch (error) {\n",
              "        console.error('Error during call to suggestCharts:', error);\n",
              "      }\n",
              "      quickchartButtonEl.classList.remove('colab-df-spinner');\n",
              "      quickchartButtonEl.classList.add('colab-df-quickchart-complete');\n",
              "    }\n",
              "    (() => {\n",
              "      let quickchartButtonEl =\n",
              "        document.querySelector('#df-bb603f33-1666-4b7e-a93e-cc1d92f9d07c button');\n",
              "      quickchartButtonEl.style.display =\n",
              "        google.colab.kernel.accessAllowed ? 'block' : 'none';\n",
              "    })();\n",
              "  </script>\n",
              "</div>\n",
              "\n",
              "  <div id=\"id_4c2b4764-8c94-4a69-8244-08b776cc7217\">\n",
              "    <style>\n",
              "      .colab-df-generate {\n",
              "        background-color: #E8F0FE;\n",
              "        border: none;\n",
              "        border-radius: 50%;\n",
              "        cursor: pointer;\n",
              "        display: none;\n",
              "        fill: #1967D2;\n",
              "        height: 32px;\n",
              "        padding: 0 0 0 0;\n",
              "        width: 32px;\n",
              "      }\n",
              "\n",
              "      .colab-df-generate:hover {\n",
              "        background-color: #E2EBFA;\n",
              "        box-shadow: 0px 1px 2px rgba(60, 64, 67, 0.3), 0px 1px 3px 1px rgba(60, 64, 67, 0.15);\n",
              "        fill: #174EA6;\n",
              "      }\n",
              "\n",
              "      [theme=dark] .colab-df-generate {\n",
              "        background-color: #3B4455;\n",
              "        fill: #D2E3FC;\n",
              "      }\n",
              "\n",
              "      [theme=dark] .colab-df-generate:hover {\n",
              "        background-color: #434B5C;\n",
              "        box-shadow: 0px 1px 3px 1px rgba(0, 0, 0, 0.15);\n",
              "        filter: drop-shadow(0px 1px 2px rgba(0, 0, 0, 0.3));\n",
              "        fill: #FFFFFF;\n",
              "      }\n",
              "    </style>\n",
              "    <button class=\"colab-df-generate\" onclick=\"generateWithVariable('Programmer')\"\n",
              "            title=\"Generate code using this dataframe.\"\n",
              "            style=\"display:none;\">\n",
              "\n",
              "  <svg xmlns=\"http://www.w3.org/2000/svg\" height=\"24px\"viewBox=\"0 0 24 24\"\n",
              "       width=\"24px\">\n",
              "    <path d=\"M7,19H8.4L18.45,9,17,7.55,7,17.6ZM5,21V16.75L18.45,3.32a2,2,0,0,1,2.83,0l1.4,1.43a1.91,1.91,0,0,1,.58,1.4,1.91,1.91,0,0,1-.58,1.4L9.25,21ZM18.45,9,17,7.55Zm-12,3A5.31,5.31,0,0,0,4.9,8.1,5.31,5.31,0,0,0,1,6.5,5.31,5.31,0,0,0,4.9,4.9,5.31,5.31,0,0,0,6.5,1,5.31,5.31,0,0,0,8.1,4.9,5.31,5.31,0,0,0,12,6.5,5.46,5.46,0,0,0,6.5,12Z\"/>\n",
              "  </svg>\n",
              "    </button>\n",
              "    <script>\n",
              "      (() => {\n",
              "      const buttonEl =\n",
              "        document.querySelector('#id_4c2b4764-8c94-4a69-8244-08b776cc7217 button.colab-df-generate');\n",
              "      buttonEl.style.display =\n",
              "        google.colab.kernel.accessAllowed ? 'block' : 'none';\n",
              "\n",
              "      buttonEl.onclick = () => {\n",
              "        google.colab.notebook.generateWithVariable('Programmer');\n",
              "      }\n",
              "      })();\n",
              "    </script>\n",
              "  </div>\n",
              "\n",
              "    </div>\n",
              "  </div>\n"
            ],
            "application/vnd.google.colaboratory.intrinsic+json": {
              "type": "dataframe",
              "variable_name": "Programmer",
              "summary": "{\n  \"name\": \"Programmer\",\n  \"rows\": 8,\n  \"fields\": [\n    {\n      \"column\": \"PNAME\",\n      \"properties\": {\n        \"dtype\": \"string\",\n        \"num_unique_values\": 8,\n        \"samples\": [\n          \"ALTAF\",\n          \"RAMESH\",\n          \"ANAND\"\n        ],\n        \"semantic_type\": \"\",\n        \"description\": \"\"\n      }\n    },\n    {\n      \"column\": \"DOB\",\n      \"properties\": {\n        \"dtype\": \"object\",\n        \"num_unique_values\": 8,\n        \"samples\": [\n          \"02-Jul-64\",\n          \"03-May-67\",\n          \"12-Apr-66\"\n        ],\n        \"semantic_type\": \"\",\n        \"description\": \"\"\n      }\n    },\n    {\n      \"column\": \"DOJ\",\n      \"properties\": {\n        \"dtype\": \"object\",\n        \"num_unique_values\": 7,\n        \"samples\": [\n          \"21-Apr-92\",\n          \"13-Nov-90\",\n          \"01-Dec-90\"\n        ],\n        \"semantic_type\": \"\",\n        \"description\": \"\"\n      }\n    },\n    {\n      \"column\": \"GENDER\",\n      \"properties\": {\n        \"dtype\": \"category\",\n        \"num_unique_values\": 2,\n        \"samples\": [\n          \"F\",\n          \"M\"\n        ],\n        \"semantic_type\": \"\",\n        \"description\": \"\"\n      }\n    },\n    {\n      \"column\": \"PROF1\",\n      \"properties\": {\n        \"dtype\": \"string\",\n        \"num_unique_values\": 4,\n        \"samples\": [\n          \"CLIPPER\",\n          \"BASIC\"\n        ],\n        \"semantic_type\": \"\",\n        \"description\": \"\"\n      }\n    },\n    {\n      \"column\": \"PROF2\",\n      \"properties\": {\n        \"dtype\": \"string\",\n        \"num_unique_values\": 4,\n        \"samples\": [\n          \"COBOL\",\n          \"CLIPPER\"\n        ],\n        \"semantic_type\": \"\",\n        \"description\": \"\"\n      }\n    },\n    {\n      \"column\": \"SALARY\",\n      \"properties\": {\n        \"dtype\": \"number\",\n        \"std\": 403,\n        \"min\": 2500,\n        \"max\": 3700,\n        \"num_unique_values\": 5,\n        \"samples\": [\n          2800,\n          3700\n        ],\n        \"semantic_type\": \"\",\n        \"description\": \"\"\n      }\n    }\n  ]\n}"
            }
          },
          "metadata": {},
          "execution_count": 157
        }
      ]
    },
    {
      "cell_type": "code",
      "source": [
        "print(\"Number of programmers who know either COBOL or Pascal:\", len(Programmer))"
      ],
      "metadata": {
        "colab": {
          "base_uri": "https://localhost:8080/"
        },
        "id": "OkGHZmElsjqw",
        "outputId": "ba7336a6-b0e1-4919-f06f-62f373ac56b4"
      },
      "execution_count": null,
      "outputs": [
        {
          "output_type": "stream",
          "name": "stdout",
          "text": [
            "Number of programmers who know either COBOL or Pascal: 8\n"
          ]
        }
      ]
    },
    {
      "cell_type": "code",
      "source": [],
      "metadata": {
        "id": "8jiUqr1qyaaL"
      },
      "execution_count": null,
      "outputs": []
    },
    {
      "cell_type": "code",
      "source": [],
      "metadata": {
        "id": "-PFXsN6OybE6"
      },
      "execution_count": null,
      "outputs": []
    },
    {
      "cell_type": "markdown",
      "source": [
        "#NAME: MOUNIKA DEEPTHI NAKKA\n",
        "#ROLL NO: 21KT1A4244\n",
        "#COLLEGE: Potti Sriramulu Chalavadi Mallikarjunarao College of Engineering & Technology"
      ],
      "metadata": {
        "id": "oO96ng2zzZN6"
      }
    },
    {
      "cell_type": "markdown",
      "source": [
        "#TASK 3\n",
        "1)Plot the count of males and females in the dataset."
      ],
      "metadata": {
        "id": "palZwrt_yk7v"
      }
    },
    {
      "cell_type": "code",
      "source": [
        "import pandas as pd\n",
        "data1 = pd.read_csv('/content/Diwali Sales Data.csv', encoding = 'unicode_escape')#UnicodeDecodeError so keep encoding\n",
        "data2 = pd.read_csv('weatherHistory.csv')"
      ],
      "metadata": {
        "id": "i3U9ecX-ysrI"
      },
      "execution_count": null,
      "outputs": []
    },
    {
      "cell_type": "code",
      "source": [
        "data1.head()"
      ],
      "metadata": {
        "colab": {
          "base_uri": "https://localhost:8080/",
          "height": 206
        },
        "id": "HZMuMixzz_1V",
        "outputId": "6196965e-caf2-46bf-c4a9-25ea4c152760"
      },
      "execution_count": null,
      "outputs": [
        {
          "output_type": "execute_result",
          "data": {
            "text/plain": [
              "   User_ID  Cust_name Product_ID Gender Age Group  Age  Marital_Status  \\\n",
              "0  1002903  Sanskriti  P00125942      F     26-35   28               0   \n",
              "1  1000732     Kartik  P00110942      F     26-35   35               1   \n",
              "2  1001990      Bindu  P00118542      F     26-35   35               1   \n",
              "3  1001425     Sudevi  P00237842      M      0-17   16               0   \n",
              "4  1000588       Joni  P00057942      M     26-35   28               1   \n",
              "\n",
              "            State      Zone       Occupation Product_Category  Orders  \\\n",
              "0     Maharashtra   Western       Healthcare             Auto       1   \n",
              "1  Andhra Pradesh  Southern             Govt             Auto       3   \n",
              "2   Uttar Pradesh   Central       Automobile             Auto       3   \n",
              "3       Karnataka  Southern     Construction             Auto       2   \n",
              "4         Gujarat   Western  Food Processing             Auto       2   \n",
              "\n",
              "    Amount  Status  unnamed1  \n",
              "0  23952.0     NaN       NaN  \n",
              "1  23934.0     NaN       NaN  \n",
              "2  23924.0     NaN       NaN  \n",
              "3  23912.0     NaN       NaN  \n",
              "4  23877.0     NaN       NaN  "
            ],
            "text/html": [
              "\n",
              "  <div id=\"df-6930efda-bfd0-4074-93aa-507e5c5c57ab\" class=\"colab-df-container\">\n",
              "    <div>\n",
              "<style scoped>\n",
              "    .dataframe tbody tr th:only-of-type {\n",
              "        vertical-align: middle;\n",
              "    }\n",
              "\n",
              "    .dataframe tbody tr th {\n",
              "        vertical-align: top;\n",
              "    }\n",
              "\n",
              "    .dataframe thead th {\n",
              "        text-align: right;\n",
              "    }\n",
              "</style>\n",
              "<table border=\"1\" class=\"dataframe\">\n",
              "  <thead>\n",
              "    <tr style=\"text-align: right;\">\n",
              "      <th></th>\n",
              "      <th>User_ID</th>\n",
              "      <th>Cust_name</th>\n",
              "      <th>Product_ID</th>\n",
              "      <th>Gender</th>\n",
              "      <th>Age Group</th>\n",
              "      <th>Age</th>\n",
              "      <th>Marital_Status</th>\n",
              "      <th>State</th>\n",
              "      <th>Zone</th>\n",
              "      <th>Occupation</th>\n",
              "      <th>Product_Category</th>\n",
              "      <th>Orders</th>\n",
              "      <th>Amount</th>\n",
              "      <th>Status</th>\n",
              "      <th>unnamed1</th>\n",
              "    </tr>\n",
              "  </thead>\n",
              "  <tbody>\n",
              "    <tr>\n",
              "      <th>0</th>\n",
              "      <td>1002903</td>\n",
              "      <td>Sanskriti</td>\n",
              "      <td>P00125942</td>\n",
              "      <td>F</td>\n",
              "      <td>26-35</td>\n",
              "      <td>28</td>\n",
              "      <td>0</td>\n",
              "      <td>Maharashtra</td>\n",
              "      <td>Western</td>\n",
              "      <td>Healthcare</td>\n",
              "      <td>Auto</td>\n",
              "      <td>1</td>\n",
              "      <td>23952.0</td>\n",
              "      <td>NaN</td>\n",
              "      <td>NaN</td>\n",
              "    </tr>\n",
              "    <tr>\n",
              "      <th>1</th>\n",
              "      <td>1000732</td>\n",
              "      <td>Kartik</td>\n",
              "      <td>P00110942</td>\n",
              "      <td>F</td>\n",
              "      <td>26-35</td>\n",
              "      <td>35</td>\n",
              "      <td>1</td>\n",
              "      <td>Andhra Pradesh</td>\n",
              "      <td>Southern</td>\n",
              "      <td>Govt</td>\n",
              "      <td>Auto</td>\n",
              "      <td>3</td>\n",
              "      <td>23934.0</td>\n",
              "      <td>NaN</td>\n",
              "      <td>NaN</td>\n",
              "    </tr>\n",
              "    <tr>\n",
              "      <th>2</th>\n",
              "      <td>1001990</td>\n",
              "      <td>Bindu</td>\n",
              "      <td>P00118542</td>\n",
              "      <td>F</td>\n",
              "      <td>26-35</td>\n",
              "      <td>35</td>\n",
              "      <td>1</td>\n",
              "      <td>Uttar Pradesh</td>\n",
              "      <td>Central</td>\n",
              "      <td>Automobile</td>\n",
              "      <td>Auto</td>\n",
              "      <td>3</td>\n",
              "      <td>23924.0</td>\n",
              "      <td>NaN</td>\n",
              "      <td>NaN</td>\n",
              "    </tr>\n",
              "    <tr>\n",
              "      <th>3</th>\n",
              "      <td>1001425</td>\n",
              "      <td>Sudevi</td>\n",
              "      <td>P00237842</td>\n",
              "      <td>M</td>\n",
              "      <td>0-17</td>\n",
              "      <td>16</td>\n",
              "      <td>0</td>\n",
              "      <td>Karnataka</td>\n",
              "      <td>Southern</td>\n",
              "      <td>Construction</td>\n",
              "      <td>Auto</td>\n",
              "      <td>2</td>\n",
              "      <td>23912.0</td>\n",
              "      <td>NaN</td>\n",
              "      <td>NaN</td>\n",
              "    </tr>\n",
              "    <tr>\n",
              "      <th>4</th>\n",
              "      <td>1000588</td>\n",
              "      <td>Joni</td>\n",
              "      <td>P00057942</td>\n",
              "      <td>M</td>\n",
              "      <td>26-35</td>\n",
              "      <td>28</td>\n",
              "      <td>1</td>\n",
              "      <td>Gujarat</td>\n",
              "      <td>Western</td>\n",
              "      <td>Food Processing</td>\n",
              "      <td>Auto</td>\n",
              "      <td>2</td>\n",
              "      <td>23877.0</td>\n",
              "      <td>NaN</td>\n",
              "      <td>NaN</td>\n",
              "    </tr>\n",
              "  </tbody>\n",
              "</table>\n",
              "</div>\n",
              "    <div class=\"colab-df-buttons\">\n",
              "\n",
              "  <div class=\"colab-df-container\">\n",
              "    <button class=\"colab-df-convert\" onclick=\"convertToInteractive('df-6930efda-bfd0-4074-93aa-507e5c5c57ab')\"\n",
              "            title=\"Convert this dataframe to an interactive table.\"\n",
              "            style=\"display:none;\">\n",
              "\n",
              "  <svg xmlns=\"http://www.w3.org/2000/svg\" height=\"24px\" viewBox=\"0 -960 960 960\">\n",
              "    <path d=\"M120-120v-720h720v720H120Zm60-500h600v-160H180v160Zm220 220h160v-160H400v160Zm0 220h160v-160H400v160ZM180-400h160v-160H180v160Zm440 0h160v-160H620v160ZM180-180h160v-160H180v160Zm440 0h160v-160H620v160Z\"/>\n",
              "  </svg>\n",
              "    </button>\n",
              "\n",
              "  <style>\n",
              "    .colab-df-container {\n",
              "      display:flex;\n",
              "      gap: 12px;\n",
              "    }\n",
              "\n",
              "    .colab-df-convert {\n",
              "      background-color: #E8F0FE;\n",
              "      border: none;\n",
              "      border-radius: 50%;\n",
              "      cursor: pointer;\n",
              "      display: none;\n",
              "      fill: #1967D2;\n",
              "      height: 32px;\n",
              "      padding: 0 0 0 0;\n",
              "      width: 32px;\n",
              "    }\n",
              "\n",
              "    .colab-df-convert:hover {\n",
              "      background-color: #E2EBFA;\n",
              "      box-shadow: 0px 1px 2px rgba(60, 64, 67, 0.3), 0px 1px 3px 1px rgba(60, 64, 67, 0.15);\n",
              "      fill: #174EA6;\n",
              "    }\n",
              "\n",
              "    .colab-df-buttons div {\n",
              "      margin-bottom: 4px;\n",
              "    }\n",
              "\n",
              "    [theme=dark] .colab-df-convert {\n",
              "      background-color: #3B4455;\n",
              "      fill: #D2E3FC;\n",
              "    }\n",
              "\n",
              "    [theme=dark] .colab-df-convert:hover {\n",
              "      background-color: #434B5C;\n",
              "      box-shadow: 0px 1px 3px 1px rgba(0, 0, 0, 0.15);\n",
              "      filter: drop-shadow(0px 1px 2px rgba(0, 0, 0, 0.3));\n",
              "      fill: #FFFFFF;\n",
              "    }\n",
              "  </style>\n",
              "\n",
              "    <script>\n",
              "      const buttonEl =\n",
              "        document.querySelector('#df-6930efda-bfd0-4074-93aa-507e5c5c57ab button.colab-df-convert');\n",
              "      buttonEl.style.display =\n",
              "        google.colab.kernel.accessAllowed ? 'block' : 'none';\n",
              "\n",
              "      async function convertToInteractive(key) {\n",
              "        const element = document.querySelector('#df-6930efda-bfd0-4074-93aa-507e5c5c57ab');\n",
              "        const dataTable =\n",
              "          await google.colab.kernel.invokeFunction('convertToInteractive',\n",
              "                                                    [key], {});\n",
              "        if (!dataTable) return;\n",
              "\n",
              "        const docLinkHtml = 'Like what you see? Visit the ' +\n",
              "          '<a target=\"_blank\" href=https://colab.research.google.com/notebooks/data_table.ipynb>data table notebook</a>'\n",
              "          + ' to learn more about interactive tables.';\n",
              "        element.innerHTML = '';\n",
              "        dataTable['output_type'] = 'display_data';\n",
              "        await google.colab.output.renderOutput(dataTable, element);\n",
              "        const docLink = document.createElement('div');\n",
              "        docLink.innerHTML = docLinkHtml;\n",
              "        element.appendChild(docLink);\n",
              "      }\n",
              "    </script>\n",
              "  </div>\n",
              "\n",
              "\n",
              "<div id=\"df-7b25c3b0-8665-49d1-b1dc-0c6d09de80b3\">\n",
              "  <button class=\"colab-df-quickchart\" onclick=\"quickchart('df-7b25c3b0-8665-49d1-b1dc-0c6d09de80b3')\"\n",
              "            title=\"Suggest charts\"\n",
              "            style=\"display:none;\">\n",
              "\n",
              "<svg xmlns=\"http://www.w3.org/2000/svg\" height=\"24px\"viewBox=\"0 0 24 24\"\n",
              "     width=\"24px\">\n",
              "    <g>\n",
              "        <path d=\"M19 3H5c-1.1 0-2 .9-2 2v14c0 1.1.9 2 2 2h14c1.1 0 2-.9 2-2V5c0-1.1-.9-2-2-2zM9 17H7v-7h2v7zm4 0h-2V7h2v10zm4 0h-2v-4h2v4z\"/>\n",
              "    </g>\n",
              "</svg>\n",
              "  </button>\n",
              "\n",
              "<style>\n",
              "  .colab-df-quickchart {\n",
              "      --bg-color: #E8F0FE;\n",
              "      --fill-color: #1967D2;\n",
              "      --hover-bg-color: #E2EBFA;\n",
              "      --hover-fill-color: #174EA6;\n",
              "      --disabled-fill-color: #AAA;\n",
              "      --disabled-bg-color: #DDD;\n",
              "  }\n",
              "\n",
              "  [theme=dark] .colab-df-quickchart {\n",
              "      --bg-color: #3B4455;\n",
              "      --fill-color: #D2E3FC;\n",
              "      --hover-bg-color: #434B5C;\n",
              "      --hover-fill-color: #FFFFFF;\n",
              "      --disabled-bg-color: #3B4455;\n",
              "      --disabled-fill-color: #666;\n",
              "  }\n",
              "\n",
              "  .colab-df-quickchart {\n",
              "    background-color: var(--bg-color);\n",
              "    border: none;\n",
              "    border-radius: 50%;\n",
              "    cursor: pointer;\n",
              "    display: none;\n",
              "    fill: var(--fill-color);\n",
              "    height: 32px;\n",
              "    padding: 0;\n",
              "    width: 32px;\n",
              "  }\n",
              "\n",
              "  .colab-df-quickchart:hover {\n",
              "    background-color: var(--hover-bg-color);\n",
              "    box-shadow: 0 1px 2px rgba(60, 64, 67, 0.3), 0 1px 3px 1px rgba(60, 64, 67, 0.15);\n",
              "    fill: var(--button-hover-fill-color);\n",
              "  }\n",
              "\n",
              "  .colab-df-quickchart-complete:disabled,\n",
              "  .colab-df-quickchart-complete:disabled:hover {\n",
              "    background-color: var(--disabled-bg-color);\n",
              "    fill: var(--disabled-fill-color);\n",
              "    box-shadow: none;\n",
              "  }\n",
              "\n",
              "  .colab-df-spinner {\n",
              "    border: 2px solid var(--fill-color);\n",
              "    border-color: transparent;\n",
              "    border-bottom-color: var(--fill-color);\n",
              "    animation:\n",
              "      spin 1s steps(1) infinite;\n",
              "  }\n",
              "\n",
              "  @keyframes spin {\n",
              "    0% {\n",
              "      border-color: transparent;\n",
              "      border-bottom-color: var(--fill-color);\n",
              "      border-left-color: var(--fill-color);\n",
              "    }\n",
              "    20% {\n",
              "      border-color: transparent;\n",
              "      border-left-color: var(--fill-color);\n",
              "      border-top-color: var(--fill-color);\n",
              "    }\n",
              "    30% {\n",
              "      border-color: transparent;\n",
              "      border-left-color: var(--fill-color);\n",
              "      border-top-color: var(--fill-color);\n",
              "      border-right-color: var(--fill-color);\n",
              "    }\n",
              "    40% {\n",
              "      border-color: transparent;\n",
              "      border-right-color: var(--fill-color);\n",
              "      border-top-color: var(--fill-color);\n",
              "    }\n",
              "    60% {\n",
              "      border-color: transparent;\n",
              "      border-right-color: var(--fill-color);\n",
              "    }\n",
              "    80% {\n",
              "      border-color: transparent;\n",
              "      border-right-color: var(--fill-color);\n",
              "      border-bottom-color: var(--fill-color);\n",
              "    }\n",
              "    90% {\n",
              "      border-color: transparent;\n",
              "      border-bottom-color: var(--fill-color);\n",
              "    }\n",
              "  }\n",
              "</style>\n",
              "\n",
              "  <script>\n",
              "    async function quickchart(key) {\n",
              "      const quickchartButtonEl =\n",
              "        document.querySelector('#' + key + ' button');\n",
              "      quickchartButtonEl.disabled = true;  // To prevent multiple clicks.\n",
              "      quickchartButtonEl.classList.add('colab-df-spinner');\n",
              "      try {\n",
              "        const charts = await google.colab.kernel.invokeFunction(\n",
              "            'suggestCharts', [key], {});\n",
              "      } catch (error) {\n",
              "        console.error('Error during call to suggestCharts:', error);\n",
              "      }\n",
              "      quickchartButtonEl.classList.remove('colab-df-spinner');\n",
              "      quickchartButtonEl.classList.add('colab-df-quickchart-complete');\n",
              "    }\n",
              "    (() => {\n",
              "      let quickchartButtonEl =\n",
              "        document.querySelector('#df-7b25c3b0-8665-49d1-b1dc-0c6d09de80b3 button');\n",
              "      quickchartButtonEl.style.display =\n",
              "        google.colab.kernel.accessAllowed ? 'block' : 'none';\n",
              "    })();\n",
              "  </script>\n",
              "</div>\n",
              "\n",
              "    </div>\n",
              "  </div>\n"
            ],
            "application/vnd.google.colaboratory.intrinsic+json": {
              "type": "dataframe",
              "variable_name": "data1",
              "summary": "{\n  \"name\": \"data1\",\n  \"rows\": 11251,\n  \"fields\": [\n    {\n      \"column\": \"User_ID\",\n      \"properties\": {\n        \"dtype\": \"number\",\n        \"std\": 1716,\n        \"min\": 1000001,\n        \"max\": 1006040,\n        \"num_unique_values\": 3755,\n        \"samples\": [\n          1005905,\n          1003730,\n          1005326\n        ],\n        \"semantic_type\": \"\",\n        \"description\": \"\"\n      }\n    },\n    {\n      \"column\": \"Cust_name\",\n      \"properties\": {\n        \"dtype\": \"category\",\n        \"num_unique_values\": 1250,\n        \"samples\": [\n          \"Nida\",\n          \"Lacy\",\n          \"Caudle\"\n        ],\n        \"semantic_type\": \"\",\n        \"description\": \"\"\n      }\n    },\n    {\n      \"column\": \"Product_ID\",\n      \"properties\": {\n        \"dtype\": \"category\",\n        \"num_unique_values\": 2351,\n        \"samples\": [\n          \"P00224442\",\n          \"P00205242\",\n          \"P00347442\"\n        ],\n        \"semantic_type\": \"\",\n        \"description\": \"\"\n      }\n    },\n    {\n      \"column\": \"Gender\",\n      \"properties\": {\n        \"dtype\": \"category\",\n        \"num_unique_values\": 2,\n        \"samples\": [\n          \"M\",\n          \"F\"\n        ],\n        \"semantic_type\": \"\",\n        \"description\": \"\"\n      }\n    },\n    {\n      \"column\": \"Age Group\",\n      \"properties\": {\n        \"dtype\": \"category\",\n        \"num_unique_values\": 7,\n        \"samples\": [\n          \"26-35\",\n          \"0-17\"\n        ],\n        \"semantic_type\": \"\",\n        \"description\": \"\"\n      }\n    },\n    {\n      \"column\": \"Age\",\n      \"properties\": {\n        \"dtype\": \"number\",\n        \"std\": 12,\n        \"min\": 12,\n        \"max\": 92,\n        \"num_unique_values\": 81,\n        \"samples\": [\n          18,\n          28\n        ],\n        \"semantic_type\": \"\",\n        \"description\": \"\"\n      }\n    },\n    {\n      \"column\": \"Marital_Status\",\n      \"properties\": {\n        \"dtype\": \"number\",\n        \"std\": 0,\n        \"min\": 0,\n        \"max\": 1,\n        \"num_unique_values\": 2,\n        \"samples\": [\n          1,\n          0\n        ],\n        \"semantic_type\": \"\",\n        \"description\": \"\"\n      }\n    },\n    {\n      \"column\": \"State\",\n      \"properties\": {\n        \"dtype\": \"category\",\n        \"num_unique_values\": 16,\n        \"samples\": [\n          \"Maharashtra\",\n          \"Andhra\\u00a0Pradesh\"\n        ],\n        \"semantic_type\": \"\",\n        \"description\": \"\"\n      }\n    },\n    {\n      \"column\": \"Zone\",\n      \"properties\": {\n        \"dtype\": \"category\",\n        \"num_unique_values\": 5,\n        \"samples\": [\n          \"Southern\",\n          \"Eastern\"\n        ],\n        \"semantic_type\": \"\",\n        \"description\": \"\"\n      }\n    },\n    {\n      \"column\": \"Occupation\",\n      \"properties\": {\n        \"dtype\": \"category\",\n        \"num_unique_values\": 15,\n        \"samples\": [\n          \"Retail\",\n          \"Aviation\"\n        ],\n        \"semantic_type\": \"\",\n        \"description\": \"\"\n      }\n    },\n    {\n      \"column\": \"Product_Category\",\n      \"properties\": {\n        \"dtype\": \"category\",\n        \"num_unique_values\": 18,\n        \"samples\": [\n          \"Auto\",\n          \"Hand & Power Tools\"\n        ],\n        \"semantic_type\": \"\",\n        \"description\": \"\"\n      }\n    },\n    {\n      \"column\": \"Orders\",\n      \"properties\": {\n        \"dtype\": \"number\",\n        \"std\": 1,\n        \"min\": 1,\n        \"max\": 4,\n        \"num_unique_values\": 4,\n        \"samples\": [\n          3,\n          4\n        ],\n        \"semantic_type\": \"\",\n        \"description\": \"\"\n      }\n    },\n    {\n      \"column\": \"Amount\",\n      \"properties\": {\n        \"dtype\": \"number\",\n        \"std\": 5222.355869186455,\n        \"min\": 188.0,\n        \"max\": 23952.0,\n        \"num_unique_values\": 6584,\n        \"samples\": [\n          19249.0,\n          13184.0\n        ],\n        \"semantic_type\": \"\",\n        \"description\": \"\"\n      }\n    },\n    {\n      \"column\": \"Status\",\n      \"properties\": {\n        \"dtype\": \"number\",\n        \"std\": null,\n        \"min\": null,\n        \"max\": null,\n        \"num_unique_values\": 0,\n        \"samples\": [],\n        \"semantic_type\": \"\",\n        \"description\": \"\"\n      }\n    },\n    {\n      \"column\": \"unnamed1\",\n      \"properties\": {\n        \"dtype\": \"number\",\n        \"std\": null,\n        \"min\": null,\n        \"max\": null,\n        \"num_unique_values\": 0,\n        \"samples\": [],\n        \"semantic_type\": \"\",\n        \"description\": \"\"\n      }\n    }\n  ]\n}"
            }
          },
          "metadata": {},
          "execution_count": 2
        }
      ]
    },
    {
      "cell_type": "code",
      "source": [
        "data1.columns"
      ],
      "metadata": {
        "colab": {
          "base_uri": "https://localhost:8080/"
        },
        "id": "NN8A0f1L0c6u",
        "outputId": "8bccc956-2073-43ba-8304-24a5f3f3b3e3"
      },
      "execution_count": null,
      "outputs": [
        {
          "output_type": "execute_result",
          "data": {
            "text/plain": [
              "Index(['User_ID', 'Cust_name', 'Product_ID', 'Gender', 'Age Group', 'Age',\n",
              "       'Marital_Status', 'State', 'Zone', 'Occupation', 'Product_Category',\n",
              "       'Orders', 'Amount', 'Status', 'unnamed1'],\n",
              "      dtype='object')"
            ]
          },
          "metadata": {},
          "execution_count": 8
        }
      ]
    },
    {
      "cell_type": "code",
      "source": [
        "genderdata = data1['Gender']\n",
        "genderdata"
      ],
      "metadata": {
        "colab": {
          "base_uri": "https://localhost:8080/"
        },
        "id": "itOFtdbn075b",
        "outputId": "afedcbf1-07bb-4128-c87f-998d28a6a797"
      },
      "execution_count": null,
      "outputs": [
        {
          "output_type": "execute_result",
          "data": {
            "text/plain": [
              "0        F\n",
              "1        F\n",
              "2        F\n",
              "3        M\n",
              "4        M\n",
              "        ..\n",
              "11246    M\n",
              "11247    M\n",
              "11248    F\n",
              "11249    M\n",
              "11250    F\n",
              "Name: Gender, Length: 11251, dtype: object"
            ]
          },
          "metadata": {},
          "execution_count": 14
        }
      ]
    },
    {
      "cell_type": "code",
      "source": [
        "genderdata = data1['Gender'].value_counts()\n",
        "genderdata"
      ],
      "metadata": {
        "colab": {
          "base_uri": "https://localhost:8080/"
        },
        "id": "qNpgiZuk0f3e",
        "outputId": "397d21fb-a567-45c2-9360-ce4afb6f2522"
      },
      "execution_count": null,
      "outputs": [
        {
          "output_type": "execute_result",
          "data": {
            "text/plain": [
              "Gender\n",
              "F    7842\n",
              "M    3409\n",
              "Name: count, dtype: int64"
            ]
          },
          "metadata": {},
          "execution_count": 5
        }
      ]
    },
    {
      "cell_type": "code",
      "source": [
        "import matplotlib.pyplot as plt\n",
        "# Create a bar plot with specific colors\n",
        "plt.figure(figsize=(8,6))\n",
        "\n",
        "genderdata.plot(kind='bar', color=['blue', 'red'])\n",
        "plt.xlabel('Gender')\n",
        "plt.ylabel('Count')\n",
        "plt.title('Count of Males and Females')\n",
        "#plt.legend()\n",
        "plt.show()"
      ],
      "metadata": {
        "colab": {
          "base_uri": "https://localhost:8080/",
          "height": 562
        },
        "id": "IX2zL5C61AyC",
        "outputId": "33076c18-50b1-4e0e-ae81-0e0ebcd58811"
      },
      "execution_count": null,
      "outputs": [
        {
          "output_type": "display_data",
          "data": {
            "text/plain": [
              "<Figure size 800x600 with 1 Axes>"
            ],
            "image/png": "[encoded data removed]"
          },
          "metadata": {}
        }
      ]
    },
    {
      "cell_type": "markdown",
      "source": [
        "2)Give the sum of amounts spent by each gender and plot the corresponding graph."
      ],
      "metadata": {
        "id": "hlCMSgwkAVoN"
      }
    },
    {
      "cell_type": "code",
      "source": [
        "import seaborn as sns\n",
        "gender_sum=data1.groupby('Gender')['Amount'].sum()\n",
        "plt.figure(figsize = (6,6))\n",
        "# Use palette parameter to specify colors for each bar in seaborn\n",
        "sns.barplot(x = gender_sum.index,y = gender_sum.values,palette=['green','purple'])\n",
        "plt.xlabel('Gender')\n",
        "plt.ylabel('Total amount spent')\n",
        "plt.title(' Sum of Total amount spent by each gender')\n",
        "plt.show()\n"
      ],
      "metadata": {
        "id": "-BOs5Ln1_rPt",
        "colab": {
          "base_uri": "https://localhost:8080/",
          "height": 655
        },
        "outputId": "f9ca3fc6-01f2-496a-8fad-57b79abbd4a8"
      },
      "execution_count": null,
      "outputs": [
        {
          "output_type": "stream",
          "name": "stderr",
          "text": [
            "<ipython-input-17-7c9fea84b000>:4: FutureWarning: \n",
            "\n",
            "Passing `palette` without assigning `hue` is deprecated and will be removed in v0.14.0. Assign the `x` variable to `hue` and set `legend=False` for the same effect.\n",
            "\n",
            "  sns.barplot(x = gender_sum.index,y = gender_sum.values,palette=['green','purple'])\n"
          ]
        },
        {
          "output_type": "display_data",
          "data": {
            "text/plain": [
              "<Figure size 600x600 with 1 Axes>"
            ],
            "image/png": "[encoded data removed]"
          },
          "metadata": {}
        }
      ]
    },
    {
      "cell_type": "markdown",
      "source": [
        "3)Count each age group and provide individual counts grouped by gender."
      ],
      "metadata": {
        "id": "6MnJv5WEl5ZE"
      }
    },
    {
      "cell_type": "code",
      "source": [
        "#each age group\n",
        "df = data1.groupby(['Age Group','Gender']).size()\n",
        "print(df)\n"
      ],
      "metadata": {
        "id": "B3SaSzNT_raN",
        "colab": {
          "base_uri": "https://localhost:8080/"
        },
        "outputId": "e9c7fe62-778e-47c2-f92a-9526fe813806"
      },
      "execution_count": null,
      "outputs": [
        {
          "output_type": "stream",
          "name": "stdout",
          "text": [
            "Age Group  Gender\n",
            "0-17       F          162\n",
            "           M          134\n",
            "18-25      F         1305\n",
            "           M          574\n",
            "26-35      F         3271\n",
            "           M         1272\n",
            "36-45      F         1581\n",
            "           M          705\n",
            "46-50      F          696\n",
            "           M          291\n",
            "51-55      F          554\n",
            "           M          278\n",
            "55+        F          273\n",
            "           M          155\n",
            "dtype: int64\n"
          ]
        }
      ]
    },
    {
      "cell_type": "code",
      "source": [
        "#Individual counts provide\n",
        "df = data1.groupby(['Age Group','Gender']).size().unstack()\n",
        "#unstack() on a “stacked” DataFrame will give us back our original DataFrame with its original index and column labels intact\n",
        "print(df)\n"
      ],
      "metadata": {
        "id": "HKTuRzes_reA",
        "colab": {
          "base_uri": "https://localhost:8080/"
        },
        "outputId": "11e042a3-ca8d-4577-d398-06495525a3ec"
      },
      "execution_count": null,
      "outputs": [
        {
          "output_type": "stream",
          "name": "stdout",
          "text": [
            "Gender        F     M\n",
            "Age Group            \n",
            "0-17        162   134\n",
            "18-25      1305   574\n",
            "26-35      3271  1272\n",
            "36-45      1581   705\n",
            "46-50       696   291\n",
            "51-55       554   278\n",
            "55+         273   155\n"
          ]
        }
      ]
    },
    {
      "cell_type": "markdown",
      "source": [
        "4)Plot the total amount spent by each age group."
      ],
      "metadata": {
        "id": "LDDc-9KInGML"
      }
    },
    {
      "cell_type": "code",
      "source": [
        "df = data1.groupby('Age Group')['Amount'].sum()\n",
        "print(df)\n"
      ],
      "metadata": {
        "colab": {
          "base_uri": "https://localhost:8080/"
        },
        "id": "M5uT7mMnnkPz",
        "outputId": "9bdee4e6-bb99-4a10-f620-0ed7c6b1f6a5"
      },
      "execution_count": null,
      "outputs": [
        {
          "output_type": "stream",
          "name": "stdout",
          "text": [
            "Age Group\n",
            "0-17      2699653.00\n",
            "18-25    17240732.00\n",
            "26-35    42613443.94\n",
            "36-45    22144995.49\n",
            "46-50     9207844.00\n",
            "51-55     8261477.00\n",
            "55+       4080987.00\n",
            "Name: Amount, dtype: float64\n"
          ]
        }
      ]
    },
    {
      "cell_type": "code",
      "source": [
        "plt.figure(figsize=(6,6))\n",
        "sns.barplot(x = df.index,y=df.values,palette=['red','green','yellow','orange','skyblue'])\n",
        "plt.xlabel(\"AGE  GROUP\")\n",
        "plt.ylabel(\"Total Amount\")\n",
        "plt.title(\"TOTAL AMOUNT SPENT BY EACH AGE GROUP\")\n",
        "plt.show()\n"
      ],
      "metadata": {
        "colab": {
          "base_uri": "https://localhost:8080/",
          "height": 709
        },
        "id": "FyP088Z3nxVa",
        "outputId": "04471238-4aab-4c6f-fd62-8fa1c383552a"
      },
      "execution_count": null,
      "outputs": [
        {
          "output_type": "stream",
          "name": "stderr",
          "text": [
            "<ipython-input-28-f3d6333b282d>:2: FutureWarning: \n",
            "\n",
            "Passing `palette` without assigning `hue` is deprecated and will be removed in v0.14.0. Assign the `x` variable to `hue` and set `legend=False` for the same effect.\n",
            "\n",
            "  sns.barplot(x = df.index,y=df.values,palette=['red','green','yellow','orange','skyblue'])\n",
            "<ipython-input-28-f3d6333b282d>:2: UserWarning: \n",
            "The palette list has fewer values (5) than needed (7) and will cycle, which may produce an uninterpretable plot.\n",
            "  sns.barplot(x = df.index,y=df.values,palette=['red','green','yellow','orange','skyblue'])\n"
          ]
        },
        {
          "output_type": "display_data",
          "data": {
            "text/plain": [
              "<Figure size 600x600 with 1 Axes>"
            ],
            "image/png": "[encoded data removed]"
          },
          "metadata": {}
        }
      ]
    },
    {
      "cell_type": "code",
      "source": [
        "data1.columns"
      ],
      "metadata": {
        "colab": {
          "base_uri": "https://localhost:8080/"
        },
        "id": "hPK1gciJo3uJ",
        "outputId": "b1ab7d1d-acba-4e32-fcd0-10885302cf69"
      },
      "execution_count": null,
      "outputs": [
        {
          "output_type": "execute_result",
          "data": {
            "text/plain": [
              "Index(['User_ID', 'Cust_name', 'Product_ID', 'Gender', 'Age Group', 'Age',\n",
              "       'Marital_Status', 'State', 'Zone', 'Occupation', 'Product_Category',\n",
              "       'Orders', 'Amount', 'Status', 'unnamed1'],\n",
              "      dtype='object')"
            ]
          },
          "metadata": {},
          "execution_count": 29
        }
      ]
    },
    {
      "cell_type": "markdown",
      "source": [
        "5)Plot a graph depicting the total number of orders from the top 10 states."
      ],
      "metadata": {
        "id": "0zB-vCi2oywy"
      }
    },
    {
      "cell_type": "code",
      "source": [
        "state= data1.groupby('State')['Orders'].sum()\n",
        "print(df)\n",
        "top10=state.nlargest(10)\n",
        "\n",
        "# Create a bar plot with specific colors\n",
        "plt.figure(figsize=(8,6))\n",
        "top10.plot(kind='bar', color=['brown', 'green','skyblue'])\n",
        "plt.xlabel('State')\n",
        "plt.ylabel('Total no.of orders')\n",
        "plt.title('Total no.on orders from top 10 states')\n",
        "#plt.legend()\n",
        "plt.show()"
      ],
      "metadata": {
        "colab": {
          "base_uri": "https://localhost:8080/",
          "height": 838
        },
        "id": "s1Ap3rQno2FJ",
        "outputId": "bc551317-eed3-47fb-ba17-46632cb3cf79"
      },
      "execution_count": null,
      "outputs": [
        {
          "output_type": "stream",
          "name": "stdout",
          "text": [
            "Age Group\n",
            "0-17      2699653.00\n",
            "18-25    17240732.00\n",
            "26-35    42613443.94\n",
            "36-45    22144995.49\n",
            "46-50     9207844.00\n",
            "51-55     8261477.00\n",
            "55+       4080987.00\n",
            "Name: Amount, dtype: float64\n"
          ]
        },
        {
          "output_type": "display_data",
          "data": {
            "text/plain": [
              "<Figure size 800x600 with 1 Axes>"
            ],
            "image/png": "[encoded data removed]"
          },
          "metadata": {}
        }
      ]
    },
    {
      "cell_type": "markdown",
      "source": [
        "6)Determine the total amount spent in the top 10 states."
      ],
      "metadata": {
        "id": "5NgFoD_Xp_rY"
      }
    },
    {
      "cell_type": "code",
      "source": [
        "total=data1.groupby ('State') [ 'Amount' ].sum( )\n",
        "top10= total.nlargest(10)\n",
        "top10\n"
      ],
      "metadata": {
        "colab": {
          "base_uri": "https://localhost:8080/"
        },
        "id": "WXWAdKbNqDvo",
        "outputId": "c26a92ec-3a76-482d-9d65-0c0b9e6ba8d0"
      },
      "execution_count": null,
      "outputs": [
        {
          "output_type": "execute_result",
          "data": {
            "text/plain": [
              "State\n",
              "Uttar Pradesh       19374968.00\n",
              "Maharashtra         14427543.00\n",
              "Karnataka           13523540.00\n",
              "Delhi               11603819.45\n",
              "Madhya Pradesh       8101142.00\n",
              "Andhra Pradesh       8037146.99\n",
              "Himachal Pradesh     4963368.00\n",
              "Haryana              4220175.00\n",
              "Bihar                4022757.00\n",
              "Gujarat              3946082.00\n",
              "Name: Amount, dtype: float64"
            ]
          },
          "metadata": {},
          "execution_count": 35
        }
      ]
    },
    {
      "cell_type": "code",
      "source": [
        "plt.figure(figsize = (8,8))\n",
        "sns.barplot(x = top10.index,y = top10.values,palette=['green','skyblue','orange'])\n",
        "plt.xlabel(\"state\")\n",
        "plt.xticks(rotation = 45)\n",
        "plt.ylabel(\"Orders\")\n",
        "plt.show()\n"
      ],
      "metadata": {
        "colab": {
          "base_uri": "https://localhost:8080/",
          "height": 940
        },
        "id": "NQiCsDwlqi6w",
        "outputId": "e274c1b4-f794-4604-e25e-a5e90856577d"
      },
      "execution_count": null,
      "outputs": [
        {
          "output_type": "stream",
          "name": "stderr",
          "text": [
            "<ipython-input-38-dd00b3eb02fd>:2: FutureWarning: \n",
            "\n",
            "Passing `palette` without assigning `hue` is deprecated and will be removed in v0.14.0. Assign the `x` variable to `hue` and set `legend=False` for the same effect.\n",
            "\n",
            "  sns.barplot(x = top10.index,y = top10.values,palette=['green','skyblue','orange'])\n",
            "<ipython-input-38-dd00b3eb02fd>:2: UserWarning: \n",
            "The palette list has fewer values (3) than needed (10) and will cycle, which may produce an uninterpretable plot.\n",
            "  sns.barplot(x = top10.index,y = top10.values,palette=['green','skyblue','orange'])\n"
          ]
        },
        {
          "output_type": "display_data",
          "data": {
            "text/plain": [
              "<Figure size 800x800 with 1 Axes>"
            ],
            "image/png": "[encoded data removed]"
          },
          "metadata": {}
        }
      ]
    },
    {
      "cell_type": "markdown",
      "source": [
        "7)Plot a comparison graph between the number of married and unmarried individuals."
      ],
      "metadata": {
        "id": "2RJZvQ9wqfvU"
      }
    },
    {
      "cell_type": "code",
      "source": [
        "df1 = data1['Marital_Status'].value_counts()\n",
        "df1"
      ],
      "metadata": {
        "colab": {
          "base_uri": "https://localhost:8080/"
        },
        "id": "CNVq3PVXrEfo",
        "outputId": "ce445662-5737-4fae-bc9c-143413bbb22c"
      },
      "execution_count": null,
      "outputs": [
        {
          "output_type": "execute_result",
          "data": {
            "text/plain": [
              "Marital_Status\n",
              "0    6522\n",
              "1    4729\n",
              "Name: count, dtype: int64"
            ]
          },
          "metadata": {},
          "execution_count": 41
        }
      ]
    },
    {
      "cell_type": "code",
      "source": [
        "plt.figure(figsize = (8,8))\n",
        "sns.barplot(x = ['Unmarried', 'Married'],y = df1.values,palette=['orange','skyblue'])\n",
        "plt.xlabel('Mariatal_status')\n",
        "plt.ylabel(\"Orders\")\n",
        "plt.show()\n"
      ],
      "metadata": {
        "colab": {
          "base_uri": "https://localhost:8080/",
          "height": 787
        },
        "id": "TR-kQ3PErmYf",
        "outputId": "9192ecf2-818b-4555-cef7-9b4ee0341822"
      },
      "execution_count": null,
      "outputs": [
        {
          "output_type": "stream",
          "name": "stderr",
          "text": [
            "<ipython-input-42-411063efb45c>:2: FutureWarning: \n",
            "\n",
            "Passing `palette` without assigning `hue` is deprecated and will be removed in v0.14.0. Assign the `x` variable to `hue` and set `legend=False` for the same effect.\n",
            "\n",
            "  sns.barplot(x = ['Unmarried', 'Married'],y = df1.values,palette=['orange','skyblue'])\n"
          ]
        },
        {
          "output_type": "display_data",
          "data": {
            "text/plain": [
              "<Figure size 800x800 with 1 Axes>"
            ],
            "image/png": "[encoded data removed]"
          },
          "metadata": {}
        }
      ]
    },
    {
      "cell_type": "markdown",
      "source": [
        "8)Plot the amount spent by males and females based on marital status."
      ],
      "metadata": {
        "id": "326KOBDwr55Y"
      }
    },
    {
      "cell_type": "code",
      "source": [
        "d= data1.groupby(['Gender','Marital_Status'])['Amount'].sum().unstack()\n",
        "print(d)"
      ],
      "metadata": {
        "colab": {
          "base_uri": "https://localhost:8080/"
        },
        "id": "Bw-URCfFr9Le",
        "outputId": "cf72966d-bc1b-4bd6-ad2c-5bf28adf8625"
      },
      "execution_count": null,
      "outputs": [
        {
          "output_type": "stream",
          "name": "stdout",
          "text": [
            "Marital_Status            0            1\n",
            "Gender                                  \n",
            "F               43786648.44  30549207.99\n",
            "M               18338738.00  13574538.00\n"
          ]
        }
      ]
    },
    {
      "cell_type": "code",
      "source": [
        "d.plot(kind='bar',figsize  =  (10,6))\n",
        "plt.title('Amount Spent  by Gender  and Marital Status')\n",
        "plt.xlabel('Gender')\n",
        "plt.ylabel('Total Amount Spent')\n",
        "plt.legend(title ='Marital  Status',labels  = ['Single','Married'])\n",
        "plt.show()\n"
      ],
      "metadata": {
        "colab": {
          "base_uri": "https://localhost:8080/",
          "height": 562
        },
        "id": "wqDWO3ZzsGCu",
        "outputId": "72b7dfc3-4a9a-426e-944f-d378023744e4"
      },
      "execution_count": null,
      "outputs": [
        {
          "output_type": "display_data",
          "data": {
            "text/plain": [
              "<Figure size 1000x600 with 1 Axes>"
            ],
            "image/png": "[encoded data removed]"
          },
          "metadata": {}
        }
      ]
    },
    {
      "cell_type": "markdown",
      "source": [
        "9)Plot the count of each occupation present in the dataset."
      ],
      "metadata": {
        "id": "tWGl4LNFs0YO"
      }
    },
    {
      "cell_type": "code",
      "source": [
        "occupation= data1['Occupation'].value_counts()\n",
        "occupation\n",
        "occupation.plot(kind='bar',figsize  =  (10,6))\n",
        "plt.title('Count of each occupation')\n",
        "plt.xlabel('Occupation')\n",
        "plt.ylabel('Count')\n",
        "plt.show()"
      ],
      "metadata": {
        "colab": {
          "base_uri": "https://localhost:8080/",
          "height": 662
        },
        "id": "2CK4O165s381",
        "outputId": "60d0b813-5f06-4948-9939-3c003c1c3943"
      },
      "execution_count": null,
      "outputs": [
        {
          "output_type": "display_data",
          "data": {
            "text/plain": [
              "<Figure size 1000x600 with 1 Axes>"
            ],
            "image/png": "[encoded data removed]"
          },
          "metadata": {}
        }
      ]
    },
    {
      "cell_type": "markdown",
      "source": [
        "10)Plot the amount spent by each occupation in descending order."
      ],
      "metadata": {
        "id": "fMGoDK_9ttAe"
      }
    },
    {
      "cell_type": "code",
      "source": [
        "desc= data1.groupby('Occupation')['Amount'].sum()\n",
        "desc1 = desc.nsmallest(20)\n",
        "desc1\n",
        "desc1.plot(kind='bar',figsize  =  (10,6))\n",
        "plt.title('Amount of each occupation in descending order')\n",
        "plt.xlabel('Occupation')\n",
        "plt.ylabel('Amount')\n",
        "plt.tight_layout()\n",
        "plt.show()"
      ],
      "metadata": {
        "colab": {
          "base_uri": "https://localhost:8080/",
          "height": 607
        },
        "id": "0-wp4iA3tviG",
        "outputId": "3a52ce69-ee2f-408e-be9a-be2d6f94a146"
      },
      "execution_count": null,
      "outputs": [
        {
          "output_type": "display_data",
          "data": {
            "text/plain": [
              "<Figure size 1000x600 with 1 Axes>"
            ],
            "image/png": "[encoded data removed]"
          },
          "metadata": {}
        }
      ]
    },
    {
      "cell_type": "markdown",
      "source": [
        "11)Provide statistical analysis of each product category based on the percentage of orders completed"
      ],
      "metadata": {
        "id": "mdprGbf9ucV-"
      }
    },
    {
      "cell_type": "code",
      "source": [
        "grouped = data1.groupby('Product_Category')\n",
        "total_orders = grouped.size()\n",
        "orders_completed = grouped['Orders'].apply(lambda x: (x > 2).sum())\n",
        "percentage_completed = (orders_completed / total_orders) * 100\n",
        "summary_df = pd.DataFrame({\n",
        "              'Total Orders' :total_orders,\n",
        "              'Orders Completed':orders_completed,\n",
        "              'Percentage Completed':percentage_completed\n",
        "})\n",
        "print(summary_df)\n"
      ],
      "metadata": {
        "colab": {
          "base_uri": "https://localhost:8080/"
        },
        "id": "yCdIgcQ2ufnE",
        "outputId": "4337339c-5442-44bd-a1f4-8024ea15ad3e"
      },
      "execution_count": null,
      "outputs": [
        {
          "output_type": "stream",
          "name": "stdout",
          "text": [
            "                       Total Orders  Orders Completed  Percentage Completed\n",
            "Product_Category                                                           \n",
            "Auto                            100                48             48.000000\n",
            "Beauty                          422               226             53.554502\n",
            "Books                           103                48             46.601942\n",
            "Clothing & Apparel             2655              1314             49.491525\n",
            "Decor                            96                42             43.750000\n",
            "Electronics & Gadgets          2087              1026             49.161476\n",
            "Food                           2493              1190             47.733654\n",
            "Footwear & Shoes               1064               547             51.409774\n",
            "Furniture                       353               181             51.274788\n",
            "Games & Toys                    386               172             44.559585\n",
            "Hand & Power Tools               26                19             73.076923\n",
            "Household items                 520               266             51.153846\n",
            "Office                          113                49             43.362832\n",
            "Pet Care                        212               109             51.415094\n",
            "Sports Products                 356               175             49.157303\n",
            "Stationery                      112                56             50.000000\n",
            "Tupperware                       72                31             43.055556\n",
            "Veterinary                       81                44             54.320988\n"
          ]
        }
      ]
    },
    {
      "cell_type": "code",
      "source": [
        "grouped = data1.groupby('Product_Category')['Orders'].describe()\n",
        "grouped"
      ],
      "metadata": {
        "colab": {
          "base_uri": "https://localhost:8080/",
          "height": 645
        },
        "id": "4ENP_kHvu_kX",
        "outputId": "8fe0b87d-1c1b-4eb5-a378-c05d17d32539"
      },
      "execution_count": null,
      "outputs": [
        {
          "output_type": "execute_result",
          "data": {
            "text/plain": [
              "                        count      mean       std  min   25%  50%   75%  max\n",
              "Product_Category                                                            \n",
              "Auto                    100.0  2.460000  1.140795  1.0  1.00  2.0  3.25  4.0\n",
              "Beauty                  422.0  2.573460  1.110544  1.0  2.00  3.0  4.00  4.0\n",
              "Books                   103.0  2.378641  1.147175  1.0  1.00  2.0  3.00  4.0\n",
              "Clothing & Apparel     2655.0  2.498682  1.111654  1.0  2.00  2.0  3.00  4.0\n",
              "Decor                    96.0  2.447917  1.132020  1.0  1.75  2.0  4.00  4.0\n",
              "Electronics & Gadgets  2087.0  2.504073  1.109904  1.0  2.00  2.0  4.00  4.0\n",
              "Food                   2493.0  2.454874  1.112849  1.0  1.00  2.0  3.00  4.0\n",
              "Footwear & Shoes       1064.0  2.494361  1.100742  1.0  1.75  3.0  3.00  4.0\n",
              "Furniture               353.0  2.521246  1.135795  1.0  1.00  3.0  4.00  4.0\n",
              "Games & Toys            386.0  2.435233  1.110611  1.0  1.25  2.0  3.00  4.0\n",
              "Hand & Power Tools       26.0  3.076923  1.055389  1.0  2.25  3.0  4.00  4.0\n",
              "Household items         520.0  2.559615  1.136326  1.0  2.00  3.0  4.00  4.0\n",
              "Office                  113.0  2.309735  1.150153  1.0  1.00  2.0  3.00  4.0\n",
              "Pet Care                212.0  2.528302  1.141277  1.0  1.00  3.0  4.00  4.0\n",
              "Sports Products         356.0  2.443820  1.120710  1.0  1.00  2.0  3.00  4.0\n",
              "Stationery              112.0  2.508929  1.208048  1.0  1.00  2.5  4.00  4.0\n",
              "Tupperware               72.0  2.305556  1.095945  1.0  1.00  2.0  3.00  4.0\n",
              "Veterinary               81.0  2.543210  1.049397  1.0  2.00  3.0  3.00  4.0"
            ],
            "text/html": [
              "\n",
              "  <div id=\"df-b4554a56-f1ab-4dea-91ec-9bc2572f0efb\" class=\"colab-df-container\">\n",
              "    <div>\n",
              "<style scoped>\n",
              "    .dataframe tbody tr th:only-of-type {\n",
              "        vertical-align: middle;\n",
              "    }\n",
              "\n",
              "    .dataframe tbody tr th {\n",
              "        vertical-align: top;\n",
              "    }\n",
              "\n",
              "    .dataframe thead th {\n",
              "        text-align: right;\n",
              "    }\n",
              "</style>\n",
              "<table border=\"1\" class=\"dataframe\">\n",
              "  <thead>\n",
              "    <tr style=\"text-align: right;\">\n",
              "      <th></th>\n",
              "      <th>count</th>\n",
              "      <th>mean</th>\n",
              "      <th>std</th>\n",
              "      <th>min</th>\n",
              "      <th>25%</th>\n",
              "      <th>50%</th>\n",
              "      <th>75%</th>\n",
              "      <th>max</th>\n",
              "    </tr>\n",
              "    <tr>\n",
              "      <th>Product_Category</th>\n",
              "      <th></th>\n",
              "      <th></th>\n",
              "      <th></th>\n",
              "      <th></th>\n",
              "      <th></th>\n",
              "      <th></th>\n",
              "      <th></th>\n",
              "      <th></th>\n",
              "    </tr>\n",
              "  </thead>\n",
              "  <tbody>\n",
              "    <tr>\n",
              "      <th>Auto</th>\n",
              "      <td>100.0</td>\n",
              "      <td>2.460000</td>\n",
              "      <td>1.140795</td>\n",
              "      <td>1.0</td>\n",
              "      <td>1.00</td>\n",
              "      <td>2.0</td>\n",
              "      <td>3.25</td>\n",
              "      <td>4.0</td>\n",
              "    </tr>\n",
              "    <tr>\n",
              "      <th>Beauty</th>\n",
              "      <td>422.0</td>\n",
              "      <td>2.573460</td>\n",
              "      <td>1.110544</td>\n",
              "      <td>1.0</td>\n",
              "      <td>2.00</td>\n",
              "      <td>3.0</td>\n",
              "      <td>4.00</td>\n",
              "      <td>4.0</td>\n",
              "    </tr>\n",
              "    <tr>\n",
              "      <th>Books</th>\n",
              "      <td>103.0</td>\n",
              "      <td>2.378641</td>\n",
              "      <td>1.147175</td>\n",
              "      <td>1.0</td>\n",
              "      <td>1.00</td>\n",
              "      <td>2.0</td>\n",
              "      <td>3.00</td>\n",
              "      <td>4.0</td>\n",
              "    </tr>\n",
              "    <tr>\n",
              "      <th>Clothing &amp; Apparel</th>\n",
              "      <td>2655.0</td>\n",
              "      <td>2.498682</td>\n",
              "      <td>1.111654</td>\n",
              "      <td>1.0</td>\n",
              "      <td>2.00</td>\n",
              "      <td>2.0</td>\n",
              "      <td>3.00</td>\n",
              "      <td>4.0</td>\n",
              "    </tr>\n",
              "    <tr>\n",
              "      <th>Decor</th>\n",
              "      <td>96.0</td>\n",
              "      <td>2.447917</td>\n",
              "      <td>1.132020</td>\n",
              "      <td>1.0</td>\n",
              "      <td>1.75</td>\n",
              "      <td>2.0</td>\n",
              "      <td>4.00</td>\n",
              "      <td>4.0</td>\n",
              "    </tr>\n",
              "    <tr>\n",
              "      <th>Electronics &amp; Gadgets</th>\n",
              "      <td>2087.0</td>\n",
              "      <td>2.504073</td>\n",
              "      <td>1.109904</td>\n",
              "      <td>1.0</td>\n",
              "      <td>2.00</td>\n",
              "      <td>2.0</td>\n",
              "      <td>4.00</td>\n",
              "      <td>4.0</td>\n",
              "    </tr>\n",
              "    <tr>\n",
              "      <th>Food</th>\n",
              "      <td>2493.0</td>\n",
              "      <td>2.454874</td>\n",
              "      <td>1.112849</td>\n",
              "      <td>1.0</td>\n",
              "      <td>1.00</td>\n",
              "      <td>2.0</td>\n",
              "      <td>3.00</td>\n",
              "      <td>4.0</td>\n",
              "    </tr>\n",
              "    <tr>\n",
              "      <th>Footwear &amp; Shoes</th>\n",
              "      <td>1064.0</td>\n",
              "      <td>2.494361</td>\n",
              "      <td>1.100742</td>\n",
              "      <td>1.0</td>\n",
              "      <td>1.75</td>\n",
              "      <td>3.0</td>\n",
              "      <td>3.00</td>\n",
              "      <td>4.0</td>\n",
              "    </tr>\n",
              "    <tr>\n",
              "      <th>Furniture</th>\n",
              "      <td>353.0</td>\n",
              "      <td>2.521246</td>\n",
              "      <td>1.135795</td>\n",
              "      <td>1.0</td>\n",
              "      <td>1.00</td>\n",
              "      <td>3.0</td>\n",
              "      <td>4.00</td>\n",
              "      <td>4.0</td>\n",
              "    </tr>\n",
              "    <tr>\n",
              "      <th>Games &amp; Toys</th>\n",
              "      <td>386.0</td>\n",
              "      <td>2.435233</td>\n",
              "      <td>1.110611</td>\n",
              "      <td>1.0</td>\n",
              "      <td>1.25</td>\n",
              "      <td>2.0</td>\n",
              "      <td>3.00</td>\n",
              "      <td>4.0</td>\n",
              "    </tr>\n",
              "    <tr>\n",
              "      <th>Hand &amp; Power Tools</th>\n",
              "      <td>26.0</td>\n",
              "      <td>3.076923</td>\n",
              "      <td>1.055389</td>\n",
              "      <td>1.0</td>\n",
              "      <td>2.25</td>\n",
              "      <td>3.0</td>\n",
              "      <td>4.00</td>\n",
              "      <td>4.0</td>\n",
              "    </tr>\n",
              "    <tr>\n",
              "      <th>Household items</th>\n",
              "      <td>520.0</td>\n",
              "      <td>2.559615</td>\n",
              "      <td>1.136326</td>\n",
              "      <td>1.0</td>\n",
              "      <td>2.00</td>\n",
              "      <td>3.0</td>\n",
              "      <td>4.00</td>\n",
              "      <td>4.0</td>\n",
              "    </tr>\n",
              "    <tr>\n",
              "      <th>Office</th>\n",
              "      <td>113.0</td>\n",
              "      <td>2.309735</td>\n",
              "      <td>1.150153</td>\n",
              "      <td>1.0</td>\n",
              "      <td>1.00</td>\n",
              "      <td>2.0</td>\n",
              "      <td>3.00</td>\n",
              "      <td>4.0</td>\n",
              "    </tr>\n",
              "    <tr>\n",
              "      <th>Pet Care</th>\n",
              "      <td>212.0</td>\n",
              "      <td>2.528302</td>\n",
              "      <td>1.141277</td>\n",
              "      <td>1.0</td>\n",
              "      <td>1.00</td>\n",
              "      <td>3.0</td>\n",
              "      <td>4.00</td>\n",
              "      <td>4.0</td>\n",
              "    </tr>\n",
              "    <tr>\n",
              "      <th>Sports Products</th>\n",
              "      <td>356.0</td>\n",
              "      <td>2.443820</td>\n",
              "      <td>1.120710</td>\n",
              "      <td>1.0</td>\n",
              "      <td>1.00</td>\n",
              "      <td>2.0</td>\n",
              "      <td>3.00</td>\n",
              "      <td>4.0</td>\n",
              "    </tr>\n",
              "    <tr>\n",
              "      <th>Stationery</th>\n",
              "      <td>112.0</td>\n",
              "      <td>2.508929</td>\n",
              "      <td>1.208048</td>\n",
              "      <td>1.0</td>\n",
              "      <td>1.00</td>\n",
              "      <td>2.5</td>\n",
              "      <td>4.00</td>\n",
              "      <td>4.0</td>\n",
              "    </tr>\n",
              "    <tr>\n",
              "      <th>Tupperware</th>\n",
              "      <td>72.0</td>\n",
              "      <td>2.305556</td>\n",
              "      <td>1.095945</td>\n",
              "      <td>1.0</td>\n",
              "      <td>1.00</td>\n",
              "      <td>2.0</td>\n",
              "      <td>3.00</td>\n",
              "      <td>4.0</td>\n",
              "    </tr>\n",
              "    <tr>\n",
              "      <th>Veterinary</th>\n",
              "      <td>81.0</td>\n",
              "      <td>2.543210</td>\n",
              "      <td>1.049397</td>\n",
              "      <td>1.0</td>\n",
              "      <td>2.00</td>\n",
              "      <td>3.0</td>\n",
              "      <td>3.00</td>\n",
              "      <td>4.0</td>\n",
              "    </tr>\n",
              "  </tbody>\n",
              "</table>\n",
              "</div>\n",
              "    <div class=\"colab-df-buttons\">\n",
              "\n",
              "  <div class=\"colab-df-container\">\n",
              "    <button class=\"colab-df-convert\" onclick=\"convertToInteractive('df-b4554a56-f1ab-4dea-91ec-9bc2572f0efb')\"\n",
              "            title=\"Convert this dataframe to an interactive table.\"\n",
              "            style=\"display:none;\">\n",
              "\n",
              "  <svg xmlns=\"http://www.w3.org/2000/svg\" height=\"24px\" viewBox=\"0 -960 960 960\">\n",
              "    <path d=\"M120-120v-720h720v720H120Zm60-500h600v-160H180v160Zm220 220h160v-160H400v160Zm0 220h160v-160H400v160ZM180-400h160v-160H180v160Zm440 0h160v-160H620v160ZM180-180h160v-160H180v160Zm440 0h160v-160H620v160Z\"/>\n",
              "  </svg>\n",
              "    </button>\n",
              "\n",
              "  <style>\n",
              "    .colab-df-container {\n",
              "      display:flex;\n",
              "      gap: 12px;\n",
              "    }\n",
              "\n",
              "    .colab-df-convert {\n",
              "      background-color: #E8F0FE;\n",
              "      border: none;\n",
              "      border-radius: 50%;\n",
              "      cursor: pointer;\n",
              "      display: none;\n",
              "      fill: #1967D2;\n",
              "      height: 32px;\n",
              "      padding: 0 0 0 0;\n",
              "      width: 32px;\n",
              "    }\n",
              "\n",
              "    .colab-df-convert:hover {\n",
              "      background-color: #E2EBFA;\n",
              "      box-shadow: 0px 1px 2px rgba(60, 64, 67, 0.3), 0px 1px 3px 1px rgba(60, 64, 67, 0.15);\n",
              "      fill: #174EA6;\n",
              "    }\n",
              "\n",
              "    .colab-df-buttons div {\n",
              "      margin-bottom: 4px;\n",
              "    }\n",
              "\n",
              "    [theme=dark] .colab-df-convert {\n",
              "      background-color: #3B4455;\n",
              "      fill: #D2E3FC;\n",
              "    }\n",
              "\n",
              "    [theme=dark] .colab-df-convert:hover {\n",
              "      background-color: #434B5C;\n",
              "      box-shadow: 0px 1px 3px 1px rgba(0, 0, 0, 0.15);\n",
              "      filter: drop-shadow(0px 1px 2px rgba(0, 0, 0, 0.3));\n",
              "      fill: #FFFFFF;\n",
              "    }\n",
              "  </style>\n",
              "\n",
              "    <script>\n",
              "      const buttonEl =\n",
              "        document.querySelector('#df-b4554a56-f1ab-4dea-91ec-9bc2572f0efb button.colab-df-convert');\n",
              "      buttonEl.style.display =\n",
              "        google.colab.kernel.accessAllowed ? 'block' : 'none';\n",
              "\n",
              "      async function convertToInteractive(key) {\n",
              "        const element = document.querySelector('#df-b4554a56-f1ab-4dea-91ec-9bc2572f0efb');\n",
              "        const dataTable =\n",
              "          await google.colab.kernel.invokeFunction('convertToInteractive',\n",
              "                                                    [key], {});\n",
              "        if (!dataTable) return;\n",
              "\n",
              "        const docLinkHtml = 'Like what you see? Visit the ' +\n",
              "          '<a target=\"_blank\" href=https://colab.research.google.com/notebooks/data_table.ipynb>data table notebook</a>'\n",
              "          + ' to learn more about interactive tables.';\n",
              "        element.innerHTML = '';\n",
              "        dataTable['output_type'] = 'display_data';\n",
              "        await google.colab.output.renderOutput(dataTable, element);\n",
              "        const docLink = document.createElement('div');\n",
              "        docLink.innerHTML = docLinkHtml;\n",
              "        element.appendChild(docLink);\n",
              "      }\n",
              "    </script>\n",
              "  </div>\n",
              "\n",
              "\n",
              "<div id=\"df-c154d79e-7238-480b-8d4e-0de1d2a19c6a\">\n",
              "  <button class=\"colab-df-quickchart\" onclick=\"quickchart('df-c154d79e-7238-480b-8d4e-0de1d2a19c6a')\"\n",
              "            title=\"Suggest charts\"\n",
              "            style=\"display:none;\">\n",
              "\n",
              "<svg xmlns=\"http://www.w3.org/2000/svg\" height=\"24px\"viewBox=\"0 0 24 24\"\n",
              "     width=\"24px\">\n",
              "    <g>\n",
              "        <path d=\"M19 3H5c-1.1 0-2 .9-2 2v14c0 1.1.9 2 2 2h14c1.1 0 2-.9 2-2V5c0-1.1-.9-2-2-2zM9 17H7v-7h2v7zm4 0h-2V7h2v10zm4 0h-2v-4h2v4z\"/>\n",
              "    </g>\n",
              "</svg>\n",
              "  </button>\n",
              "\n",
              "<style>\n",
              "  .colab-df-quickchart {\n",
              "      --bg-color: #E8F0FE;\n",
              "      --fill-color: #1967D2;\n",
              "      --hover-bg-color: #E2EBFA;\n",
              "      --hover-fill-color: #174EA6;\n",
              "      --disabled-fill-color: #AAA;\n",
              "      --disabled-bg-color: #DDD;\n",
              "  }\n",
              "\n",
              "  [theme=dark] .colab-df-quickchart {\n",
              "      --bg-color: #3B4455;\n",
              "      --fill-color: #D2E3FC;\n",
              "      --hover-bg-color: #434B5C;\n",
              "      --hover-fill-color: #FFFFFF;\n",
              "      --disabled-bg-color: #3B4455;\n",
              "      --disabled-fill-color: #666;\n",
              "  }\n",
              "\n",
              "  .colab-df-quickchart {\n",
              "    background-color: var(--bg-color);\n",
              "    border: none;\n",
              "    border-radius: 50%;\n",
              "    cursor: pointer;\n",
              "    display: none;\n",
              "    fill: var(--fill-color);\n",
              "    height: 32px;\n",
              "    padding: 0;\n",
              "    width: 32px;\n",
              "  }\n",
              "\n",
              "  .colab-df-quickchart:hover {\n",
              "    background-color: var(--hover-bg-color);\n",
              "    box-shadow: 0 1px 2px rgba(60, 64, 67, 0.3), 0 1px 3px 1px rgba(60, 64, 67, 0.15);\n",
              "    fill: var(--button-hover-fill-color);\n",
              "  }\n",
              "\n",
              "  .colab-df-quickchart-complete:disabled,\n",
              "  .colab-df-quickchart-complete:disabled:hover {\n",
              "    background-color: var(--disabled-bg-color);\n",
              "    fill: var(--disabled-fill-color);\n",
              "    box-shadow: none;\n",
              "  }\n",
              "\n",
              "  .colab-df-spinner {\n",
              "    border: 2px solid var(--fill-color);\n",
              "    border-color: transparent;\n",
              "    border-bottom-color: var(--fill-color);\n",
              "    animation:\n",
              "      spin 1s steps(1) infinite;\n",
              "  }\n",
              "\n",
              "  @keyframes spin {\n",
              "    0% {\n",
              "      border-color: transparent;\n",
              "      border-bottom-color: var(--fill-color);\n",
              "      border-left-color: var(--fill-color);\n",
              "    }\n",
              "    20% {\n",
              "      border-color: transparent;\n",
              "      border-left-color: var(--fill-color);\n",
              "      border-top-color: var(--fill-color);\n",
              "    }\n",
              "    30% {\n",
              "      border-color: transparent;\n",
              "      border-left-color: var(--fill-color);\n",
              "      border-top-color: var(--fill-color);\n",
              "      border-right-color: var(--fill-color);\n",
              "    }\n",
              "    40% {\n",
              "      border-color: transparent;\n",
              "      border-right-color: var(--fill-color);\n",
              "      border-top-color: var(--fill-color);\n",
              "    }\n",
              "    60% {\n",
              "      border-color: transparent;\n",
              "      border-right-color: var(--fill-color);\n",
              "    }\n",
              "    80% {\n",
              "      border-color: transparent;\n",
              "      border-right-color: var(--fill-color);\n",
              "      border-bottom-color: var(--fill-color);\n",
              "    }\n",
              "    90% {\n",
              "      border-color: transparent;\n",
              "      border-bottom-color: var(--fill-color);\n",
              "    }\n",
              "  }\n",
              "</style>\n",
              "\n",
              "  <script>\n",
              "    async function quickchart(key) {\n",
              "      const quickchartButtonEl =\n",
              "        document.querySelector('#' + key + ' button');\n",
              "      quickchartButtonEl.disabled = true;  // To prevent multiple clicks.\n",
              "      quickchartButtonEl.classList.add('colab-df-spinner');\n",
              "      try {\n",
              "        const charts = await google.colab.kernel.invokeFunction(\n",
              "            'suggestCharts', [key], {});\n",
              "      } catch (error) {\n",
              "        console.error('Error during call to suggestCharts:', error);\n",
              "      }\n",
              "      quickchartButtonEl.classList.remove('colab-df-spinner');\n",
              "      quickchartButtonEl.classList.add('colab-df-quickchart-complete');\n",
              "    }\n",
              "    (() => {\n",
              "      let quickchartButtonEl =\n",
              "        document.querySelector('#df-c154d79e-7238-480b-8d4e-0de1d2a19c6a button');\n",
              "      quickchartButtonEl.style.display =\n",
              "        google.colab.kernel.accessAllowed ? 'block' : 'none';\n",
              "    })();\n",
              "  </script>\n",
              "</div>\n",
              "\n",
              "  <div id=\"id_04410378-e1ca-4484-8c53-07dfefd5cea0\">\n",
              "    <style>\n",
              "      .colab-df-generate {\n",
              "        background-color: #E8F0FE;\n",
              "        border: none;\n",
              "        border-radius: 50%;\n",
              "        cursor: pointer;\n",
              "        display: none;\n",
              "        fill: #1967D2;\n",
              "        height: 32px;\n",
              "        padding: 0 0 0 0;\n",
              "        width: 32px;\n",
              "      }\n",
              "\n",
              "      .colab-df-generate:hover {\n",
              "        background-color: #E2EBFA;\n",
              "        box-shadow: 0px 1px 2px rgba(60, 64, 67, 0.3), 0px 1px 3px 1px rgba(60, 64, 67, 0.15);\n",
              "        fill: #174EA6;\n",
              "      }\n",
              "\n",
              "      [theme=dark] .colab-df-generate {\n",
              "        background-color: #3B4455;\n",
              "        fill: #D2E3FC;\n",
              "      }\n",
              "\n",
              "      [theme=dark] .colab-df-generate:hover {\n",
              "        background-color: #434B5C;\n",
              "        box-shadow: 0px 1px 3px 1px rgba(0, 0, 0, 0.15);\n",
              "        filter: drop-shadow(0px 1px 2px rgba(0, 0, 0, 0.3));\n",
              "        fill: #FFFFFF;\n",
              "      }\n",
              "    </style>\n",
              "    <button class=\"colab-df-generate\" onclick=\"generateWithVariable('grouped')\"\n",
              "            title=\"Generate code using this dataframe.\"\n",
              "            style=\"display:none;\">\n",
              "\n",
              "  <svg xmlns=\"http://www.w3.org/2000/svg\" height=\"24px\"viewBox=\"0 0 24 24\"\n",
              "       width=\"24px\">\n",
              "    <path d=\"M7,19H8.4L18.45,9,17,7.55,7,17.6ZM5,21V16.75L18.45,3.32a2,2,0,0,1,2.83,0l1.4,1.43a1.91,1.91,0,0,1,.58,1.4,1.91,1.91,0,0,1-.58,1.4L9.25,21ZM18.45,9,17,7.55Zm-12,3A5.31,5.31,0,0,0,4.9,8.1,5.31,5.31,0,0,0,1,6.5,5.31,5.31,0,0,0,4.9,4.9,5.31,5.31,0,0,0,6.5,1,5.31,5.31,0,0,0,8.1,4.9,5.31,5.31,0,0,0,12,6.5,5.46,5.46,0,0,0,6.5,12Z\"/>\n",
              "  </svg>\n",
              "    </button>\n",
              "    <script>\n",
              "      (() => {\n",
              "      const buttonEl =\n",
              "        document.querySelector('#id_04410378-e1ca-4484-8c53-07dfefd5cea0 button.colab-df-generate');\n",
              "      buttonEl.style.display =\n",
              "        google.colab.kernel.accessAllowed ? 'block' : 'none';\n",
              "\n",
              "      buttonEl.onclick = () => {\n",
              "        google.colab.notebook.generateWithVariable('grouped');\n",
              "      }\n",
              "      })();\n",
              "    </script>\n",
              "  </div>\n",
              "\n",
              "    </div>\n",
              "  </div>\n"
            ],
            "application/vnd.google.colaboratory.intrinsic+json": {
              "type": "dataframe",
              "variable_name": "grouped",
              "summary": "{\n  \"name\": \"grouped\",\n  \"rows\": 18,\n  \"fields\": [\n    {\n      \"column\": \"Product_Category\",\n      \"properties\": {\n        \"dtype\": \"string\",\n        \"num_unique_values\": 18,\n        \"samples\": [\n          \"Auto\",\n          \"Beauty\",\n          \"Furniture\"\n        ],\n        \"semantic_type\": \"\",\n        \"description\": \"\"\n      }\n    },\n    {\n      \"column\": \"count\",\n      \"properties\": {\n        \"dtype\": \"number\",\n        \"std\": 863.6641144648648,\n        \"min\": 26.0,\n        \"max\": 2655.0,\n        \"num_unique_values\": 18,\n        \"samples\": [\n          100.0,\n          422.0,\n          353.0\n        ],\n        \"semantic_type\": \"\",\n        \"description\": \"\"\n      }\n    },\n    {\n      \"column\": \"mean\",\n      \"properties\": {\n        \"dtype\": \"number\",\n        \"std\": 0.16222119123150586,\n        \"min\": 2.3055555555555554,\n        \"max\": 3.076923076923077,\n        \"num_unique_values\": 18,\n        \"samples\": [\n          2.46,\n          2.5734597156398102,\n          2.5212464589235126\n        ],\n        \"semantic_type\": \"\",\n        \"description\": \"\"\n      }\n    },\n    {\n      \"column\": \"std\",\n      \"properties\": {\n        \"dtype\": \"number\",\n        \"std\": 0.03552171105239421,\n        \"min\": 1.0493972402771194,\n        \"max\": 1.2080476074555266,\n        \"num_unique_values\": 18,\n        \"samples\": [\n          1.140795398576862,\n          1.1105440972604437,\n          1.1357949903517641\n        ],\n        \"semantic_type\": \"\",\n        \"description\": \"\"\n      }\n    },\n    {\n      \"column\": \"min\",\n      \"properties\": {\n        \"dtype\": \"number\",\n        \"std\": 0.0,\n        \"min\": 1.0,\n        \"max\": 1.0,\n        \"num_unique_values\": 1,\n        \"samples\": [\n          1.0\n        ],\n        \"semantic_type\": \"\",\n        \"description\": \"\"\n      }\n    },\n    {\n      \"column\": \"25%\",\n      \"properties\": {\n        \"dtype\": \"number\",\n        \"std\": 0.4967212761134667,\n        \"min\": 1.0,\n        \"max\": 2.25,\n        \"num_unique_values\": 5,\n        \"samples\": [\n          2.0\n        ],\n        \"semantic_type\": \"\",\n        \"description\": \"\"\n      }\n    },\n    {\n      \"column\": \"50%\",\n      \"properties\": {\n        \"dtype\": \"number\",\n        \"std\": 0.492592183071889,\n        \"min\": 2.0,\n        \"max\": 3.0,\n        \"num_unique_values\": 3,\n        \"samples\": [\n          2.0\n        ],\n        \"semantic_type\": \"\",\n        \"description\": \"\"\n      }\n    },\n    {\n      \"column\": \"75%\",\n      \"properties\": {\n        \"dtype\": \"number\",\n        \"std\": 0.5018348685515163,\n        \"min\": 3.0,\n        \"max\": 4.0,\n        \"num_unique_values\": 3,\n        \"samples\": [\n          3.25\n        ],\n        \"semantic_type\": \"\",\n        \"description\": \"\"\n      }\n    },\n    {\n      \"column\": \"max\",\n      \"properties\": {\n        \"dtype\": \"number\",\n        \"std\": 0.0,\n        \"min\": 4.0,\n        \"max\": 4.0,\n        \"num_unique_values\": 1,\n        \"samples\": [\n          4.0\n        ],\n        \"semantic_type\": \"\",\n        \"description\": \"\"\n      }\n    }\n  ]\n}"
            }
          },
          "metadata": {},
          "execution_count": 58
        }
      ]
    },
    {
      "cell_type": "code",
      "source": [
        "percentage_completed.plot(kind='bar',figsize  =  (10,6))\n",
        "plt.title('Percentage of orders completed by Product category')\n",
        "plt.xlabel('Product category')\n",
        "plt.ylabel('Percentage')\n",
        "\n",
        "plt.show()"
      ],
      "metadata": {
        "colab": {
          "base_uri": "https://localhost:8080/",
          "height": 703
        },
        "id": "kpf9sAX-ve50",
        "outputId": "a3caf23c-8395-441c-89b4-acc62ad7b681"
      },
      "execution_count": null,
      "outputs": [
        {
          "output_type": "display_data",
          "data": {
            "text/plain": [
              "<Figure size 1000x600 with 1 Axes>"
            ],
            "image/png": "[encoded data removed]"
          },
          "metadata": {}
        }
      ]
    },
    {
      "cell_type": "markdown",
      "source": [
        "12)Determine the budget spent on each product category in descending order."
      ],
      "metadata": {
        "id": "e6VVoqwevRfc"
      }
    },
    {
      "cell_type": "code",
      "source": [
        "desc_budget=data1.groupby(\"Product_Category\")['Amount'].sum().sort_values(ascending=False)\n",
        "desc_budget\n"
      ],
      "metadata": {
        "colab": {
          "base_uri": "https://localhost:8080/"
        },
        "id": "mmxvZ2XRvUuU",
        "outputId": "0db1a20a-a118-4451-c797-a37f984934f0"
      },
      "execution_count": null,
      "outputs": [
        {
          "output_type": "execute_result",
          "data": {
            "text/plain": [
              "Product_Category\n",
              "Food                     33933883.50\n",
              "Clothing & Apparel       16495019.00\n",
              "Electronics & Gadgets    15643846.00\n",
              "Footwear & Shoes         15575209.45\n",
              "Furniture                 5440051.99\n",
              "Games & Toys              4331694.00\n",
              "Sports Products           3635933.00\n",
              "Beauty                    1959484.00\n",
              "Auto                      1958609.99\n",
              "Stationery                1676051.50\n",
              "Household items           1569337.00\n",
              "Tupperware                1155642.00\n",
              "Books                     1061478.00\n",
              "Decor                      730360.00\n",
              "Pet Care                   482277.00\n",
              "Hand & Power Tools         405618.00\n",
              "Veterinary                 112702.00\n",
              "Office                      81936.00\n",
              "Name: Amount, dtype: float64"
            ]
          },
          "metadata": {},
          "execution_count": 63
        }
      ]
    },
    {
      "cell_type": "code",
      "source": [
        "desc_budget.plot(kind='bar',figsize  =  (10,6))\n",
        "plt.title('Budget spent on each product category in descending order')\n",
        "plt.xlabel('Product category')\n",
        "plt.ylabel('Budget')\n",
        "\n",
        "plt.show()"
      ],
      "metadata": {
        "colab": {
          "base_uri": "https://localhost:8080/",
          "height": 703
        },
        "id": "R1xuKAs4wa_E",
        "outputId": "b46172b6-b11f-4419-baf4-4edca5b619aa"
      },
      "execution_count": null,
      "outputs": [
        {
          "output_type": "display_data",
          "data": {
            "text/plain": [
              "<Figure size 1000x600 with 1 Axes>"
            ],
            "image/png": "[encoded data removed]"
          },
          "metadata": {}
        }
      ]
    },
    {
      "cell_type": "markdown",
      "source": [
        "13)Conclude with a detailed explanation of the insights gained from the dataset."
      ],
      "metadata": {
        "id": "g09E7yYQwc8T"
      }
    },
    {
      "cell_type": "markdown",
      "source": [
        "1.\tKey Patterns and Trends:\n",
        "\n",
        "Begin by summarizing the main patterns or trends identified in the dataset. For example, \"The dataset revealed a clear upward trend in sales over the past five years, with a notable peak in Q3 of each fiscal year.\n",
        "2.\tCorrelations and Relationships:\n",
        "\n",
        "Discuss any significant correlations or relationships discovered among variables. This could include findings like \"There is a strong positive\n",
        "correlation between advertising expenditures and sales revenue, suggesting that increased marketing efforts directly impact sales performance.\"\n",
        "3.\tAnomalies or Outliers:\n",
        "\n",
        "Highlight any outliers or anomalies that were observed and their potential impact on the analysis. \"An unexpected drop in customer satisfaction scores in a\n",
        "particular region stood out as an anomaly, prompting further investigation into customer service practices in that area.\n",
        "\n",
        "4.\tPredictive Insights:\n",
        "\n",
        " Summarize any predictive insights derived from the data analysis.Based on historical data, a predictive model was developed to forecast future sales with an accuracy of 85%, providing valuable insights for strategic planning and resource allocation.\n",
        "\n",
        "\n",
        "Steps:\n",
        "\n",
        "1.Data Cleaning:\n",
        "\n",
        "Remove or ignore the Status and unnamed1 columns as they contain no useful data. Handle any missing values in the Amount column (e.g., imputation or removal).\n",
        "\n",
        "\n",
        "2.Exploratory Data Analysis (EDA):\n",
        "\n",
        "Analyze the distribution of customers based on gender, age group, and marital status. Investigate the geographical distribution of sales. Study the relationship between occupation and purchasing behavior. Identify top-selling product categories and products.\n",
        "\n",
        "3.Statistical Analysis:\n",
        "\n",
        "Perform correlation analysis to find relationships between different variables (e.g., age and amount spent). Conduct hypothesis testing to see if certain factors significantly impact purchasing behavior.\n",
        "\n",
        "4.Visualization:\n",
        "\n",
        "Create visualizations such as bar charts, pie charts, and histograms to better understand the data. Use scatter plots and box plots to identify patterns and outliers.\n",
        "\n",
        "\n",
        "\n",
        "\n",
        "\n",
        "\n",
        "\n",
        "\n",
        "\n",
        "\n",
        "\n",
        "\n",
        "\n",
        "\n",
        "\n",
        "\n",
        "\n"
      ],
      "metadata": {
        "id": "REFPfXJnwvjL"
      }
    }
  ]
}